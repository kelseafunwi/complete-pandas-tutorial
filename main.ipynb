{
 "cells": [
  {
   "cell_type": "code",
   "execution_count": 4,
   "metadata": {},
   "outputs": [
    {
     "name": "stdout",
     "output_type": "stream",
     "text": [
      "sdf\n"
     ]
    }
   ],
   "source": [
    "import pandas as pd\n",
    "\n",
    "print('sdf')"
   ]
  },
  {
   "cell_type": "code",
   "execution_count": 5,
   "metadata": {},
   "outputs": [
    {
     "name": "stdout",
     "output_type": "stream",
     "text": [
      "    Name  Age      City\n",
      "0   John   28  New York\n",
      "1   Anna   24     Paris\n",
      "2  Peter   35    Berlin\n"
     ]
    }
   ],
   "source": [
    "data = {\n",
    "    'Name': ['John', 'Anna', 'Peter'],\n",
    "    'Age': [28, 24, 35],\n",
    "    'City': ['New York', 'Paris', 'Berlin']\n",
    "}\n",
    "\n",
    "df = pd.DataFrame(data)\n",
    "print(df)"
   ]
  },
  {
   "cell_type": "code",
   "execution_count": 6,
   "metadata": {},
   "outputs": [
    {
     "data": {
      "text/plain": [
       "9"
      ]
     },
     "execution_count": 6,
     "metadata": {},
     "output_type": "execute_result"
    }
   ],
   "source": [
    "df.size"
   ]
  },
  {
   "cell_type": "code",
   "execution_count": 7,
   "metadata": {},
   "outputs": [
    {
     "data": {
      "text/plain": [
       "RangeIndex(start=0, stop=3, step=1)"
      ]
     },
     "execution_count": 7,
     "metadata": {},
     "output_type": "execute_result"
    }
   ],
   "source": [
    "df.index"
   ]
  },
  {
   "cell_type": "code",
   "execution_count": 8,
   "metadata": {},
   "outputs": [
    {
     "name": "stdout",
     "output_type": "stream",
     "text": [
      "    Name  Age      City\n",
      "0   John   28  New York\n",
      "1   Anna   24     Paris\n",
      "2  Peter   35    Berlin\n"
     ]
    }
   ],
   "source": [
    "print(df)"
   ]
  },
  {
   "cell_type": "code",
   "execution_count": 9,
   "metadata": {},
   "outputs": [
    {
     "name": "stdout",
     "output_type": "stream",
     "text": [
      "[[1 2 3]\n",
      " [4 5 6]\n",
      " [7 8 9]]\n",
      "(3, 3)\n",
      "9\n",
      "int64\n",
      "2\n",
      "8\n",
      "72\n",
      "[[1 4 7]\n",
      " [2 5 8]\n",
      " [3 6 9]]\n",
      "[1 2 3 4 5 6 7 8 9]\n",
      "[[1 2 3 4 5 6 7 8 9]]\n",
      "[[1 2 3]\n",
      " [4 5 6]\n",
      " [7 8 9]]\n",
      "[[1]\n",
      " [2]\n",
      " [3]\n",
      " [4]\n",
      " [5]\n",
      " [6]\n",
      " [7]\n",
      " [8]\n",
      " [9]]\n",
      "[[[1]\n",
      "  [2]\n",
      "  [3]]\n",
      "\n",
      " [[4]\n",
      "  [5]\n",
      "  [6]]\n",
      "\n",
      " [[7]\n",
      "  [8]\n",
      "  [9]]]\n",
      "(3, 3, 1)\n",
      "3\n"
     ]
    }
   ],
   "source": [
    "import numpy as np\n",
    "\n",
    "npdata = np.array([[1, 2, 3], [4, 5, 6], [7, 8, 9]])\n",
    "print(npdata)\n",
    "print(npdata.shape)\n",
    "print(npdata.size)\n",
    "print(npdata.dtype)\n",
    "print(npdata.ndim)\n",
    "print(npdata.itemsize)\n",
    "print(npdata.nbytes)\n",
    "print(npdata.T)\n",
    "print(npdata.flatten())\n",
    "print(npdata.reshape(1, 9))\n",
    "print(npdata.reshape(3, 3))\n",
    "print(npdata.reshape(9, 1))\n",
    "print(npdata.reshape(3, 3, 1))\n",
    "print(npdata.reshape(3, 3, 1).shape)\n",
    "print(npdata.reshape(3, 3, 1).ndim)"
   ]
  },
  {
   "cell_type": "code",
   "execution_count": 10,
   "metadata": {},
   "outputs": [
    {
     "name": "stdout",
     "output_type": "stream",
     "text": [
      "          Day Coffee Type  Units Sold\n",
      "0      Monday    Espresso          25\n",
      "1      Monday       Latte          15\n",
      "2     Tuesday    Espresso          30\n",
      "3     Tuesday       Latte          20\n",
      "4   Wednesday    Espresso          35\n",
      "5   Wednesday       Latte          25\n",
      "6    Thursday    Espresso          40\n",
      "7    Thursday       Latte          30\n",
      "8      Friday    Espresso          45\n",
      "9      Friday       Latte          35\n",
      "10   Saturday    Espresso          45\n",
      "11   Saturday       Latte          35\n",
      "12     Sunday    Espresso          45\n",
      "13     Sunday       Latte          35\n"
     ]
    }
   ],
   "source": [
    "df = pd.read_csv('./warmup-data/coffee.csv')\n",
    "print(df)"
   ]
  },
  {
   "cell_type": "code",
   "execution_count": 11,
   "metadata": {},
   "outputs": [
    {
     "name": "stdout",
     "output_type": "stream",
     "text": [
      "   A  B  C\n",
      "x  1  2  3\n",
      "y  4  5  6\n",
      "z  7  8  9\n"
     ]
    }
   ],
   "source": [
    "df = pd.DataFrame([[1, 2, 3], [4, 5, 6], [7, 8, 9]], columns=['A', 'B', 'C'], index=['x', 'y', 'z'])\n",
    "print(df)"
   ]
  },
  {
   "cell_type": "code",
   "execution_count": 12,
   "metadata": {},
   "outputs": [
    {
     "data": {
      "text/plain": [
       "Index(['x', 'y', 'z'], dtype='object')"
      ]
     },
     "execution_count": 12,
     "metadata": {},
     "output_type": "execute_result"
    }
   ],
   "source": [
    "df.index"
   ]
  },
  {
   "cell_type": "code",
   "execution_count": 13,
   "metadata": {},
   "outputs": [
    {
     "name": "stdout",
     "output_type": "stream",
     "text": [
      "<class 'pandas.core.frame.DataFrame'>\n",
      "Index: 3 entries, x to z\n",
      "Data columns (total 3 columns):\n",
      " #   Column  Non-Null Count  Dtype\n",
      "---  ------  --------------  -----\n",
      " 0   A       3 non-null      int64\n",
      " 1   B       3 non-null      int64\n",
      " 2   C       3 non-null      int64\n",
      "dtypes: int64(3)\n",
      "memory usage: 204.0+ bytes\n"
     ]
    }
   ],
   "source": [
    "df.info()"
   ]
  },
  {
   "cell_type": "code",
   "execution_count": 14,
   "metadata": {},
   "outputs": [
    {
     "data": {
      "application/vnd.microsoft.datawrangler.viewer.v0+json": {
       "columns": [
        {
         "name": "index",
         "rawType": "object",
         "type": "string"
        },
        {
         "name": "A",
         "rawType": "float64",
         "type": "float"
        },
        {
         "name": "B",
         "rawType": "float64",
         "type": "float"
        },
        {
         "name": "C",
         "rawType": "float64",
         "type": "float"
        }
       ],
       "conversionMethod": "pd.DataFrame",
       "ref": "dadb3b6e-c918-4782-a091-9c0cb7801514",
       "rows": [
        [
         "count",
         "3.0",
         "3.0",
         "3.0"
        ],
        [
         "mean",
         "4.0",
         "5.0",
         "6.0"
        ],
        [
         "std",
         "3.0",
         "3.0",
         "3.0"
        ],
        [
         "min",
         "1.0",
         "2.0",
         "3.0"
        ],
        [
         "25%",
         "2.5",
         "3.5",
         "4.5"
        ],
        [
         "50%",
         "4.0",
         "5.0",
         "6.0"
        ],
        [
         "75%",
         "5.5",
         "6.5",
         "7.5"
        ],
        [
         "max",
         "7.0",
         "8.0",
         "9.0"
        ]
       ],
       "shape": {
        "columns": 3,
        "rows": 8
       }
      },
      "text/html": [
       "<div>\n",
       "<style scoped>\n",
       "    .dataframe tbody tr th:only-of-type {\n",
       "        vertical-align: middle;\n",
       "    }\n",
       "\n",
       "    .dataframe tbody tr th {\n",
       "        vertical-align: top;\n",
       "    }\n",
       "\n",
       "    .dataframe thead th {\n",
       "        text-align: right;\n",
       "    }\n",
       "</style>\n",
       "<table border=\"1\" class=\"dataframe\">\n",
       "  <thead>\n",
       "    <tr style=\"text-align: right;\">\n",
       "      <th></th>\n",
       "      <th>A</th>\n",
       "      <th>B</th>\n",
       "      <th>C</th>\n",
       "    </tr>\n",
       "  </thead>\n",
       "  <tbody>\n",
       "    <tr>\n",
       "      <th>count</th>\n",
       "      <td>3.0</td>\n",
       "      <td>3.0</td>\n",
       "      <td>3.0</td>\n",
       "    </tr>\n",
       "    <tr>\n",
       "      <th>mean</th>\n",
       "      <td>4.0</td>\n",
       "      <td>5.0</td>\n",
       "      <td>6.0</td>\n",
       "    </tr>\n",
       "    <tr>\n",
       "      <th>std</th>\n",
       "      <td>3.0</td>\n",
       "      <td>3.0</td>\n",
       "      <td>3.0</td>\n",
       "    </tr>\n",
       "    <tr>\n",
       "      <th>min</th>\n",
       "      <td>1.0</td>\n",
       "      <td>2.0</td>\n",
       "      <td>3.0</td>\n",
       "    </tr>\n",
       "    <tr>\n",
       "      <th>25%</th>\n",
       "      <td>2.5</td>\n",
       "      <td>3.5</td>\n",
       "      <td>4.5</td>\n",
       "    </tr>\n",
       "    <tr>\n",
       "      <th>50%</th>\n",
       "      <td>4.0</td>\n",
       "      <td>5.0</td>\n",
       "      <td>6.0</td>\n",
       "    </tr>\n",
       "    <tr>\n",
       "      <th>75%</th>\n",
       "      <td>5.5</td>\n",
       "      <td>6.5</td>\n",
       "      <td>7.5</td>\n",
       "    </tr>\n",
       "    <tr>\n",
       "      <th>max</th>\n",
       "      <td>7.0</td>\n",
       "      <td>8.0</td>\n",
       "      <td>9.0</td>\n",
       "    </tr>\n",
       "  </tbody>\n",
       "</table>\n",
       "</div>"
      ],
      "text/plain": [
       "         A    B    C\n",
       "count  3.0  3.0  3.0\n",
       "mean   4.0  5.0  6.0\n",
       "std    3.0  3.0  3.0\n",
       "min    1.0  2.0  3.0\n",
       "25%    2.5  3.5  4.5\n",
       "50%    4.0  5.0  6.0\n",
       "75%    5.5  6.5  7.5\n",
       "max    7.0  8.0  9.0"
      ]
     },
     "execution_count": 14,
     "metadata": {},
     "output_type": "execute_result"
    }
   ],
   "source": [
    "df.describe()"
   ]
  },
  {
   "cell_type": "code",
   "execution_count": 15,
   "metadata": {},
   "outputs": [
    {
     "data": {
      "text/plain": [
       "A    3\n",
       "B    3\n",
       "C    3\n",
       "dtype: int64"
      ]
     },
     "execution_count": 15,
     "metadata": {},
     "output_type": "execute_result"
    }
   ],
   "source": [
    "df.nunique()"
   ]
  },
  {
   "cell_type": "code",
   "execution_count": 16,
   "metadata": {},
   "outputs": [
    {
     "data": {
      "text/plain": [
       "array([1, 4, 7])"
      ]
     },
     "execution_count": 16,
     "metadata": {},
     "output_type": "execute_result"
    }
   ],
   "source": [
    "df['A'].unique()"
   ]
  },
  {
   "cell_type": "code",
   "execution_count": 17,
   "metadata": {},
   "outputs": [
    {
     "data": {
      "text/plain": [
       "3"
      ]
     },
     "execution_count": 17,
     "metadata": {},
     "output_type": "execute_result"
    }
   ],
   "source": [
    "df['A'].nunique()"
   ]
  },
  {
   "cell_type": "code",
   "execution_count": 18,
   "metadata": {},
   "outputs": [
    {
     "data": {
      "text/plain": [
       "(3, 3)"
      ]
     },
     "execution_count": 18,
     "metadata": {},
     "output_type": "execute_result"
    }
   ],
   "source": [
    "df.shape"
   ]
  },
  {
   "cell_type": "code",
   "execution_count": 19,
   "metadata": {},
   "outputs": [
    {
     "name": "stdout",
     "output_type": "stream",
     "text": [
      "<class 'pandas.core.frame.DataFrame'>\n",
      "Index: 3 entries, x to z\n",
      "Data columns (total 3 columns):\n",
      " #   Column  Non-Null Count  Dtype\n",
      "---  ------  --------------  -----\n",
      " 0   A       3 non-null      int64\n",
      " 1   B       3 non-null      int64\n",
      " 2   C       3 non-null      int64\n",
      "dtypes: int64(3)\n",
      "memory usage: 204.0+ bytes\n"
     ]
    }
   ],
   "source": [
    "df.info()"
   ]
  },
  {
   "cell_type": "code",
   "execution_count": 21,
   "metadata": {},
   "outputs": [],
   "source": [
    "coffee = pd.read_csv('./warmup-data/coffee.csv')"
   ]
  },
  {
   "cell_type": "code",
   "execution_count": 22,
   "metadata": {},
   "outputs": [
    {
     "data": {
      "application/vnd.microsoft.datawrangler.viewer.v0+json": {
       "columns": [
        {
         "name": "index",
         "rawType": "int64",
         "type": "integer"
        },
        {
         "name": "Day",
         "rawType": "object",
         "type": "string"
        },
        {
         "name": "Coffee Type",
         "rawType": "object",
         "type": "string"
        },
        {
         "name": "Units Sold",
         "rawType": "int64",
         "type": "integer"
        }
       ],
       "conversionMethod": "pd.DataFrame",
       "ref": "82b53482-169c-42c1-9d8b-0a702d815595",
       "rows": [
        [
         "0",
         "Monday",
         "Espresso",
         "25"
        ],
        [
         "1",
         "Monday",
         "Latte",
         "15"
        ],
        [
         "2",
         "Tuesday",
         "Espresso",
         "30"
        ],
        [
         "3",
         "Tuesday",
         "Latte",
         "20"
        ],
        [
         "4",
         "Wednesday",
         "Espresso",
         "35"
        ]
       ],
       "shape": {
        "columns": 3,
        "rows": 5
       }
      },
      "text/html": [
       "<div>\n",
       "<style scoped>\n",
       "    .dataframe tbody tr th:only-of-type {\n",
       "        vertical-align: middle;\n",
       "    }\n",
       "\n",
       "    .dataframe tbody tr th {\n",
       "        vertical-align: top;\n",
       "    }\n",
       "\n",
       "    .dataframe thead th {\n",
       "        text-align: right;\n",
       "    }\n",
       "</style>\n",
       "<table border=\"1\" class=\"dataframe\">\n",
       "  <thead>\n",
       "    <tr style=\"text-align: right;\">\n",
       "      <th></th>\n",
       "      <th>Day</th>\n",
       "      <th>Coffee Type</th>\n",
       "      <th>Units Sold</th>\n",
       "    </tr>\n",
       "  </thead>\n",
       "  <tbody>\n",
       "    <tr>\n",
       "      <th>0</th>\n",
       "      <td>Monday</td>\n",
       "      <td>Espresso</td>\n",
       "      <td>25</td>\n",
       "    </tr>\n",
       "    <tr>\n",
       "      <th>1</th>\n",
       "      <td>Monday</td>\n",
       "      <td>Latte</td>\n",
       "      <td>15</td>\n",
       "    </tr>\n",
       "    <tr>\n",
       "      <th>2</th>\n",
       "      <td>Tuesday</td>\n",
       "      <td>Espresso</td>\n",
       "      <td>30</td>\n",
       "    </tr>\n",
       "    <tr>\n",
       "      <th>3</th>\n",
       "      <td>Tuesday</td>\n",
       "      <td>Latte</td>\n",
       "      <td>20</td>\n",
       "    </tr>\n",
       "    <tr>\n",
       "      <th>4</th>\n",
       "      <td>Wednesday</td>\n",
       "      <td>Espresso</td>\n",
       "      <td>35</td>\n",
       "    </tr>\n",
       "  </tbody>\n",
       "</table>\n",
       "</div>"
      ],
      "text/plain": [
       "         Day Coffee Type  Units Sold\n",
       "0     Monday    Espresso          25\n",
       "1     Monday       Latte          15\n",
       "2    Tuesday    Espresso          30\n",
       "3    Tuesday       Latte          20\n",
       "4  Wednesday    Espresso          35"
      ]
     },
     "execution_count": 22,
     "metadata": {},
     "output_type": "execute_result"
    }
   ],
   "source": [
    "coffee.head()"
   ]
  },
  {
   "cell_type": "code",
   "execution_count": 25,
   "metadata": {},
   "outputs": [],
   "source": [
    "results = pd.read_parquet('./data/results.parquet')"
   ]
  },
  {
   "cell_type": "code",
   "execution_count": 26,
   "metadata": {},
   "outputs": [
    {
     "data": {
      "application/vnd.microsoft.datawrangler.viewer.v0+json": {
       "columns": [
        {
         "name": "index",
         "rawType": "int64",
         "type": "integer"
        },
        {
         "name": "year",
         "rawType": "float64",
         "type": "float"
        },
        {
         "name": "type",
         "rawType": "object",
         "type": "string"
        },
        {
         "name": "discipline",
         "rawType": "object",
         "type": "string"
        },
        {
         "name": "event",
         "rawType": "object",
         "type": "string"
        },
        {
         "name": "as",
         "rawType": "object",
         "type": "string"
        },
        {
         "name": "athlete_id",
         "rawType": "int64",
         "type": "integer"
        },
        {
         "name": "noc",
         "rawType": "object",
         "type": "string"
        },
        {
         "name": "team",
         "rawType": "object",
         "type": "unknown"
        },
        {
         "name": "place",
         "rawType": "float64",
         "type": "float"
        },
        {
         "name": "tied",
         "rawType": "bool",
         "type": "boolean"
        },
        {
         "name": "medal",
         "rawType": "object",
         "type": "unknown"
        }
       ],
       "conversionMethod": "pd.DataFrame",
       "ref": "81f06309-b2da-4020-8bb3-51c8bb07d79d",
       "rows": [
        [
         "0",
         "1912.0",
         "Summer",
         "Tennis",
         "Singles, Men (Olympic)",
         "Jean-François Blanchy",
         "1",
         "FRA",
         null,
         "17.0",
         "True",
         null
        ],
        [
         "1",
         "1912.0",
         "Summer",
         "Tennis",
         "Doubles, Men (Olympic)",
         "Jean-François Blanchy",
         "1",
         "FRA",
         "Jean Montariol",
         null,
         "False",
         null
        ],
        [
         "2",
         "1920.0",
         "Summer",
         "Tennis",
         "Singles, Men (Olympic)",
         "Jean-François Blanchy",
         "1",
         "FRA",
         null,
         "32.0",
         "True",
         null
        ],
        [
         "3",
         "1920.0",
         "Summer",
         "Tennis",
         "Doubles, Mixed (Olympic)",
         "Jean-François Blanchy",
         "1",
         "FRA",
         "Jeanne Vaussard",
         "8.0",
         "True",
         null
        ],
        [
         "4",
         "1920.0",
         "Summer",
         "Tennis",
         "Doubles, Men (Olympic)",
         "Jean-François Blanchy",
         "1",
         "FRA",
         "Jacques Brugnon",
         "4.0",
         "False",
         null
        ]
       ],
       "shape": {
        "columns": 11,
        "rows": 5
       }
      },
      "text/html": [
       "<div>\n",
       "<style scoped>\n",
       "    .dataframe tbody tr th:only-of-type {\n",
       "        vertical-align: middle;\n",
       "    }\n",
       "\n",
       "    .dataframe tbody tr th {\n",
       "        vertical-align: top;\n",
       "    }\n",
       "\n",
       "    .dataframe thead th {\n",
       "        text-align: right;\n",
       "    }\n",
       "</style>\n",
       "<table border=\"1\" class=\"dataframe\">\n",
       "  <thead>\n",
       "    <tr style=\"text-align: right;\">\n",
       "      <th></th>\n",
       "      <th>year</th>\n",
       "      <th>type</th>\n",
       "      <th>discipline</th>\n",
       "      <th>event</th>\n",
       "      <th>as</th>\n",
       "      <th>athlete_id</th>\n",
       "      <th>noc</th>\n",
       "      <th>team</th>\n",
       "      <th>place</th>\n",
       "      <th>tied</th>\n",
       "      <th>medal</th>\n",
       "    </tr>\n",
       "  </thead>\n",
       "  <tbody>\n",
       "    <tr>\n",
       "      <th>0</th>\n",
       "      <td>1912.0</td>\n",
       "      <td>Summer</td>\n",
       "      <td>Tennis</td>\n",
       "      <td>Singles, Men (Olympic)</td>\n",
       "      <td>Jean-François Blanchy</td>\n",
       "      <td>1</td>\n",
       "      <td>FRA</td>\n",
       "      <td>None</td>\n",
       "      <td>17.0</td>\n",
       "      <td>True</td>\n",
       "      <td>None</td>\n",
       "    </tr>\n",
       "    <tr>\n",
       "      <th>1</th>\n",
       "      <td>1912.0</td>\n",
       "      <td>Summer</td>\n",
       "      <td>Tennis</td>\n",
       "      <td>Doubles, Men (Olympic)</td>\n",
       "      <td>Jean-François Blanchy</td>\n",
       "      <td>1</td>\n",
       "      <td>FRA</td>\n",
       "      <td>Jean Montariol</td>\n",
       "      <td>NaN</td>\n",
       "      <td>False</td>\n",
       "      <td>None</td>\n",
       "    </tr>\n",
       "    <tr>\n",
       "      <th>2</th>\n",
       "      <td>1920.0</td>\n",
       "      <td>Summer</td>\n",
       "      <td>Tennis</td>\n",
       "      <td>Singles, Men (Olympic)</td>\n",
       "      <td>Jean-François Blanchy</td>\n",
       "      <td>1</td>\n",
       "      <td>FRA</td>\n",
       "      <td>None</td>\n",
       "      <td>32.0</td>\n",
       "      <td>True</td>\n",
       "      <td>None</td>\n",
       "    </tr>\n",
       "    <tr>\n",
       "      <th>3</th>\n",
       "      <td>1920.0</td>\n",
       "      <td>Summer</td>\n",
       "      <td>Tennis</td>\n",
       "      <td>Doubles, Mixed (Olympic)</td>\n",
       "      <td>Jean-François Blanchy</td>\n",
       "      <td>1</td>\n",
       "      <td>FRA</td>\n",
       "      <td>Jeanne Vaussard</td>\n",
       "      <td>8.0</td>\n",
       "      <td>True</td>\n",
       "      <td>None</td>\n",
       "    </tr>\n",
       "    <tr>\n",
       "      <th>4</th>\n",
       "      <td>1920.0</td>\n",
       "      <td>Summer</td>\n",
       "      <td>Tennis</td>\n",
       "      <td>Doubles, Men (Olympic)</td>\n",
       "      <td>Jean-François Blanchy</td>\n",
       "      <td>1</td>\n",
       "      <td>FRA</td>\n",
       "      <td>Jacques Brugnon</td>\n",
       "      <td>4.0</td>\n",
       "      <td>False</td>\n",
       "      <td>None</td>\n",
       "    </tr>\n",
       "  </tbody>\n",
       "</table>\n",
       "</div>"
      ],
      "text/plain": [
       "     year    type discipline                     event                     as  \\\n",
       "0  1912.0  Summer     Tennis    Singles, Men (Olympic)  Jean-François Blanchy   \n",
       "1  1912.0  Summer     Tennis    Doubles, Men (Olympic)  Jean-François Blanchy   \n",
       "2  1920.0  Summer     Tennis    Singles, Men (Olympic)  Jean-François Blanchy   \n",
       "3  1920.0  Summer     Tennis  Doubles, Mixed (Olympic)  Jean-François Blanchy   \n",
       "4  1920.0  Summer     Tennis    Doubles, Men (Olympic)  Jean-François Blanchy   \n",
       "\n",
       "   athlete_id  noc             team  place   tied medal  \n",
       "0           1  FRA             None   17.0   True  None  \n",
       "1           1  FRA   Jean Montariol    NaN  False  None  \n",
       "2           1  FRA             None   32.0   True  None  \n",
       "3           1  FRA  Jeanne Vaussard    8.0   True  None  \n",
       "4           1  FRA  Jacques Brugnon    4.0  False  None  "
      ]
     },
     "execution_count": 26,
     "metadata": {},
     "output_type": "execute_result"
    }
   ],
   "source": [
    "results.head()"
   ]
  },
  {
   "cell_type": "code",
   "execution_count": 27,
   "metadata": {},
   "outputs": [],
   "source": [
    "olympics_data = pd.read_excel('./data/olympics-data.xlsx')"
   ]
  },
  {
   "cell_type": "code",
   "execution_count": 28,
   "metadata": {},
   "outputs": [
    {
     "data": {
      "application/vnd.microsoft.datawrangler.viewer.v0+json": {
       "columns": [
        {
         "name": "index",
         "rawType": "int64",
         "type": "integer"
        },
        {
         "name": "athlete_id",
         "rawType": "int64",
         "type": "integer"
        },
        {
         "name": "name",
         "rawType": "object",
         "type": "string"
        },
        {
         "name": "born_date",
         "rawType": "object",
         "type": "string"
        },
        {
         "name": "born_city",
         "rawType": "object",
         "type": "string"
        },
        {
         "name": "born_region",
         "rawType": "object",
         "type": "string"
        },
        {
         "name": "born_country",
         "rawType": "object",
         "type": "string"
        },
        {
         "name": "NOC",
         "rawType": "object",
         "type": "string"
        },
        {
         "name": "height_cm",
         "rawType": "float64",
         "type": "float"
        },
        {
         "name": "weight_kg",
         "rawType": "float64",
         "type": "float"
        },
        {
         "name": "died_date",
         "rawType": "object",
         "type": "unknown"
        }
       ],
       "conversionMethod": "pd.DataFrame",
       "ref": "756d76c4-7e77-469f-9506-ec053cba4398",
       "rows": [
        [
         "0",
         "1",
         "Jean-François Blanchy",
         "1886-12-12",
         "Bordeaux",
         "Gironde",
         "FRA",
         "France",
         null,
         null,
         "1960-10-02"
        ],
        [
         "1",
         "2",
         "Arnaud Boetsch",
         "1969-04-01",
         "Meulan",
         "Yvelines",
         "FRA",
         "France",
         "183.0",
         "76.0",
         null
        ],
        [
         "2",
         "3",
         "Jean Borotra",
         "1898-08-13",
         "Biarritz",
         "Pyrénées-Atlantiques",
         "FRA",
         "France",
         "183.0",
         "76.0",
         "1994-07-17"
        ],
        [
         "3",
         "4",
         "Jacques Brugnon",
         "1895-05-11",
         "Paris VIIIe",
         "Paris",
         "FRA",
         "France",
         "168.0",
         "64.0",
         "1978-03-20"
        ],
        [
         "4",
         "5",
         "Albert Canet",
         "1878-04-17",
         "Wandsworth",
         "England",
         "GBR",
         "France",
         null,
         null,
         "1930-07-25"
        ]
       ],
       "shape": {
        "columns": 10,
        "rows": 5
       }
      },
      "text/html": [
       "<div>\n",
       "<style scoped>\n",
       "    .dataframe tbody tr th:only-of-type {\n",
       "        vertical-align: middle;\n",
       "    }\n",
       "\n",
       "    .dataframe tbody tr th {\n",
       "        vertical-align: top;\n",
       "    }\n",
       "\n",
       "    .dataframe thead th {\n",
       "        text-align: right;\n",
       "    }\n",
       "</style>\n",
       "<table border=\"1\" class=\"dataframe\">\n",
       "  <thead>\n",
       "    <tr style=\"text-align: right;\">\n",
       "      <th></th>\n",
       "      <th>athlete_id</th>\n",
       "      <th>name</th>\n",
       "      <th>born_date</th>\n",
       "      <th>born_city</th>\n",
       "      <th>born_region</th>\n",
       "      <th>born_country</th>\n",
       "      <th>NOC</th>\n",
       "      <th>height_cm</th>\n",
       "      <th>weight_kg</th>\n",
       "      <th>died_date</th>\n",
       "    </tr>\n",
       "  </thead>\n",
       "  <tbody>\n",
       "    <tr>\n",
       "      <th>0</th>\n",
       "      <td>1</td>\n",
       "      <td>Jean-François Blanchy</td>\n",
       "      <td>1886-12-12</td>\n",
       "      <td>Bordeaux</td>\n",
       "      <td>Gironde</td>\n",
       "      <td>FRA</td>\n",
       "      <td>France</td>\n",
       "      <td>NaN</td>\n",
       "      <td>NaN</td>\n",
       "      <td>1960-10-02</td>\n",
       "    </tr>\n",
       "    <tr>\n",
       "      <th>1</th>\n",
       "      <td>2</td>\n",
       "      <td>Arnaud Boetsch</td>\n",
       "      <td>1969-04-01</td>\n",
       "      <td>Meulan</td>\n",
       "      <td>Yvelines</td>\n",
       "      <td>FRA</td>\n",
       "      <td>France</td>\n",
       "      <td>183.0</td>\n",
       "      <td>76.0</td>\n",
       "      <td>NaN</td>\n",
       "    </tr>\n",
       "    <tr>\n",
       "      <th>2</th>\n",
       "      <td>3</td>\n",
       "      <td>Jean Borotra</td>\n",
       "      <td>1898-08-13</td>\n",
       "      <td>Biarritz</td>\n",
       "      <td>Pyrénées-Atlantiques</td>\n",
       "      <td>FRA</td>\n",
       "      <td>France</td>\n",
       "      <td>183.0</td>\n",
       "      <td>76.0</td>\n",
       "      <td>1994-07-17</td>\n",
       "    </tr>\n",
       "    <tr>\n",
       "      <th>3</th>\n",
       "      <td>4</td>\n",
       "      <td>Jacques Brugnon</td>\n",
       "      <td>1895-05-11</td>\n",
       "      <td>Paris VIIIe</td>\n",
       "      <td>Paris</td>\n",
       "      <td>FRA</td>\n",
       "      <td>France</td>\n",
       "      <td>168.0</td>\n",
       "      <td>64.0</td>\n",
       "      <td>1978-03-20</td>\n",
       "    </tr>\n",
       "    <tr>\n",
       "      <th>4</th>\n",
       "      <td>5</td>\n",
       "      <td>Albert Canet</td>\n",
       "      <td>1878-04-17</td>\n",
       "      <td>Wandsworth</td>\n",
       "      <td>England</td>\n",
       "      <td>GBR</td>\n",
       "      <td>France</td>\n",
       "      <td>NaN</td>\n",
       "      <td>NaN</td>\n",
       "      <td>1930-07-25</td>\n",
       "    </tr>\n",
       "  </tbody>\n",
       "</table>\n",
       "</div>"
      ],
      "text/plain": [
       "   athlete_id                   name   born_date    born_city  \\\n",
       "0           1  Jean-François Blanchy  1886-12-12     Bordeaux   \n",
       "1           2         Arnaud Boetsch  1969-04-01       Meulan   \n",
       "2           3           Jean Borotra  1898-08-13     Biarritz   \n",
       "3           4        Jacques Brugnon  1895-05-11  Paris VIIIe   \n",
       "4           5           Albert Canet  1878-04-17   Wandsworth   \n",
       "\n",
       "            born_region born_country     NOC  height_cm  weight_kg   died_date  \n",
       "0               Gironde          FRA  France        NaN        NaN  1960-10-02  \n",
       "1              Yvelines          FRA  France      183.0       76.0         NaN  \n",
       "2  Pyrénées-Atlantiques          FRA  France      183.0       76.0  1994-07-17  \n",
       "3                 Paris          FRA  France      168.0       64.0  1978-03-20  \n",
       "4               England          GBR  France        NaN        NaN  1930-07-25  "
      ]
     },
     "execution_count": 28,
     "metadata": {},
     "output_type": "execute_result"
    }
   ],
   "source": [
    "olympics_data.head()"
   ]
  },
  {
   "cell_type": "code",
   "execution_count": 29,
   "metadata": {},
   "outputs": [
    {
     "data": {
      "application/vnd.microsoft.datawrangler.viewer.v0+json": {
       "columns": [
        {
         "name": "index",
         "rawType": "int64",
         "type": "integer"
        },
        {
         "name": "athlete_id",
         "rawType": "int64",
         "type": "integer"
        },
        {
         "name": "name",
         "rawType": "object",
         "type": "string"
        },
        {
         "name": "born_date",
         "rawType": "object",
         "type": "string"
        },
        {
         "name": "born_city",
         "rawType": "object",
         "type": "string"
        },
        {
         "name": "born_region",
         "rawType": "object",
         "type": "string"
        },
        {
         "name": "born_country",
         "rawType": "object",
         "type": "string"
        },
        {
         "name": "NOC",
         "rawType": "object",
         "type": "string"
        },
        {
         "name": "height_cm",
         "rawType": "float64",
         "type": "float"
        },
        {
         "name": "weight_kg",
         "rawType": "float64",
         "type": "float"
        },
        {
         "name": "died_date",
         "rawType": "object",
         "type": "unknown"
        }
       ],
       "conversionMethod": "pd.DataFrame",
       "ref": "4deb2520-307c-4dd7-ae85-80b3015b192a",
       "rows": [
        [
         "0",
         "1",
         "Jean-François Blanchy",
         "1886-12-12",
         "Bordeaux",
         "Gironde",
         "FRA",
         "France",
         null,
         null,
         "1960-10-02"
        ],
        [
         "1",
         "2",
         "Arnaud Boetsch",
         "1969-04-01",
         "Meulan",
         "Yvelines",
         "FRA",
         "France",
         "183.0",
         "76.0",
         null
        ],
        [
         "2",
         "3",
         "Jean Borotra",
         "1898-08-13",
         "Biarritz",
         "Pyrénées-Atlantiques",
         "FRA",
         "France",
         "183.0",
         "76.0",
         "1994-07-17"
        ],
        [
         "3",
         "4",
         "Jacques Brugnon",
         "1895-05-11",
         "Paris VIIIe",
         "Paris",
         "FRA",
         "France",
         "168.0",
         "64.0",
         "1978-03-20"
        ],
        [
         "4",
         "5",
         "Albert Canet",
         "1878-04-17",
         "Wandsworth",
         "England",
         "GBR",
         "France",
         null,
         null,
         "1930-07-25"
        ]
       ],
       "shape": {
        "columns": 10,
        "rows": 5
       }
      },
      "text/html": [
       "<div>\n",
       "<style scoped>\n",
       "    .dataframe tbody tr th:only-of-type {\n",
       "        vertical-align: middle;\n",
       "    }\n",
       "\n",
       "    .dataframe tbody tr th {\n",
       "        vertical-align: top;\n",
       "    }\n",
       "\n",
       "    .dataframe thead th {\n",
       "        text-align: right;\n",
       "    }\n",
       "</style>\n",
       "<table border=\"1\" class=\"dataframe\">\n",
       "  <thead>\n",
       "    <tr style=\"text-align: right;\">\n",
       "      <th></th>\n",
       "      <th>athlete_id</th>\n",
       "      <th>name</th>\n",
       "      <th>born_date</th>\n",
       "      <th>born_city</th>\n",
       "      <th>born_region</th>\n",
       "      <th>born_country</th>\n",
       "      <th>NOC</th>\n",
       "      <th>height_cm</th>\n",
       "      <th>weight_kg</th>\n",
       "      <th>died_date</th>\n",
       "    </tr>\n",
       "  </thead>\n",
       "  <tbody>\n",
       "    <tr>\n",
       "      <th>0</th>\n",
       "      <td>1</td>\n",
       "      <td>Jean-François Blanchy</td>\n",
       "      <td>1886-12-12</td>\n",
       "      <td>Bordeaux</td>\n",
       "      <td>Gironde</td>\n",
       "      <td>FRA</td>\n",
       "      <td>France</td>\n",
       "      <td>NaN</td>\n",
       "      <td>NaN</td>\n",
       "      <td>1960-10-02</td>\n",
       "    </tr>\n",
       "    <tr>\n",
       "      <th>1</th>\n",
       "      <td>2</td>\n",
       "      <td>Arnaud Boetsch</td>\n",
       "      <td>1969-04-01</td>\n",
       "      <td>Meulan</td>\n",
       "      <td>Yvelines</td>\n",
       "      <td>FRA</td>\n",
       "      <td>France</td>\n",
       "      <td>183.0</td>\n",
       "      <td>76.0</td>\n",
       "      <td>NaN</td>\n",
       "    </tr>\n",
       "    <tr>\n",
       "      <th>2</th>\n",
       "      <td>3</td>\n",
       "      <td>Jean Borotra</td>\n",
       "      <td>1898-08-13</td>\n",
       "      <td>Biarritz</td>\n",
       "      <td>Pyrénées-Atlantiques</td>\n",
       "      <td>FRA</td>\n",
       "      <td>France</td>\n",
       "      <td>183.0</td>\n",
       "      <td>76.0</td>\n",
       "      <td>1994-07-17</td>\n",
       "    </tr>\n",
       "    <tr>\n",
       "      <th>3</th>\n",
       "      <td>4</td>\n",
       "      <td>Jacques Brugnon</td>\n",
       "      <td>1895-05-11</td>\n",
       "      <td>Paris VIIIe</td>\n",
       "      <td>Paris</td>\n",
       "      <td>FRA</td>\n",
       "      <td>France</td>\n",
       "      <td>168.0</td>\n",
       "      <td>64.0</td>\n",
       "      <td>1978-03-20</td>\n",
       "    </tr>\n",
       "    <tr>\n",
       "      <th>4</th>\n",
       "      <td>5</td>\n",
       "      <td>Albert Canet</td>\n",
       "      <td>1878-04-17</td>\n",
       "      <td>Wandsworth</td>\n",
       "      <td>England</td>\n",
       "      <td>GBR</td>\n",
       "      <td>France</td>\n",
       "      <td>NaN</td>\n",
       "      <td>NaN</td>\n",
       "      <td>1930-07-25</td>\n",
       "    </tr>\n",
       "  </tbody>\n",
       "</table>\n",
       "</div>"
      ],
      "text/plain": [
       "   athlete_id                   name   born_date    born_city  \\\n",
       "0           1  Jean-François Blanchy  1886-12-12     Bordeaux   \n",
       "1           2         Arnaud Boetsch  1969-04-01       Meulan   \n",
       "2           3           Jean Borotra  1898-08-13     Biarritz   \n",
       "3           4        Jacques Brugnon  1895-05-11  Paris VIIIe   \n",
       "4           5           Albert Canet  1878-04-17   Wandsworth   \n",
       "\n",
       "            born_region born_country     NOC  height_cm  weight_kg   died_date  \n",
       "0               Gironde          FRA  France        NaN        NaN  1960-10-02  \n",
       "1              Yvelines          FRA  France      183.0       76.0         NaN  \n",
       "2  Pyrénées-Atlantiques          FRA  France      183.0       76.0  1994-07-17  \n",
       "3                 Paris          FRA  France      168.0       64.0  1978-03-20  \n",
       "4               England          GBR  France        NaN        NaN  1930-07-25  "
      ]
     },
     "execution_count": 29,
     "metadata": {},
     "output_type": "execute_result"
    }
   ],
   "source": [
    "bios = pd.read_csv('./data/bios.csv')\n",
    "bios.head()"
   ]
  },
  {
   "cell_type": "code",
   "execution_count": 30,
   "metadata": {},
   "outputs": [
    {
     "data": {
      "application/vnd.microsoft.datawrangler.viewer.v0+json": {
       "columns": [
        {
         "name": "index",
         "rawType": "int64",
         "type": "integer"
        },
        {
         "name": "Day",
         "rawType": "object",
         "type": "string"
        },
        {
         "name": "Coffee Type",
         "rawType": "object",
         "type": "string"
        },
        {
         "name": "Units Sold",
         "rawType": "int64",
         "type": "integer"
        }
       ],
       "conversionMethod": "pd.DataFrame",
       "ref": "cc4f877f-4825-4b2f-9911-df085d471393",
       "rows": [
        [
         "0",
         "Monday",
         "Espresso",
         "25"
        ],
        [
         "1",
         "Monday",
         "Latte",
         "15"
        ],
        [
         "2",
         "Tuesday",
         "Espresso",
         "30"
        ],
        [
         "3",
         "Tuesday",
         "Latte",
         "20"
        ],
        [
         "4",
         "Wednesday",
         "Espresso",
         "35"
        ],
        [
         "5",
         "Wednesday",
         "Latte",
         "25"
        ],
        [
         "6",
         "Thursday",
         "Espresso",
         "40"
        ],
        [
         "7",
         "Thursday",
         "Latte",
         "30"
        ],
        [
         "8",
         "Friday",
         "Espresso",
         "45"
        ],
        [
         "9",
         "Friday",
         "Latte",
         "35"
        ],
        [
         "10",
         "Saturday",
         "Espresso",
         "45"
        ],
        [
         "11",
         "Saturday",
         "Latte",
         "35"
        ],
        [
         "12",
         "Sunday",
         "Espresso",
         "45"
        ],
        [
         "13",
         "Sunday",
         "Latte",
         "35"
        ]
       ],
       "shape": {
        "columns": 3,
        "rows": 14
       }
      },
      "text/html": [
       "<div>\n",
       "<style scoped>\n",
       "    .dataframe tbody tr th:only-of-type {\n",
       "        vertical-align: middle;\n",
       "    }\n",
       "\n",
       "    .dataframe tbody tr th {\n",
       "        vertical-align: top;\n",
       "    }\n",
       "\n",
       "    .dataframe thead th {\n",
       "        text-align: right;\n",
       "    }\n",
       "</style>\n",
       "<table border=\"1\" class=\"dataframe\">\n",
       "  <thead>\n",
       "    <tr style=\"text-align: right;\">\n",
       "      <th></th>\n",
       "      <th>Day</th>\n",
       "      <th>Coffee Type</th>\n",
       "      <th>Units Sold</th>\n",
       "    </tr>\n",
       "  </thead>\n",
       "  <tbody>\n",
       "    <tr>\n",
       "      <th>0</th>\n",
       "      <td>Monday</td>\n",
       "      <td>Espresso</td>\n",
       "      <td>25</td>\n",
       "    </tr>\n",
       "    <tr>\n",
       "      <th>1</th>\n",
       "      <td>Monday</td>\n",
       "      <td>Latte</td>\n",
       "      <td>15</td>\n",
       "    </tr>\n",
       "    <tr>\n",
       "      <th>2</th>\n",
       "      <td>Tuesday</td>\n",
       "      <td>Espresso</td>\n",
       "      <td>30</td>\n",
       "    </tr>\n",
       "    <tr>\n",
       "      <th>3</th>\n",
       "      <td>Tuesday</td>\n",
       "      <td>Latte</td>\n",
       "      <td>20</td>\n",
       "    </tr>\n",
       "    <tr>\n",
       "      <th>4</th>\n",
       "      <td>Wednesday</td>\n",
       "      <td>Espresso</td>\n",
       "      <td>35</td>\n",
       "    </tr>\n",
       "    <tr>\n",
       "      <th>5</th>\n",
       "      <td>Wednesday</td>\n",
       "      <td>Latte</td>\n",
       "      <td>25</td>\n",
       "    </tr>\n",
       "    <tr>\n",
       "      <th>6</th>\n",
       "      <td>Thursday</td>\n",
       "      <td>Espresso</td>\n",
       "      <td>40</td>\n",
       "    </tr>\n",
       "    <tr>\n",
       "      <th>7</th>\n",
       "      <td>Thursday</td>\n",
       "      <td>Latte</td>\n",
       "      <td>30</td>\n",
       "    </tr>\n",
       "    <tr>\n",
       "      <th>8</th>\n",
       "      <td>Friday</td>\n",
       "      <td>Espresso</td>\n",
       "      <td>45</td>\n",
       "    </tr>\n",
       "    <tr>\n",
       "      <th>9</th>\n",
       "      <td>Friday</td>\n",
       "      <td>Latte</td>\n",
       "      <td>35</td>\n",
       "    </tr>\n",
       "    <tr>\n",
       "      <th>10</th>\n",
       "      <td>Saturday</td>\n",
       "      <td>Espresso</td>\n",
       "      <td>45</td>\n",
       "    </tr>\n",
       "    <tr>\n",
       "      <th>11</th>\n",
       "      <td>Saturday</td>\n",
       "      <td>Latte</td>\n",
       "      <td>35</td>\n",
       "    </tr>\n",
       "    <tr>\n",
       "      <th>12</th>\n",
       "      <td>Sunday</td>\n",
       "      <td>Espresso</td>\n",
       "      <td>45</td>\n",
       "    </tr>\n",
       "    <tr>\n",
       "      <th>13</th>\n",
       "      <td>Sunday</td>\n",
       "      <td>Latte</td>\n",
       "      <td>35</td>\n",
       "    </tr>\n",
       "  </tbody>\n",
       "</table>\n",
       "</div>"
      ],
      "text/plain": [
       "          Day Coffee Type  Units Sold\n",
       "0      Monday    Espresso          25\n",
       "1      Monday       Latte          15\n",
       "2     Tuesday    Espresso          30\n",
       "3     Tuesday       Latte          20\n",
       "4   Wednesday    Espresso          35\n",
       "5   Wednesday       Latte          25\n",
       "6    Thursday    Espresso          40\n",
       "7    Thursday       Latte          30\n",
       "8      Friday    Espresso          45\n",
       "9      Friday       Latte          35\n",
       "10   Saturday    Espresso          45\n",
       "11   Saturday       Latte          35\n",
       "12     Sunday    Espresso          45\n",
       "13     Sunday       Latte          35"
      ]
     },
     "execution_count": 30,
     "metadata": {},
     "output_type": "execute_result"
    }
   ],
   "source": [
    "coffee"
   ]
  },
  {
   "cell_type": "code",
   "execution_count": 31,
   "metadata": {},
   "outputs": [
    {
     "data": {
      "application/vnd.microsoft.datawrangler.viewer.v0+json": {
       "columns": [
        {
         "name": "index",
         "rawType": "int64",
         "type": "integer"
        },
        {
         "name": "Day",
         "rawType": "object",
         "type": "string"
        },
        {
         "name": "Coffee Type",
         "rawType": "object",
         "type": "string"
        },
        {
         "name": "Units Sold",
         "rawType": "int64",
         "type": "integer"
        }
       ],
       "conversionMethod": "pd.DataFrame",
       "ref": "ff724939-2d2a-4d7d-a44e-778d75de9293",
       "rows": [
        [
         "0",
         "Monday",
         "Espresso",
         "25"
        ],
        [
         "1",
         "Monday",
         "Latte",
         "15"
        ],
        [
         "2",
         "Tuesday",
         "Espresso",
         "30"
        ],
        [
         "3",
         "Tuesday",
         "Latte",
         "20"
        ],
        [
         "4",
         "Wednesday",
         "Espresso",
         "35"
        ]
       ],
       "shape": {
        "columns": 3,
        "rows": 5
       }
      },
      "text/html": [
       "<div>\n",
       "<style scoped>\n",
       "    .dataframe tbody tr th:only-of-type {\n",
       "        vertical-align: middle;\n",
       "    }\n",
       "\n",
       "    .dataframe tbody tr th {\n",
       "        vertical-align: top;\n",
       "    }\n",
       "\n",
       "    .dataframe thead th {\n",
       "        text-align: right;\n",
       "    }\n",
       "</style>\n",
       "<table border=\"1\" class=\"dataframe\">\n",
       "  <thead>\n",
       "    <tr style=\"text-align: right;\">\n",
       "      <th></th>\n",
       "      <th>Day</th>\n",
       "      <th>Coffee Type</th>\n",
       "      <th>Units Sold</th>\n",
       "    </tr>\n",
       "  </thead>\n",
       "  <tbody>\n",
       "    <tr>\n",
       "      <th>0</th>\n",
       "      <td>Monday</td>\n",
       "      <td>Espresso</td>\n",
       "      <td>25</td>\n",
       "    </tr>\n",
       "    <tr>\n",
       "      <th>1</th>\n",
       "      <td>Monday</td>\n",
       "      <td>Latte</td>\n",
       "      <td>15</td>\n",
       "    </tr>\n",
       "    <tr>\n",
       "      <th>2</th>\n",
       "      <td>Tuesday</td>\n",
       "      <td>Espresso</td>\n",
       "      <td>30</td>\n",
       "    </tr>\n",
       "    <tr>\n",
       "      <th>3</th>\n",
       "      <td>Tuesday</td>\n",
       "      <td>Latte</td>\n",
       "      <td>20</td>\n",
       "    </tr>\n",
       "    <tr>\n",
       "      <th>4</th>\n",
       "      <td>Wednesday</td>\n",
       "      <td>Espresso</td>\n",
       "      <td>35</td>\n",
       "    </tr>\n",
       "  </tbody>\n",
       "</table>\n",
       "</div>"
      ],
      "text/plain": [
       "         Day Coffee Type  Units Sold\n",
       "0     Monday    Espresso          25\n",
       "1     Monday       Latte          15\n",
       "2    Tuesday    Espresso          30\n",
       "3    Tuesday       Latte          20\n",
       "4  Wednesday    Espresso          35"
      ]
     },
     "execution_count": 31,
     "metadata": {},
     "output_type": "execute_result"
    }
   ],
   "source": [
    "coffee.head()"
   ]
  },
  {
   "cell_type": "code",
   "execution_count": 32,
   "metadata": {},
   "outputs": [
    {
     "data": {
      "application/vnd.microsoft.datawrangler.viewer.v0+json": {
       "columns": [
        {
         "name": "index",
         "rawType": "int64",
         "type": "integer"
        },
        {
         "name": "Day",
         "rawType": "object",
         "type": "string"
        },
        {
         "name": "Coffee Type",
         "rawType": "object",
         "type": "string"
        },
        {
         "name": "Units Sold",
         "rawType": "int64",
         "type": "integer"
        }
       ],
       "conversionMethod": "pd.DataFrame",
       "ref": "59892e47-05d8-4e75-96a2-7fdd63dc42cd",
       "rows": [
        [
         "9",
         "Friday",
         "Latte",
         "35"
        ],
        [
         "10",
         "Saturday",
         "Espresso",
         "45"
        ],
        [
         "11",
         "Saturday",
         "Latte",
         "35"
        ],
        [
         "12",
         "Sunday",
         "Espresso",
         "45"
        ],
        [
         "13",
         "Sunday",
         "Latte",
         "35"
        ]
       ],
       "shape": {
        "columns": 3,
        "rows": 5
       }
      },
      "text/html": [
       "<div>\n",
       "<style scoped>\n",
       "    .dataframe tbody tr th:only-of-type {\n",
       "        vertical-align: middle;\n",
       "    }\n",
       "\n",
       "    .dataframe tbody tr th {\n",
       "        vertical-align: top;\n",
       "    }\n",
       "\n",
       "    .dataframe thead th {\n",
       "        text-align: right;\n",
       "    }\n",
       "</style>\n",
       "<table border=\"1\" class=\"dataframe\">\n",
       "  <thead>\n",
       "    <tr style=\"text-align: right;\">\n",
       "      <th></th>\n",
       "      <th>Day</th>\n",
       "      <th>Coffee Type</th>\n",
       "      <th>Units Sold</th>\n",
       "    </tr>\n",
       "  </thead>\n",
       "  <tbody>\n",
       "    <tr>\n",
       "      <th>9</th>\n",
       "      <td>Friday</td>\n",
       "      <td>Latte</td>\n",
       "      <td>35</td>\n",
       "    </tr>\n",
       "    <tr>\n",
       "      <th>10</th>\n",
       "      <td>Saturday</td>\n",
       "      <td>Espresso</td>\n",
       "      <td>45</td>\n",
       "    </tr>\n",
       "    <tr>\n",
       "      <th>11</th>\n",
       "      <td>Saturday</td>\n",
       "      <td>Latte</td>\n",
       "      <td>35</td>\n",
       "    </tr>\n",
       "    <tr>\n",
       "      <th>12</th>\n",
       "      <td>Sunday</td>\n",
       "      <td>Espresso</td>\n",
       "      <td>45</td>\n",
       "    </tr>\n",
       "    <tr>\n",
       "      <th>13</th>\n",
       "      <td>Sunday</td>\n",
       "      <td>Latte</td>\n",
       "      <td>35</td>\n",
       "    </tr>\n",
       "  </tbody>\n",
       "</table>\n",
       "</div>"
      ],
      "text/plain": [
       "         Day Coffee Type  Units Sold\n",
       "9     Friday       Latte          35\n",
       "10  Saturday    Espresso          45\n",
       "11  Saturday       Latte          35\n",
       "12    Sunday    Espresso          45\n",
       "13    Sunday       Latte          35"
      ]
     },
     "execution_count": 32,
     "metadata": {},
     "output_type": "execute_result"
    }
   ],
   "source": [
    "coffee.tail()"
   ]
  },
  {
   "cell_type": "code",
   "execution_count": 34,
   "metadata": {},
   "outputs": [
    {
     "data": {
      "application/vnd.microsoft.datawrangler.viewer.v0+json": {
       "columns": [
        {
         "name": "index",
         "rawType": "int64",
         "type": "integer"
        },
        {
         "name": "Day",
         "rawType": "object",
         "type": "string"
        },
        {
         "name": "Coffee Type",
         "rawType": "object",
         "type": "string"
        },
        {
         "name": "Units Sold",
         "rawType": "int64",
         "type": "integer"
        }
       ],
       "conversionMethod": "pd.DataFrame",
       "ref": "cdc4ed86-e5ea-4fb4-ab95-4010b76f9358",
       "rows": [
        [
         "6",
         "Thursday",
         "Espresso",
         "40"
        ],
        [
         "2",
         "Tuesday",
         "Espresso",
         "30"
        ],
        [
         "0",
         "Monday",
         "Espresso",
         "25"
        ],
        [
         "3",
         "Tuesday",
         "Latte",
         "20"
        ],
        [
         "7",
         "Thursday",
         "Latte",
         "30"
        ],
        [
         "4",
         "Wednesday",
         "Espresso",
         "35"
        ],
        [
         "13",
         "Sunday",
         "Latte",
         "35"
        ],
        [
         "8",
         "Friday",
         "Espresso",
         "45"
        ],
        [
         "5",
         "Wednesday",
         "Latte",
         "25"
        ],
        [
         "10",
         "Saturday",
         "Espresso",
         "45"
        ]
       ],
       "shape": {
        "columns": 3,
        "rows": 10
       }
      },
      "text/html": [
       "<div>\n",
       "<style scoped>\n",
       "    .dataframe tbody tr th:only-of-type {\n",
       "        vertical-align: middle;\n",
       "    }\n",
       "\n",
       "    .dataframe tbody tr th {\n",
       "        vertical-align: top;\n",
       "    }\n",
       "\n",
       "    .dataframe thead th {\n",
       "        text-align: right;\n",
       "    }\n",
       "</style>\n",
       "<table border=\"1\" class=\"dataframe\">\n",
       "  <thead>\n",
       "    <tr style=\"text-align: right;\">\n",
       "      <th></th>\n",
       "      <th>Day</th>\n",
       "      <th>Coffee Type</th>\n",
       "      <th>Units Sold</th>\n",
       "    </tr>\n",
       "  </thead>\n",
       "  <tbody>\n",
       "    <tr>\n",
       "      <th>6</th>\n",
       "      <td>Thursday</td>\n",
       "      <td>Espresso</td>\n",
       "      <td>40</td>\n",
       "    </tr>\n",
       "    <tr>\n",
       "      <th>2</th>\n",
       "      <td>Tuesday</td>\n",
       "      <td>Espresso</td>\n",
       "      <td>30</td>\n",
       "    </tr>\n",
       "    <tr>\n",
       "      <th>0</th>\n",
       "      <td>Monday</td>\n",
       "      <td>Espresso</td>\n",
       "      <td>25</td>\n",
       "    </tr>\n",
       "    <tr>\n",
       "      <th>3</th>\n",
       "      <td>Tuesday</td>\n",
       "      <td>Latte</td>\n",
       "      <td>20</td>\n",
       "    </tr>\n",
       "    <tr>\n",
       "      <th>7</th>\n",
       "      <td>Thursday</td>\n",
       "      <td>Latte</td>\n",
       "      <td>30</td>\n",
       "    </tr>\n",
       "    <tr>\n",
       "      <th>4</th>\n",
       "      <td>Wednesday</td>\n",
       "      <td>Espresso</td>\n",
       "      <td>35</td>\n",
       "    </tr>\n",
       "    <tr>\n",
       "      <th>13</th>\n",
       "      <td>Sunday</td>\n",
       "      <td>Latte</td>\n",
       "      <td>35</td>\n",
       "    </tr>\n",
       "    <tr>\n",
       "      <th>8</th>\n",
       "      <td>Friday</td>\n",
       "      <td>Espresso</td>\n",
       "      <td>45</td>\n",
       "    </tr>\n",
       "    <tr>\n",
       "      <th>5</th>\n",
       "      <td>Wednesday</td>\n",
       "      <td>Latte</td>\n",
       "      <td>25</td>\n",
       "    </tr>\n",
       "    <tr>\n",
       "      <th>10</th>\n",
       "      <td>Saturday</td>\n",
       "      <td>Espresso</td>\n",
       "      <td>45</td>\n",
       "    </tr>\n",
       "  </tbody>\n",
       "</table>\n",
       "</div>"
      ],
      "text/plain": [
       "          Day Coffee Type  Units Sold\n",
       "6    Thursday    Espresso          40\n",
       "2     Tuesday    Espresso          30\n",
       "0      Monday    Espresso          25\n",
       "3     Tuesday       Latte          20\n",
       "7    Thursday       Latte          30\n",
       "4   Wednesday    Espresso          35\n",
       "13     Sunday       Latte          35\n",
       "8      Friday    Espresso          45\n",
       "5   Wednesday       Latte          25\n",
       "10   Saturday    Espresso          45"
      ]
     },
     "execution_count": 34,
     "metadata": {},
     "output_type": "execute_result"
    }
   ],
   "source": [
    "coffee.sample(10)"
   ]
  },
  {
   "cell_type": "code",
   "execution_count": 35,
   "metadata": {},
   "outputs": [
    {
     "data": {
      "text/plain": [
       "<pandas.core.indexing._LocIndexer at 0x1200c9810>"
      ]
     },
     "execution_count": 35,
     "metadata": {},
     "output_type": "execute_result"
    }
   ],
   "source": [
    "coffee.loc(0)"
   ]
  },
  {
   "cell_type": "code",
   "execution_count": 36,
   "metadata": {},
   "outputs": [
    {
     "name": "stdout",
     "output_type": "stream",
     "text": [
      "<pandas.core.indexing._LocIndexer object at 0x11f351720>\n"
     ]
    }
   ],
   "source": [
    "print(coffee.loc(0))"
   ]
  },
  {
   "cell_type": "code",
   "execution_count": 37,
   "metadata": {},
   "outputs": [
    {
     "data": {
      "application/vnd.microsoft.datawrangler.viewer.v0+json": {
       "columns": [
        {
         "name": "index",
         "rawType": "int64",
         "type": "integer"
        },
        {
         "name": "Day",
         "rawType": "object",
         "type": "string"
        },
        {
         "name": "Coffee Type",
         "rawType": "object",
         "type": "string"
        },
        {
         "name": "Units Sold",
         "rawType": "int64",
         "type": "integer"
        }
       ],
       "conversionMethod": "pd.DataFrame",
       "ref": "4708bb8a-7485-414a-ae85-8e763a5683d3",
       "rows": [
        [
         "0",
         "Monday",
         "Espresso",
         "25"
        ],
        [
         "1",
         "Monday",
         "Latte",
         "15"
        ],
        [
         "2",
         "Tuesday",
         "Espresso",
         "30"
        ],
        [
         "3",
         "Tuesday",
         "Latte",
         "20"
        ],
        [
         "4",
         "Wednesday",
         "Espresso",
         "35"
        ]
       ],
       "shape": {
        "columns": 3,
        "rows": 5
       }
      },
      "text/html": [
       "<div>\n",
       "<style scoped>\n",
       "    .dataframe tbody tr th:only-of-type {\n",
       "        vertical-align: middle;\n",
       "    }\n",
       "\n",
       "    .dataframe tbody tr th {\n",
       "        vertical-align: top;\n",
       "    }\n",
       "\n",
       "    .dataframe thead th {\n",
       "        text-align: right;\n",
       "    }\n",
       "</style>\n",
       "<table border=\"1\" class=\"dataframe\">\n",
       "  <thead>\n",
       "    <tr style=\"text-align: right;\">\n",
       "      <th></th>\n",
       "      <th>Day</th>\n",
       "      <th>Coffee Type</th>\n",
       "      <th>Units Sold</th>\n",
       "    </tr>\n",
       "  </thead>\n",
       "  <tbody>\n",
       "    <tr>\n",
       "      <th>0</th>\n",
       "      <td>Monday</td>\n",
       "      <td>Espresso</td>\n",
       "      <td>25</td>\n",
       "    </tr>\n",
       "    <tr>\n",
       "      <th>1</th>\n",
       "      <td>Monday</td>\n",
       "      <td>Latte</td>\n",
       "      <td>15</td>\n",
       "    </tr>\n",
       "    <tr>\n",
       "      <th>2</th>\n",
       "      <td>Tuesday</td>\n",
       "      <td>Espresso</td>\n",
       "      <td>30</td>\n",
       "    </tr>\n",
       "    <tr>\n",
       "      <th>3</th>\n",
       "      <td>Tuesday</td>\n",
       "      <td>Latte</td>\n",
       "      <td>20</td>\n",
       "    </tr>\n",
       "    <tr>\n",
       "      <th>4</th>\n",
       "      <td>Wednesday</td>\n",
       "      <td>Espresso</td>\n",
       "      <td>35</td>\n",
       "    </tr>\n",
       "  </tbody>\n",
       "</table>\n",
       "</div>"
      ],
      "text/plain": [
       "         Day Coffee Type  Units Sold\n",
       "0     Monday    Espresso          25\n",
       "1     Monday       Latte          15\n",
       "2    Tuesday    Espresso          30\n",
       "3    Tuesday       Latte          20\n",
       "4  Wednesday    Espresso          35"
      ]
     },
     "execution_count": 37,
     "metadata": {},
     "output_type": "execute_result"
    }
   ],
   "source": [
    "coffee.head()"
   ]
  },
  {
   "cell_type": "code",
   "execution_count": 39,
   "metadata": {},
   "outputs": [
    {
     "data": {
      "text/plain": [
       "Day              Monday\n",
       "Coffee Type    Espresso\n",
       "Units Sold           25\n",
       "Name: 0, dtype: object"
      ]
     },
     "execution_count": 39,
     "metadata": {},
     "output_type": "execute_result"
    }
   ],
   "source": [
    "coffee.loc[0]"
   ]
  },
  {
   "cell_type": "code",
   "execution_count": 49,
   "metadata": {},
   "outputs": [
    {
     "data": {
      "application/vnd.microsoft.datawrangler.viewer.v0+json": {
       "columns": [
        {
         "name": "index",
         "rawType": "int64",
         "type": "integer"
        },
        {
         "name": "Day",
         "rawType": "object",
         "type": "string"
        },
        {
         "name": "Units Sold",
         "rawType": "int64",
         "type": "integer"
        }
       ],
       "conversionMethod": "pd.DataFrame",
       "ref": "9543e197-ada2-4896-92d9-fdb0302f5e64",
       "rows": [
        [
         "0",
         "Monday",
         "25"
        ],
        [
         "1",
         "Monday",
         "15"
        ],
        [
         "2",
         "Tuesday",
         "30"
        ],
        [
         "3",
         "Tuesday",
         "20"
        ],
        [
         "4",
         "Wednesday",
         "35"
        ],
        [
         "5",
         "Wednesday",
         "25"
        ],
        [
         "6",
         "Thursday",
         "40"
        ],
        [
         "7",
         "Thursday",
         "30"
        ],
        [
         "8",
         "Friday",
         "45"
        ],
        [
         "9",
         "Friday",
         "35"
        ],
        [
         "10",
         "Saturday",
         "45"
        ],
        [
         "11",
         "Saturday",
         "35"
        ],
        [
         "12",
         "Sunday",
         "45"
        ],
        [
         "13",
         "Sunday",
         "35"
        ]
       ],
       "shape": {
        "columns": 2,
        "rows": 14
       }
      },
      "text/html": [
       "<div>\n",
       "<style scoped>\n",
       "    .dataframe tbody tr th:only-of-type {\n",
       "        vertical-align: middle;\n",
       "    }\n",
       "\n",
       "    .dataframe tbody tr th {\n",
       "        vertical-align: top;\n",
       "    }\n",
       "\n",
       "    .dataframe thead th {\n",
       "        text-align: right;\n",
       "    }\n",
       "</style>\n",
       "<table border=\"1\" class=\"dataframe\">\n",
       "  <thead>\n",
       "    <tr style=\"text-align: right;\">\n",
       "      <th></th>\n",
       "      <th>Day</th>\n",
       "      <th>Units Sold</th>\n",
       "    </tr>\n",
       "  </thead>\n",
       "  <tbody>\n",
       "    <tr>\n",
       "      <th>0</th>\n",
       "      <td>Monday</td>\n",
       "      <td>25</td>\n",
       "    </tr>\n",
       "    <tr>\n",
       "      <th>1</th>\n",
       "      <td>Monday</td>\n",
       "      <td>15</td>\n",
       "    </tr>\n",
       "    <tr>\n",
       "      <th>2</th>\n",
       "      <td>Tuesday</td>\n",
       "      <td>30</td>\n",
       "    </tr>\n",
       "    <tr>\n",
       "      <th>3</th>\n",
       "      <td>Tuesday</td>\n",
       "      <td>20</td>\n",
       "    </tr>\n",
       "    <tr>\n",
       "      <th>4</th>\n",
       "      <td>Wednesday</td>\n",
       "      <td>35</td>\n",
       "    </tr>\n",
       "    <tr>\n",
       "      <th>5</th>\n",
       "      <td>Wednesday</td>\n",
       "      <td>25</td>\n",
       "    </tr>\n",
       "    <tr>\n",
       "      <th>6</th>\n",
       "      <td>Thursday</td>\n",
       "      <td>40</td>\n",
       "    </tr>\n",
       "    <tr>\n",
       "      <th>7</th>\n",
       "      <td>Thursday</td>\n",
       "      <td>30</td>\n",
       "    </tr>\n",
       "    <tr>\n",
       "      <th>8</th>\n",
       "      <td>Friday</td>\n",
       "      <td>45</td>\n",
       "    </tr>\n",
       "    <tr>\n",
       "      <th>9</th>\n",
       "      <td>Friday</td>\n",
       "      <td>35</td>\n",
       "    </tr>\n",
       "    <tr>\n",
       "      <th>10</th>\n",
       "      <td>Saturday</td>\n",
       "      <td>45</td>\n",
       "    </tr>\n",
       "    <tr>\n",
       "      <th>11</th>\n",
       "      <td>Saturday</td>\n",
       "      <td>35</td>\n",
       "    </tr>\n",
       "    <tr>\n",
       "      <th>12</th>\n",
       "      <td>Sunday</td>\n",
       "      <td>45</td>\n",
       "    </tr>\n",
       "    <tr>\n",
       "      <th>13</th>\n",
       "      <td>Sunday</td>\n",
       "      <td>35</td>\n",
       "    </tr>\n",
       "  </tbody>\n",
       "</table>\n",
       "</div>"
      ],
      "text/plain": [
       "          Day  Units Sold\n",
       "0      Monday          25\n",
       "1      Monday          15\n",
       "2     Tuesday          30\n",
       "3     Tuesday          20\n",
       "4   Wednesday          35\n",
       "5   Wednesday          25\n",
       "6    Thursday          40\n",
       "7    Thursday          30\n",
       "8      Friday          45\n",
       "9      Friday          35\n",
       "10   Saturday          45\n",
       "11   Saturday          35\n",
       "12     Sunday          45\n",
       "13     Sunday          35"
      ]
     },
     "execution_count": 49,
     "metadata": {},
     "output_type": "execute_result"
    }
   ],
   "source": [
    "coffee.iloc[:, [0, 2]]"
   ]
  },
  {
   "cell_type": "code",
   "execution_count": 50,
   "metadata": {},
   "outputs": [],
   "source": [
    "coffee.index = coffee['Day']"
   ]
  },
  {
   "cell_type": "code",
   "execution_count": 51,
   "metadata": {},
   "outputs": [
    {
     "data": {
      "application/vnd.microsoft.datawrangler.viewer.v0+json": {
       "columns": [
        {
         "name": "Day",
         "rawType": "object",
         "type": "string"
        },
        {
         "name": "Day",
         "rawType": "object",
         "type": "string"
        },
        {
         "name": "Coffee Type",
         "rawType": "object",
         "type": "string"
        },
        {
         "name": "Units Sold",
         "rawType": "int64",
         "type": "integer"
        }
       ],
       "conversionMethod": "pd.DataFrame",
       "ref": "debd750e-c855-4bb3-af94-3d39d0e5551f",
       "rows": [
        [
         "Monday",
         "Monday",
         "Espresso",
         "25"
        ],
        [
         "Monday",
         "Monday",
         "Latte",
         "15"
        ],
        [
         "Tuesday",
         "Tuesday",
         "Espresso",
         "30"
        ],
        [
         "Tuesday",
         "Tuesday",
         "Latte",
         "20"
        ],
        [
         "Wednesday",
         "Wednesday",
         "Espresso",
         "35"
        ],
        [
         "Wednesday",
         "Wednesday",
         "Latte",
         "25"
        ],
        [
         "Thursday",
         "Thursday",
         "Espresso",
         "40"
        ],
        [
         "Thursday",
         "Thursday",
         "Latte",
         "30"
        ],
        [
         "Friday",
         "Friday",
         "Espresso",
         "45"
        ],
        [
         "Friday",
         "Friday",
         "Latte",
         "35"
        ],
        [
         "Saturday",
         "Saturday",
         "Espresso",
         "45"
        ],
        [
         "Saturday",
         "Saturday",
         "Latte",
         "35"
        ],
        [
         "Sunday",
         "Sunday",
         "Espresso",
         "45"
        ],
        [
         "Sunday",
         "Sunday",
         "Latte",
         "35"
        ]
       ],
       "shape": {
        "columns": 3,
        "rows": 14
       }
      },
      "text/html": [
       "<div>\n",
       "<style scoped>\n",
       "    .dataframe tbody tr th:only-of-type {\n",
       "        vertical-align: middle;\n",
       "    }\n",
       "\n",
       "    .dataframe tbody tr th {\n",
       "        vertical-align: top;\n",
       "    }\n",
       "\n",
       "    .dataframe thead th {\n",
       "        text-align: right;\n",
       "    }\n",
       "</style>\n",
       "<table border=\"1\" class=\"dataframe\">\n",
       "  <thead>\n",
       "    <tr style=\"text-align: right;\">\n",
       "      <th></th>\n",
       "      <th>Day</th>\n",
       "      <th>Coffee Type</th>\n",
       "      <th>Units Sold</th>\n",
       "    </tr>\n",
       "    <tr>\n",
       "      <th>Day</th>\n",
       "      <th></th>\n",
       "      <th></th>\n",
       "      <th></th>\n",
       "    </tr>\n",
       "  </thead>\n",
       "  <tbody>\n",
       "    <tr>\n",
       "      <th>Monday</th>\n",
       "      <td>Monday</td>\n",
       "      <td>Espresso</td>\n",
       "      <td>25</td>\n",
       "    </tr>\n",
       "    <tr>\n",
       "      <th>Monday</th>\n",
       "      <td>Monday</td>\n",
       "      <td>Latte</td>\n",
       "      <td>15</td>\n",
       "    </tr>\n",
       "    <tr>\n",
       "      <th>Tuesday</th>\n",
       "      <td>Tuesday</td>\n",
       "      <td>Espresso</td>\n",
       "      <td>30</td>\n",
       "    </tr>\n",
       "    <tr>\n",
       "      <th>Tuesday</th>\n",
       "      <td>Tuesday</td>\n",
       "      <td>Latte</td>\n",
       "      <td>20</td>\n",
       "    </tr>\n",
       "    <tr>\n",
       "      <th>Wednesday</th>\n",
       "      <td>Wednesday</td>\n",
       "      <td>Espresso</td>\n",
       "      <td>35</td>\n",
       "    </tr>\n",
       "    <tr>\n",
       "      <th>Wednesday</th>\n",
       "      <td>Wednesday</td>\n",
       "      <td>Latte</td>\n",
       "      <td>25</td>\n",
       "    </tr>\n",
       "    <tr>\n",
       "      <th>Thursday</th>\n",
       "      <td>Thursday</td>\n",
       "      <td>Espresso</td>\n",
       "      <td>40</td>\n",
       "    </tr>\n",
       "    <tr>\n",
       "      <th>Thursday</th>\n",
       "      <td>Thursday</td>\n",
       "      <td>Latte</td>\n",
       "      <td>30</td>\n",
       "    </tr>\n",
       "    <tr>\n",
       "      <th>Friday</th>\n",
       "      <td>Friday</td>\n",
       "      <td>Espresso</td>\n",
       "      <td>45</td>\n",
       "    </tr>\n",
       "    <tr>\n",
       "      <th>Friday</th>\n",
       "      <td>Friday</td>\n",
       "      <td>Latte</td>\n",
       "      <td>35</td>\n",
       "    </tr>\n",
       "    <tr>\n",
       "      <th>Saturday</th>\n",
       "      <td>Saturday</td>\n",
       "      <td>Espresso</td>\n",
       "      <td>45</td>\n",
       "    </tr>\n",
       "    <tr>\n",
       "      <th>Saturday</th>\n",
       "      <td>Saturday</td>\n",
       "      <td>Latte</td>\n",
       "      <td>35</td>\n",
       "    </tr>\n",
       "    <tr>\n",
       "      <th>Sunday</th>\n",
       "      <td>Sunday</td>\n",
       "      <td>Espresso</td>\n",
       "      <td>45</td>\n",
       "    </tr>\n",
       "    <tr>\n",
       "      <th>Sunday</th>\n",
       "      <td>Sunday</td>\n",
       "      <td>Latte</td>\n",
       "      <td>35</td>\n",
       "    </tr>\n",
       "  </tbody>\n",
       "</table>\n",
       "</div>"
      ],
      "text/plain": [
       "                 Day Coffee Type  Units Sold\n",
       "Day                                         \n",
       "Monday        Monday    Espresso          25\n",
       "Monday        Monday       Latte          15\n",
       "Tuesday      Tuesday    Espresso          30\n",
       "Tuesday      Tuesday       Latte          20\n",
       "Wednesday  Wednesday    Espresso          35\n",
       "Wednesday  Wednesday       Latte          25\n",
       "Thursday    Thursday    Espresso          40\n",
       "Thursday    Thursday       Latte          30\n",
       "Friday        Friday    Espresso          45\n",
       "Friday        Friday       Latte          35\n",
       "Saturday    Saturday    Espresso          45\n",
       "Saturday    Saturday       Latte          35\n",
       "Sunday        Sunday    Espresso          45\n",
       "Sunday        Sunday       Latte          35"
      ]
     },
     "execution_count": 51,
     "metadata": {},
     "output_type": "execute_result"
    }
   ],
   "source": [
    "coffee"
   ]
  },
  {
   "cell_type": "code",
   "execution_count": 53,
   "metadata": {},
   "outputs": [
    {
     "data": {
      "application/vnd.microsoft.datawrangler.viewer.v0+json": {
       "columns": [
        {
         "name": "Day",
         "rawType": "object",
         "type": "string"
        },
        {
         "name": "Day",
         "rawType": "object",
         "type": "string"
        },
        {
         "name": "Coffee Type",
         "rawType": "object",
         "type": "string"
        },
        {
         "name": "Units Sold",
         "rawType": "int64",
         "type": "integer"
        }
       ],
       "conversionMethod": "pd.DataFrame",
       "ref": "55002b9b-93fe-4adc-b207-5d59f67609a3",
       "rows": [
        [
         "Monday",
         "Monday",
         "Espresso",
         "25"
        ],
        [
         "Monday",
         "Monday",
         "Latte",
         "15"
        ],
        [
         "Tuesday",
         "Tuesday",
         "Espresso",
         "30"
        ],
        [
         "Tuesday",
         "Tuesday",
         "Latte",
         "20"
        ],
        [
         "Wednesday",
         "Wednesday",
         "Espresso",
         "35"
        ],
        [
         "Wednesday",
         "Wednesday",
         "Latte",
         "25"
        ]
       ],
       "shape": {
        "columns": 3,
        "rows": 6
       }
      },
      "text/html": [
       "<div>\n",
       "<style scoped>\n",
       "    .dataframe tbody tr th:only-of-type {\n",
       "        vertical-align: middle;\n",
       "    }\n",
       "\n",
       "    .dataframe tbody tr th {\n",
       "        vertical-align: top;\n",
       "    }\n",
       "\n",
       "    .dataframe thead th {\n",
       "        text-align: right;\n",
       "    }\n",
       "</style>\n",
       "<table border=\"1\" class=\"dataframe\">\n",
       "  <thead>\n",
       "    <tr style=\"text-align: right;\">\n",
       "      <th></th>\n",
       "      <th>Day</th>\n",
       "      <th>Coffee Type</th>\n",
       "      <th>Units Sold</th>\n",
       "    </tr>\n",
       "    <tr>\n",
       "      <th>Day</th>\n",
       "      <th></th>\n",
       "      <th></th>\n",
       "      <th></th>\n",
       "    </tr>\n",
       "  </thead>\n",
       "  <tbody>\n",
       "    <tr>\n",
       "      <th>Monday</th>\n",
       "      <td>Monday</td>\n",
       "      <td>Espresso</td>\n",
       "      <td>25</td>\n",
       "    </tr>\n",
       "    <tr>\n",
       "      <th>Monday</th>\n",
       "      <td>Monday</td>\n",
       "      <td>Latte</td>\n",
       "      <td>15</td>\n",
       "    </tr>\n",
       "    <tr>\n",
       "      <th>Tuesday</th>\n",
       "      <td>Tuesday</td>\n",
       "      <td>Espresso</td>\n",
       "      <td>30</td>\n",
       "    </tr>\n",
       "    <tr>\n",
       "      <th>Tuesday</th>\n",
       "      <td>Tuesday</td>\n",
       "      <td>Latte</td>\n",
       "      <td>20</td>\n",
       "    </tr>\n",
       "    <tr>\n",
       "      <th>Wednesday</th>\n",
       "      <td>Wednesday</td>\n",
       "      <td>Espresso</td>\n",
       "      <td>35</td>\n",
       "    </tr>\n",
       "    <tr>\n",
       "      <th>Wednesday</th>\n",
       "      <td>Wednesday</td>\n",
       "      <td>Latte</td>\n",
       "      <td>25</td>\n",
       "    </tr>\n",
       "  </tbody>\n",
       "</table>\n",
       "</div>"
      ],
      "text/plain": [
       "                 Day Coffee Type  Units Sold\n",
       "Day                                         \n",
       "Monday        Monday    Espresso          25\n",
       "Monday        Monday       Latte          15\n",
       "Tuesday      Tuesday    Espresso          30\n",
       "Tuesday      Tuesday       Latte          20\n",
       "Wednesday  Wednesday    Espresso          35\n",
       "Wednesday  Wednesday       Latte          25"
      ]
     },
     "execution_count": 53,
     "metadata": {},
     "output_type": "execute_result"
    }
   ],
   "source": [
    "coffee.loc['Monday':\"Wednesday\"]"
   ]
  },
  {
   "cell_type": "code",
   "execution_count": 55,
   "metadata": {},
   "outputs": [],
   "source": [
    "coffee.loc['Monday', 'Units Sold'] = 20"
   ]
  },
  {
   "cell_type": "code",
   "execution_count": 56,
   "metadata": {},
   "outputs": [
    {
     "data": {
      "application/vnd.microsoft.datawrangler.viewer.v0+json": {
       "columns": [
        {
         "name": "Day",
         "rawType": "object",
         "type": "string"
        },
        {
         "name": "Day",
         "rawType": "object",
         "type": "string"
        },
        {
         "name": "Coffee Type",
         "rawType": "object",
         "type": "string"
        },
        {
         "name": "Units Sold",
         "rawType": "int64",
         "type": "integer"
        }
       ],
       "conversionMethod": "pd.DataFrame",
       "ref": "32775f27-140a-444f-bc63-186b4e94dd8f",
       "rows": [
        [
         "Monday",
         "Monday",
         "Espresso",
         "20"
        ],
        [
         "Monday",
         "Monday",
         "Latte",
         "20"
        ],
        [
         "Tuesday",
         "Tuesday",
         "Espresso",
         "30"
        ],
        [
         "Tuesday",
         "Tuesday",
         "Latte",
         "20"
        ],
        [
         "Wednesday",
         "Wednesday",
         "Espresso",
         "35"
        ],
        [
         "Wednesday",
         "Wednesday",
         "Latte",
         "25"
        ],
        [
         "Thursday",
         "Thursday",
         "Espresso",
         "40"
        ],
        [
         "Thursday",
         "Thursday",
         "Latte",
         "30"
        ],
        [
         "Friday",
         "Friday",
         "Espresso",
         "45"
        ],
        [
         "Friday",
         "Friday",
         "Latte",
         "35"
        ],
        [
         "Saturday",
         "Saturday",
         "Espresso",
         "45"
        ],
        [
         "Saturday",
         "Saturday",
         "Latte",
         "35"
        ],
        [
         "Sunday",
         "Sunday",
         "Espresso",
         "45"
        ],
        [
         "Sunday",
         "Sunday",
         "Latte",
         "35"
        ]
       ],
       "shape": {
        "columns": 3,
        "rows": 14
       }
      },
      "text/html": [
       "<div>\n",
       "<style scoped>\n",
       "    .dataframe tbody tr th:only-of-type {\n",
       "        vertical-align: middle;\n",
       "    }\n",
       "\n",
       "    .dataframe tbody tr th {\n",
       "        vertical-align: top;\n",
       "    }\n",
       "\n",
       "    .dataframe thead th {\n",
       "        text-align: right;\n",
       "    }\n",
       "</style>\n",
       "<table border=\"1\" class=\"dataframe\">\n",
       "  <thead>\n",
       "    <tr style=\"text-align: right;\">\n",
       "      <th></th>\n",
       "      <th>Day</th>\n",
       "      <th>Coffee Type</th>\n",
       "      <th>Units Sold</th>\n",
       "    </tr>\n",
       "    <tr>\n",
       "      <th>Day</th>\n",
       "      <th></th>\n",
       "      <th></th>\n",
       "      <th></th>\n",
       "    </tr>\n",
       "  </thead>\n",
       "  <tbody>\n",
       "    <tr>\n",
       "      <th>Monday</th>\n",
       "      <td>Monday</td>\n",
       "      <td>Espresso</td>\n",
       "      <td>20</td>\n",
       "    </tr>\n",
       "    <tr>\n",
       "      <th>Monday</th>\n",
       "      <td>Monday</td>\n",
       "      <td>Latte</td>\n",
       "      <td>20</td>\n",
       "    </tr>\n",
       "    <tr>\n",
       "      <th>Tuesday</th>\n",
       "      <td>Tuesday</td>\n",
       "      <td>Espresso</td>\n",
       "      <td>30</td>\n",
       "    </tr>\n",
       "    <tr>\n",
       "      <th>Tuesday</th>\n",
       "      <td>Tuesday</td>\n",
       "      <td>Latte</td>\n",
       "      <td>20</td>\n",
       "    </tr>\n",
       "    <tr>\n",
       "      <th>Wednesday</th>\n",
       "      <td>Wednesday</td>\n",
       "      <td>Espresso</td>\n",
       "      <td>35</td>\n",
       "    </tr>\n",
       "    <tr>\n",
       "      <th>Wednesday</th>\n",
       "      <td>Wednesday</td>\n",
       "      <td>Latte</td>\n",
       "      <td>25</td>\n",
       "    </tr>\n",
       "    <tr>\n",
       "      <th>Thursday</th>\n",
       "      <td>Thursday</td>\n",
       "      <td>Espresso</td>\n",
       "      <td>40</td>\n",
       "    </tr>\n",
       "    <tr>\n",
       "      <th>Thursday</th>\n",
       "      <td>Thursday</td>\n",
       "      <td>Latte</td>\n",
       "      <td>30</td>\n",
       "    </tr>\n",
       "    <tr>\n",
       "      <th>Friday</th>\n",
       "      <td>Friday</td>\n",
       "      <td>Espresso</td>\n",
       "      <td>45</td>\n",
       "    </tr>\n",
       "    <tr>\n",
       "      <th>Friday</th>\n",
       "      <td>Friday</td>\n",
       "      <td>Latte</td>\n",
       "      <td>35</td>\n",
       "    </tr>\n",
       "    <tr>\n",
       "      <th>Saturday</th>\n",
       "      <td>Saturday</td>\n",
       "      <td>Espresso</td>\n",
       "      <td>45</td>\n",
       "    </tr>\n",
       "    <tr>\n",
       "      <th>Saturday</th>\n",
       "      <td>Saturday</td>\n",
       "      <td>Latte</td>\n",
       "      <td>35</td>\n",
       "    </tr>\n",
       "    <tr>\n",
       "      <th>Sunday</th>\n",
       "      <td>Sunday</td>\n",
       "      <td>Espresso</td>\n",
       "      <td>45</td>\n",
       "    </tr>\n",
       "    <tr>\n",
       "      <th>Sunday</th>\n",
       "      <td>Sunday</td>\n",
       "      <td>Latte</td>\n",
       "      <td>35</td>\n",
       "    </tr>\n",
       "  </tbody>\n",
       "</table>\n",
       "</div>"
      ],
      "text/plain": [
       "                 Day Coffee Type  Units Sold\n",
       "Day                                         \n",
       "Monday        Monday    Espresso          20\n",
       "Monday        Monday       Latte          20\n",
       "Tuesday      Tuesday    Espresso          30\n",
       "Tuesday      Tuesday       Latte          20\n",
       "Wednesday  Wednesday    Espresso          35\n",
       "Wednesday  Wednesday       Latte          25\n",
       "Thursday    Thursday    Espresso          40\n",
       "Thursday    Thursday       Latte          30\n",
       "Friday        Friday    Espresso          45\n",
       "Friday        Friday       Latte          35\n",
       "Saturday    Saturday    Espresso          45\n",
       "Saturday    Saturday       Latte          35\n",
       "Sunday        Sunday    Espresso          45\n",
       "Sunday        Sunday       Latte          35"
      ]
     },
     "execution_count": 56,
     "metadata": {},
     "output_type": "execute_result"
    }
   ],
   "source": [
    "coffee.loc[:]"
   ]
  },
  {
   "cell_type": "code",
   "execution_count": 57,
   "metadata": {},
   "outputs": [
    {
     "data": {
      "application/vnd.microsoft.datawrangler.viewer.v0+json": {
       "columns": [
        {
         "name": "Day",
         "rawType": "object",
         "type": "string"
        },
        {
         "name": "Day",
         "rawType": "object",
         "type": "string"
        },
        {
         "name": "Coffee Type",
         "rawType": "object",
         "type": "string"
        },
        {
         "name": "Units Sold",
         "rawType": "int64",
         "type": "integer"
        }
       ],
       "conversionMethod": "pd.DataFrame",
       "ref": "3bc1452c-1a0e-405e-b88c-404d8f0fd455",
       "rows": [
        [
         "Monday",
         "Monday",
         "Espresso",
         "20"
        ],
        [
         "Monday",
         "Monday",
         "Latte",
         "20"
        ],
        [
         "Tuesday",
         "Tuesday",
         "Espresso",
         "30"
        ],
        [
         "Tuesday",
         "Tuesday",
         "Latte",
         "20"
        ],
        [
         "Wednesday",
         "Wednesday",
         "Espresso",
         "35"
        ]
       ],
       "shape": {
        "columns": 3,
        "rows": 5
       }
      },
      "text/html": [
       "<div>\n",
       "<style scoped>\n",
       "    .dataframe tbody tr th:only-of-type {\n",
       "        vertical-align: middle;\n",
       "    }\n",
       "\n",
       "    .dataframe tbody tr th {\n",
       "        vertical-align: top;\n",
       "    }\n",
       "\n",
       "    .dataframe thead th {\n",
       "        text-align: right;\n",
       "    }\n",
       "</style>\n",
       "<table border=\"1\" class=\"dataframe\">\n",
       "  <thead>\n",
       "    <tr style=\"text-align: right;\">\n",
       "      <th></th>\n",
       "      <th>Day</th>\n",
       "      <th>Coffee Type</th>\n",
       "      <th>Units Sold</th>\n",
       "    </tr>\n",
       "    <tr>\n",
       "      <th>Day</th>\n",
       "      <th></th>\n",
       "      <th></th>\n",
       "      <th></th>\n",
       "    </tr>\n",
       "  </thead>\n",
       "  <tbody>\n",
       "    <tr>\n",
       "      <th>Monday</th>\n",
       "      <td>Monday</td>\n",
       "      <td>Espresso</td>\n",
       "      <td>20</td>\n",
       "    </tr>\n",
       "    <tr>\n",
       "      <th>Monday</th>\n",
       "      <td>Monday</td>\n",
       "      <td>Latte</td>\n",
       "      <td>20</td>\n",
       "    </tr>\n",
       "    <tr>\n",
       "      <th>Tuesday</th>\n",
       "      <td>Tuesday</td>\n",
       "      <td>Espresso</td>\n",
       "      <td>30</td>\n",
       "    </tr>\n",
       "    <tr>\n",
       "      <th>Tuesday</th>\n",
       "      <td>Tuesday</td>\n",
       "      <td>Latte</td>\n",
       "      <td>20</td>\n",
       "    </tr>\n",
       "    <tr>\n",
       "      <th>Wednesday</th>\n",
       "      <td>Wednesday</td>\n",
       "      <td>Espresso</td>\n",
       "      <td>35</td>\n",
       "    </tr>\n",
       "  </tbody>\n",
       "</table>\n",
       "</div>"
      ],
      "text/plain": [
       "                 Day Coffee Type  Units Sold\n",
       "Day                                         \n",
       "Monday        Monday    Espresso          20\n",
       "Monday        Monday       Latte          20\n",
       "Tuesday      Tuesday    Espresso          30\n",
       "Tuesday      Tuesday       Latte          20\n",
       "Wednesday  Wednesday    Espresso          35"
      ]
     },
     "execution_count": 57,
     "metadata": {},
     "output_type": "execute_result"
    }
   ],
   "source": [
    "coffee.head()"
   ]
  },
  {
   "cell_type": "code",
   "execution_count": 67,
   "metadata": {},
   "outputs": [
    {
     "data": {
      "text/plain": [
       "'Monday'"
      ]
     },
     "execution_count": 67,
     "metadata": {},
     "output_type": "execute_result"
    }
   ],
   "source": [
    "coffee.iat[0, 0]"
   ]
  },
  {
   "cell_type": "code",
   "execution_count": 75,
   "metadata": {},
   "outputs": [
    {
     "data": {
      "application/vnd.microsoft.datawrangler.viewer.v0+json": {
       "columns": [
        {
         "name": "Day",
         "rawType": "object",
         "type": "string"
        },
        {
         "name": "Day",
         "rawType": "object",
         "type": "string"
        },
        {
         "name": "Coffee Type",
         "rawType": "object",
         "type": "string"
        },
        {
         "name": "Units Sold",
         "rawType": "int64",
         "type": "integer"
        }
       ],
       "conversionMethod": "pd.DataFrame",
       "ref": "f53e718a-f022-4841-a2a4-ebc5254ac481",
       "rows": [
        [
         "Friday",
         "Friday",
         "Espresso",
         "45"
        ],
        [
         "Saturday",
         "Saturday",
         "Espresso",
         "45"
        ],
        [
         "Sunday",
         "Sunday",
         "Espresso",
         "45"
        ],
        [
         "Thursday",
         "Thursday",
         "Espresso",
         "40"
        ],
        [
         "Wednesday",
         "Wednesday",
         "Espresso",
         "35"
        ],
        [
         "Friday",
         "Friday",
         "Latte",
         "35"
        ],
        [
         "Saturday",
         "Saturday",
         "Latte",
         "35"
        ],
        [
         "Sunday",
         "Sunday",
         "Latte",
         "35"
        ],
        [
         "Tuesday",
         "Tuesday",
         "Espresso",
         "30"
        ],
        [
         "Thursday",
         "Thursday",
         "Latte",
         "30"
        ],
        [
         "Wednesday",
         "Wednesday",
         "Latte",
         "25"
        ],
        [
         "Monday",
         "Monday",
         "Espresso",
         "20"
        ],
        [
         "Monday",
         "Monday",
         "Latte",
         "20"
        ],
        [
         "Tuesday",
         "Tuesday",
         "Latte",
         "20"
        ]
       ],
       "shape": {
        "columns": 3,
        "rows": 14
       }
      },
      "text/html": [
       "<div>\n",
       "<style scoped>\n",
       "    .dataframe tbody tr th:only-of-type {\n",
       "        vertical-align: middle;\n",
       "    }\n",
       "\n",
       "    .dataframe tbody tr th {\n",
       "        vertical-align: top;\n",
       "    }\n",
       "\n",
       "    .dataframe thead th {\n",
       "        text-align: right;\n",
       "    }\n",
       "</style>\n",
       "<table border=\"1\" class=\"dataframe\">\n",
       "  <thead>\n",
       "    <tr style=\"text-align: right;\">\n",
       "      <th></th>\n",
       "      <th>Day</th>\n",
       "      <th>Coffee Type</th>\n",
       "      <th>Units Sold</th>\n",
       "    </tr>\n",
       "    <tr>\n",
       "      <th>Day</th>\n",
       "      <th></th>\n",
       "      <th></th>\n",
       "      <th></th>\n",
       "    </tr>\n",
       "  </thead>\n",
       "  <tbody>\n",
       "    <tr>\n",
       "      <th>Friday</th>\n",
       "      <td>Friday</td>\n",
       "      <td>Espresso</td>\n",
       "      <td>45</td>\n",
       "    </tr>\n",
       "    <tr>\n",
       "      <th>Saturday</th>\n",
       "      <td>Saturday</td>\n",
       "      <td>Espresso</td>\n",
       "      <td>45</td>\n",
       "    </tr>\n",
       "    <tr>\n",
       "      <th>Sunday</th>\n",
       "      <td>Sunday</td>\n",
       "      <td>Espresso</td>\n",
       "      <td>45</td>\n",
       "    </tr>\n",
       "    <tr>\n",
       "      <th>Thursday</th>\n",
       "      <td>Thursday</td>\n",
       "      <td>Espresso</td>\n",
       "      <td>40</td>\n",
       "    </tr>\n",
       "    <tr>\n",
       "      <th>Wednesday</th>\n",
       "      <td>Wednesday</td>\n",
       "      <td>Espresso</td>\n",
       "      <td>35</td>\n",
       "    </tr>\n",
       "    <tr>\n",
       "      <th>Friday</th>\n",
       "      <td>Friday</td>\n",
       "      <td>Latte</td>\n",
       "      <td>35</td>\n",
       "    </tr>\n",
       "    <tr>\n",
       "      <th>Saturday</th>\n",
       "      <td>Saturday</td>\n",
       "      <td>Latte</td>\n",
       "      <td>35</td>\n",
       "    </tr>\n",
       "    <tr>\n",
       "      <th>Sunday</th>\n",
       "      <td>Sunday</td>\n",
       "      <td>Latte</td>\n",
       "      <td>35</td>\n",
       "    </tr>\n",
       "    <tr>\n",
       "      <th>Tuesday</th>\n",
       "      <td>Tuesday</td>\n",
       "      <td>Espresso</td>\n",
       "      <td>30</td>\n",
       "    </tr>\n",
       "    <tr>\n",
       "      <th>Thursday</th>\n",
       "      <td>Thursday</td>\n",
       "      <td>Latte</td>\n",
       "      <td>30</td>\n",
       "    </tr>\n",
       "    <tr>\n",
       "      <th>Wednesday</th>\n",
       "      <td>Wednesday</td>\n",
       "      <td>Latte</td>\n",
       "      <td>25</td>\n",
       "    </tr>\n",
       "    <tr>\n",
       "      <th>Monday</th>\n",
       "      <td>Monday</td>\n",
       "      <td>Espresso</td>\n",
       "      <td>20</td>\n",
       "    </tr>\n",
       "    <tr>\n",
       "      <th>Monday</th>\n",
       "      <td>Monday</td>\n",
       "      <td>Latte</td>\n",
       "      <td>20</td>\n",
       "    </tr>\n",
       "    <tr>\n",
       "      <th>Tuesday</th>\n",
       "      <td>Tuesday</td>\n",
       "      <td>Latte</td>\n",
       "      <td>20</td>\n",
       "    </tr>\n",
       "  </tbody>\n",
       "</table>\n",
       "</div>"
      ],
      "text/plain": [
       "                 Day Coffee Type  Units Sold\n",
       "Day                                         \n",
       "Friday        Friday    Espresso          45\n",
       "Saturday    Saturday    Espresso          45\n",
       "Sunday        Sunday    Espresso          45\n",
       "Thursday    Thursday    Espresso          40\n",
       "Wednesday  Wednesday    Espresso          35\n",
       "Friday        Friday       Latte          35\n",
       "Saturday    Saturday       Latte          35\n",
       "Sunday        Sunday       Latte          35\n",
       "Tuesday      Tuesday    Espresso          30\n",
       "Thursday    Thursday       Latte          30\n",
       "Wednesday  Wednesday       Latte          25\n",
       "Monday        Monday    Espresso          20\n",
       "Monday        Monday       Latte          20\n",
       "Tuesday      Tuesday       Latte          20"
      ]
     },
     "execution_count": 75,
     "metadata": {},
     "output_type": "execute_result"
    }
   ],
   "source": [
    "coffee.sort_values(['Units Sold', 'Coffee Type'], ascending=[0, 1])"
   ]
  },
  {
   "cell_type": "code",
   "execution_count": null,
   "metadata": {},
   "outputs": [
    {
     "name": "stdout",
     "output_type": "stream",
     "text": [
      "Monday Espresso 20\n",
      "\n",
      " \n",
      "\n",
      "Monday Latte 20\n",
      "\n",
      " \n",
      "\n",
      "Tuesday Espresso 30\n",
      "\n",
      " \n",
      "\n",
      "Tuesday Latte 20\n",
      "\n",
      " \n",
      "\n",
      "Wednesday Espresso 35\n",
      "\n",
      " \n",
      "\n",
      "Wednesday Latte 25\n",
      "\n",
      " \n",
      "\n",
      "Thursday Espresso 40\n",
      "\n",
      " \n",
      "\n",
      "Thursday Latte 30\n",
      "\n",
      " \n",
      "\n",
      "Friday Espresso 45\n",
      "\n",
      " \n",
      "\n",
      "Friday Latte 35\n",
      "\n",
      " \n",
      "\n",
      "Saturday Espresso 45\n",
      "\n",
      " \n",
      "\n",
      "Saturday Latte 35\n",
      "\n",
      " \n",
      "\n",
      "Sunday Espresso 45\n",
      "\n",
      " \n",
      "\n",
      "Sunday Latte 35\n",
      "\n",
      " \n",
      "\n"
     ]
    }
   ],
   "source": []
  },
  {
   "cell_type": "code",
   "execution_count": 79,
   "metadata": {},
   "outputs": [
    {
     "data": {
      "application/vnd.microsoft.datawrangler.viewer.v0+json": {
       "columns": [
        {
         "name": "index",
         "rawType": "int64",
         "type": "integer"
        },
        {
         "name": "athlete_id",
         "rawType": "int64",
         "type": "integer"
        },
        {
         "name": "name",
         "rawType": "object",
         "type": "string"
        },
        {
         "name": "born_date",
         "rawType": "object",
         "type": "string"
        },
        {
         "name": "born_city",
         "rawType": "object",
         "type": "string"
        },
        {
         "name": "born_region",
         "rawType": "object",
         "type": "string"
        },
        {
         "name": "born_country",
         "rawType": "object",
         "type": "string"
        },
        {
         "name": "NOC",
         "rawType": "object",
         "type": "string"
        },
        {
         "name": "height_cm",
         "rawType": "float64",
         "type": "float"
        },
        {
         "name": "weight_kg",
         "rawType": "float64",
         "type": "float"
        },
        {
         "name": "died_date",
         "rawType": "object",
         "type": "unknown"
        }
       ],
       "conversionMethod": "pd.DataFrame",
       "ref": "8fff0f67-24d5-48de-b9cd-002022a60dc9",
       "rows": [
        [
         "0",
         "1",
         "Jean-François Blanchy",
         "1886-12-12",
         "Bordeaux",
         "Gironde",
         "FRA",
         "France",
         null,
         null,
         "1960-10-02"
        ],
        [
         "1",
         "2",
         "Arnaud Boetsch",
         "1969-04-01",
         "Meulan",
         "Yvelines",
         "FRA",
         "France",
         "183.0",
         "76.0",
         null
        ],
        [
         "2",
         "3",
         "Jean Borotra",
         "1898-08-13",
         "Biarritz",
         "Pyrénées-Atlantiques",
         "FRA",
         "France",
         "183.0",
         "76.0",
         "1994-07-17"
        ],
        [
         "3",
         "4",
         "Jacques Brugnon",
         "1895-05-11",
         "Paris VIIIe",
         "Paris",
         "FRA",
         "France",
         "168.0",
         "64.0",
         "1978-03-20"
        ],
        [
         "4",
         "5",
         "Albert Canet",
         "1878-04-17",
         "Wandsworth",
         "England",
         "GBR",
         "France",
         null,
         null,
         "1930-07-25"
        ]
       ],
       "shape": {
        "columns": 10,
        "rows": 5
       }
      },
      "text/html": [
       "<div>\n",
       "<style scoped>\n",
       "    .dataframe tbody tr th:only-of-type {\n",
       "        vertical-align: middle;\n",
       "    }\n",
       "\n",
       "    .dataframe tbody tr th {\n",
       "        vertical-align: top;\n",
       "    }\n",
       "\n",
       "    .dataframe thead th {\n",
       "        text-align: right;\n",
       "    }\n",
       "</style>\n",
       "<table border=\"1\" class=\"dataframe\">\n",
       "  <thead>\n",
       "    <tr style=\"text-align: right;\">\n",
       "      <th></th>\n",
       "      <th>athlete_id</th>\n",
       "      <th>name</th>\n",
       "      <th>born_date</th>\n",
       "      <th>born_city</th>\n",
       "      <th>born_region</th>\n",
       "      <th>born_country</th>\n",
       "      <th>NOC</th>\n",
       "      <th>height_cm</th>\n",
       "      <th>weight_kg</th>\n",
       "      <th>died_date</th>\n",
       "    </tr>\n",
       "  </thead>\n",
       "  <tbody>\n",
       "    <tr>\n",
       "      <th>0</th>\n",
       "      <td>1</td>\n",
       "      <td>Jean-François Blanchy</td>\n",
       "      <td>1886-12-12</td>\n",
       "      <td>Bordeaux</td>\n",
       "      <td>Gironde</td>\n",
       "      <td>FRA</td>\n",
       "      <td>France</td>\n",
       "      <td>NaN</td>\n",
       "      <td>NaN</td>\n",
       "      <td>1960-10-02</td>\n",
       "    </tr>\n",
       "    <tr>\n",
       "      <th>1</th>\n",
       "      <td>2</td>\n",
       "      <td>Arnaud Boetsch</td>\n",
       "      <td>1969-04-01</td>\n",
       "      <td>Meulan</td>\n",
       "      <td>Yvelines</td>\n",
       "      <td>FRA</td>\n",
       "      <td>France</td>\n",
       "      <td>183.0</td>\n",
       "      <td>76.0</td>\n",
       "      <td>NaN</td>\n",
       "    </tr>\n",
       "    <tr>\n",
       "      <th>2</th>\n",
       "      <td>3</td>\n",
       "      <td>Jean Borotra</td>\n",
       "      <td>1898-08-13</td>\n",
       "      <td>Biarritz</td>\n",
       "      <td>Pyrénées-Atlantiques</td>\n",
       "      <td>FRA</td>\n",
       "      <td>France</td>\n",
       "      <td>183.0</td>\n",
       "      <td>76.0</td>\n",
       "      <td>1994-07-17</td>\n",
       "    </tr>\n",
       "    <tr>\n",
       "      <th>3</th>\n",
       "      <td>4</td>\n",
       "      <td>Jacques Brugnon</td>\n",
       "      <td>1895-05-11</td>\n",
       "      <td>Paris VIIIe</td>\n",
       "      <td>Paris</td>\n",
       "      <td>FRA</td>\n",
       "      <td>France</td>\n",
       "      <td>168.0</td>\n",
       "      <td>64.0</td>\n",
       "      <td>1978-03-20</td>\n",
       "    </tr>\n",
       "    <tr>\n",
       "      <th>4</th>\n",
       "      <td>5</td>\n",
       "      <td>Albert Canet</td>\n",
       "      <td>1878-04-17</td>\n",
       "      <td>Wandsworth</td>\n",
       "      <td>England</td>\n",
       "      <td>GBR</td>\n",
       "      <td>France</td>\n",
       "      <td>NaN</td>\n",
       "      <td>NaN</td>\n",
       "      <td>1930-07-25</td>\n",
       "    </tr>\n",
       "  </tbody>\n",
       "</table>\n",
       "</div>"
      ],
      "text/plain": [
       "   athlete_id                   name   born_date    born_city  \\\n",
       "0           1  Jean-François Blanchy  1886-12-12     Bordeaux   \n",
       "1           2         Arnaud Boetsch  1969-04-01       Meulan   \n",
       "2           3           Jean Borotra  1898-08-13     Biarritz   \n",
       "3           4        Jacques Brugnon  1895-05-11  Paris VIIIe   \n",
       "4           5           Albert Canet  1878-04-17   Wandsworth   \n",
       "\n",
       "            born_region born_country     NOC  height_cm  weight_kg   died_date  \n",
       "0               Gironde          FRA  France        NaN        NaN  1960-10-02  \n",
       "1              Yvelines          FRA  France      183.0       76.0         NaN  \n",
       "2  Pyrénées-Atlantiques          FRA  France      183.0       76.0  1994-07-17  \n",
       "3                 Paris          FRA  France      168.0       64.0  1978-03-20  \n",
       "4               England          GBR  France        NaN        NaN  1930-07-25  "
      ]
     },
     "execution_count": 79,
     "metadata": {},
     "output_type": "execute_result"
    }
   ],
   "source": [
    "bios.head()"
   ]
  },
  {
   "cell_type": "code",
   "execution_count": 80,
   "metadata": {},
   "outputs": [
    {
     "data": {
      "application/vnd.microsoft.datawrangler.viewer.v0+json": {
       "columns": [
        {
         "name": "index",
         "rawType": "int64",
         "type": "integer"
        },
        {
         "name": "athlete_id",
         "rawType": "int64",
         "type": "integer"
        },
        {
         "name": "name",
         "rawType": "object",
         "type": "string"
        },
        {
         "name": "born_date",
         "rawType": "object",
         "type": "string"
        },
        {
         "name": "born_city",
         "rawType": "object",
         "type": "string"
        },
        {
         "name": "born_region",
         "rawType": "object",
         "type": "string"
        },
        {
         "name": "born_country",
         "rawType": "object",
         "type": "string"
        },
        {
         "name": "NOC",
         "rawType": "object",
         "type": "string"
        },
        {
         "name": "height_cm",
         "rawType": "float64",
         "type": "float"
        },
        {
         "name": "weight_kg",
         "rawType": "float64",
         "type": "float"
        },
        {
         "name": "died_date",
         "rawType": "object",
         "type": "unknown"
        }
       ],
       "conversionMethod": "pd.DataFrame",
       "ref": "54227ff6-9479-4a51-ac01-6d3a1df699eb",
       "rows": [
        [
         "0",
         "1",
         "Jean-François Blanchy",
         "1886-12-12",
         "Bordeaux",
         "Gironde",
         "FRA",
         "France",
         null,
         null,
         "1960-10-02"
        ],
        [
         "1",
         "2",
         "Arnaud Boetsch",
         "1969-04-01",
         "Meulan",
         "Yvelines",
         "FRA",
         "France",
         "183.0",
         "76.0",
         null
        ],
        [
         "2",
         "3",
         "Jean Borotra",
         "1898-08-13",
         "Biarritz",
         "Pyrénées-Atlantiques",
         "FRA",
         "France",
         "183.0",
         "76.0",
         "1994-07-17"
        ],
        [
         "3",
         "4",
         "Jacques Brugnon",
         "1895-05-11",
         "Paris VIIIe",
         "Paris",
         "FRA",
         "France",
         "168.0",
         "64.0",
         "1978-03-20"
        ],
        [
         "4",
         "5",
         "Albert Canet",
         "1878-04-17",
         "Wandsworth",
         "England",
         "GBR",
         "France",
         null,
         null,
         "1930-07-25"
        ],
        [
         "5",
         "6",
         "Nicolas Chatelain",
         "1970-01-13",
         "Amiens",
         "Somme",
         "FRA",
         "France",
         "181.0",
         "70.0",
         null
        ],
        [
         "6",
         "7",
         "Patrick Chila",
         "1969-11-27",
         "Ris-Orangis",
         "Essonne",
         "FRA",
         "France",
         "180.0",
         "73.0",
         null
        ],
        [
         "7",
         "8",
         "Henri Cochet",
         "1901-12-14",
         "Villeurbanne",
         "Rhône",
         "FRA",
         "France",
         null,
         null,
         "1987-04-02"
        ],
        [
         "8",
         "9",
         "Marcel Cousin",
         "1896-08-04",
         "Nîmes",
         "Gard",
         "FRA",
         "France",
         null,
         null,
         "1986-08-01"
        ],
        [
         "9",
         "10",
         "Guy de la Chapelle",
         "1868-07-16",
         "Farges-Allichamps",
         "Cher",
         "FRA",
         "France",
         null,
         null,
         "1923-08-27"
        ]
       ],
       "shape": {
        "columns": 10,
        "rows": 10
       }
      },
      "text/html": [
       "<div>\n",
       "<style scoped>\n",
       "    .dataframe tbody tr th:only-of-type {\n",
       "        vertical-align: middle;\n",
       "    }\n",
       "\n",
       "    .dataframe tbody tr th {\n",
       "        vertical-align: top;\n",
       "    }\n",
       "\n",
       "    .dataframe thead th {\n",
       "        text-align: right;\n",
       "    }\n",
       "</style>\n",
       "<table border=\"1\" class=\"dataframe\">\n",
       "  <thead>\n",
       "    <tr style=\"text-align: right;\">\n",
       "      <th></th>\n",
       "      <th>athlete_id</th>\n",
       "      <th>name</th>\n",
       "      <th>born_date</th>\n",
       "      <th>born_city</th>\n",
       "      <th>born_region</th>\n",
       "      <th>born_country</th>\n",
       "      <th>NOC</th>\n",
       "      <th>height_cm</th>\n",
       "      <th>weight_kg</th>\n",
       "      <th>died_date</th>\n",
       "    </tr>\n",
       "  </thead>\n",
       "  <tbody>\n",
       "    <tr>\n",
       "      <th>0</th>\n",
       "      <td>1</td>\n",
       "      <td>Jean-François Blanchy</td>\n",
       "      <td>1886-12-12</td>\n",
       "      <td>Bordeaux</td>\n",
       "      <td>Gironde</td>\n",
       "      <td>FRA</td>\n",
       "      <td>France</td>\n",
       "      <td>NaN</td>\n",
       "      <td>NaN</td>\n",
       "      <td>1960-10-02</td>\n",
       "    </tr>\n",
       "    <tr>\n",
       "      <th>1</th>\n",
       "      <td>2</td>\n",
       "      <td>Arnaud Boetsch</td>\n",
       "      <td>1969-04-01</td>\n",
       "      <td>Meulan</td>\n",
       "      <td>Yvelines</td>\n",
       "      <td>FRA</td>\n",
       "      <td>France</td>\n",
       "      <td>183.0</td>\n",
       "      <td>76.0</td>\n",
       "      <td>NaN</td>\n",
       "    </tr>\n",
       "    <tr>\n",
       "      <th>2</th>\n",
       "      <td>3</td>\n",
       "      <td>Jean Borotra</td>\n",
       "      <td>1898-08-13</td>\n",
       "      <td>Biarritz</td>\n",
       "      <td>Pyrénées-Atlantiques</td>\n",
       "      <td>FRA</td>\n",
       "      <td>France</td>\n",
       "      <td>183.0</td>\n",
       "      <td>76.0</td>\n",
       "      <td>1994-07-17</td>\n",
       "    </tr>\n",
       "    <tr>\n",
       "      <th>3</th>\n",
       "      <td>4</td>\n",
       "      <td>Jacques Brugnon</td>\n",
       "      <td>1895-05-11</td>\n",
       "      <td>Paris VIIIe</td>\n",
       "      <td>Paris</td>\n",
       "      <td>FRA</td>\n",
       "      <td>France</td>\n",
       "      <td>168.0</td>\n",
       "      <td>64.0</td>\n",
       "      <td>1978-03-20</td>\n",
       "    </tr>\n",
       "    <tr>\n",
       "      <th>4</th>\n",
       "      <td>5</td>\n",
       "      <td>Albert Canet</td>\n",
       "      <td>1878-04-17</td>\n",
       "      <td>Wandsworth</td>\n",
       "      <td>England</td>\n",
       "      <td>GBR</td>\n",
       "      <td>France</td>\n",
       "      <td>NaN</td>\n",
       "      <td>NaN</td>\n",
       "      <td>1930-07-25</td>\n",
       "    </tr>\n",
       "    <tr>\n",
       "      <th>5</th>\n",
       "      <td>6</td>\n",
       "      <td>Nicolas Chatelain</td>\n",
       "      <td>1970-01-13</td>\n",
       "      <td>Amiens</td>\n",
       "      <td>Somme</td>\n",
       "      <td>FRA</td>\n",
       "      <td>France</td>\n",
       "      <td>181.0</td>\n",
       "      <td>70.0</td>\n",
       "      <td>NaN</td>\n",
       "    </tr>\n",
       "    <tr>\n",
       "      <th>6</th>\n",
       "      <td>7</td>\n",
       "      <td>Patrick Chila</td>\n",
       "      <td>1969-11-27</td>\n",
       "      <td>Ris-Orangis</td>\n",
       "      <td>Essonne</td>\n",
       "      <td>FRA</td>\n",
       "      <td>France</td>\n",
       "      <td>180.0</td>\n",
       "      <td>73.0</td>\n",
       "      <td>NaN</td>\n",
       "    </tr>\n",
       "    <tr>\n",
       "      <th>7</th>\n",
       "      <td>8</td>\n",
       "      <td>Henri Cochet</td>\n",
       "      <td>1901-12-14</td>\n",
       "      <td>Villeurbanne</td>\n",
       "      <td>Rhône</td>\n",
       "      <td>FRA</td>\n",
       "      <td>France</td>\n",
       "      <td>NaN</td>\n",
       "      <td>NaN</td>\n",
       "      <td>1987-04-02</td>\n",
       "    </tr>\n",
       "    <tr>\n",
       "      <th>8</th>\n",
       "      <td>9</td>\n",
       "      <td>Marcel Cousin</td>\n",
       "      <td>1896-08-04</td>\n",
       "      <td>Nîmes</td>\n",
       "      <td>Gard</td>\n",
       "      <td>FRA</td>\n",
       "      <td>France</td>\n",
       "      <td>NaN</td>\n",
       "      <td>NaN</td>\n",
       "      <td>1986-08-01</td>\n",
       "    </tr>\n",
       "    <tr>\n",
       "      <th>9</th>\n",
       "      <td>10</td>\n",
       "      <td>Guy de la Chapelle</td>\n",
       "      <td>1868-07-16</td>\n",
       "      <td>Farges-Allichamps</td>\n",
       "      <td>Cher</td>\n",
       "      <td>FRA</td>\n",
       "      <td>France</td>\n",
       "      <td>NaN</td>\n",
       "      <td>NaN</td>\n",
       "      <td>1923-08-27</td>\n",
       "    </tr>\n",
       "  </tbody>\n",
       "</table>\n",
       "</div>"
      ],
      "text/plain": [
       "   athlete_id                   name   born_date          born_city  \\\n",
       "0           1  Jean-François Blanchy  1886-12-12           Bordeaux   \n",
       "1           2         Arnaud Boetsch  1969-04-01             Meulan   \n",
       "2           3           Jean Borotra  1898-08-13           Biarritz   \n",
       "3           4        Jacques Brugnon  1895-05-11        Paris VIIIe   \n",
       "4           5           Albert Canet  1878-04-17         Wandsworth   \n",
       "5           6      Nicolas Chatelain  1970-01-13             Amiens   \n",
       "6           7          Patrick Chila  1969-11-27        Ris-Orangis   \n",
       "7           8           Henri Cochet  1901-12-14       Villeurbanne   \n",
       "8           9          Marcel Cousin  1896-08-04              Nîmes   \n",
       "9          10     Guy de la Chapelle  1868-07-16  Farges-Allichamps   \n",
       "\n",
       "            born_region born_country     NOC  height_cm  weight_kg   died_date  \n",
       "0               Gironde          FRA  France        NaN        NaN  1960-10-02  \n",
       "1              Yvelines          FRA  France      183.0       76.0         NaN  \n",
       "2  Pyrénées-Atlantiques          FRA  France      183.0       76.0  1994-07-17  \n",
       "3                 Paris          FRA  France      168.0       64.0  1978-03-20  \n",
       "4               England          GBR  France        NaN        NaN  1930-07-25  \n",
       "5                 Somme          FRA  France      181.0       70.0         NaN  \n",
       "6               Essonne          FRA  France      180.0       73.0         NaN  \n",
       "7                 Rhône          FRA  France        NaN        NaN  1987-04-02  \n",
       "8                  Gard          FRA  France        NaN        NaN  1986-08-01  \n",
       "9                  Cher          FRA  France        NaN        NaN  1923-08-27  "
      ]
     },
     "execution_count": 80,
     "metadata": {},
     "output_type": "execute_result"
    }
   ],
   "source": [
    "bios.head(10)"
   ]
  },
  {
   "cell_type": "code",
   "execution_count": 81,
   "metadata": {},
   "outputs": [
    {
     "name": "stdout",
     "output_type": "stream",
     "text": [
      "<class 'pandas.core.frame.DataFrame'>\n",
      "RangeIndex: 145500 entries, 0 to 145499\n",
      "Data columns (total 10 columns):\n",
      " #   Column        Non-Null Count   Dtype  \n",
      "---  ------        --------------   -----  \n",
      " 0   athlete_id    145500 non-null  int64  \n",
      " 1   name          145500 non-null  object \n",
      " 2   born_date     143693 non-null  object \n",
      " 3   born_city     110908 non-null  object \n",
      " 4   born_region   110908 non-null  object \n",
      " 5   born_country  110908 non-null  object \n",
      " 6   NOC           145499 non-null  object \n",
      " 7   height_cm     106651 non-null  float64\n",
      " 8   weight_kg     102070 non-null  float64\n",
      " 9   died_date     33940 non-null   object \n",
      "dtypes: float64(2), int64(1), object(7)\n",
      "memory usage: 11.1+ MB\n"
     ]
    }
   ],
   "source": [
    "bios.info()"
   ]
  },
  {
   "cell_type": "code",
   "execution_count": 83,
   "metadata": {},
   "outputs": [
    {
     "data": {
      "application/vnd.microsoft.datawrangler.viewer.v0+json": {
       "columns": [
        {
         "name": "index",
         "rawType": "int64",
         "type": "integer"
        },
        {
         "name": "name",
         "rawType": "object",
         "type": "string"
        },
        {
         "name": "height_cm",
         "rawType": "float64",
         "type": "float"
        }
       ],
       "conversionMethod": "pd.DataFrame",
       "ref": "d3371f33-f543-493f-803e-7ceca4dc02bc",
       "rows": [
        [
         "5089",
         "Viktor Pankrashkin",
         "220.0"
        ],
        [
         "5583",
         " Paulinho Villas Boas",
         "217.0"
        ],
        [
         "5673",
         "Gunther Behnke",
         "221.0"
        ],
        [
         "5716",
         "Uwe Blab",
         "218.0"
        ],
        [
         "5781",
         "Tommy Burleson",
         "223.0"
        ],
        [
         "5796",
         "Andy Campbell",
         "218.0"
        ],
        [
         "6223",
         "Lars Hansen",
         "216.0"
        ],
        [
         "6270",
         "Hu Zhangbao",
         "216.0"
        ],
        [
         "6409",
         "Sergey Kovalenko",
         "216.0"
        ],
        [
         "6420",
         "Jānis Krūmiņš",
         "218.0"
        ],
        [
         "6504",
         "Luc Longley",
         "220.0"
        ],
        [
         "6722",
         "Shaquille O'Neal",
         "216.0"
        ],
        [
         "6937",
         "David Robinson",
         "216.0"
        ],
        [
         "6978",
         "Arvydas Sabonis",
         "223.0"
        ],
        [
         "7074",
         "Paulo da Silva",
         "217.0"
        ],
        [
         "7188",
         "Vladimir Tkachenko",
         "220.0"
        ],
        [
         "7281",
         "Stojko Vranković",
         "217.0"
        ],
        [
         "7376",
         "Eurelijus Žukauskas",
         "218.0"
        ],
        [
         "52608",
         "Aleksey Kazakov",
         "217.0"
        ],
        [
         "82100",
         "Frédéric Weis",
         "218.0"
        ],
        [
         "89070",
         "Yao Ming",
         "226.0"
        ],
        [
         "89075",
         "Roberto Dueñas",
         "221.0"
        ],
        [
         "107408",
         "Peter John Ramos",
         "219.0"
        ],
        [
         "112312",
         "Stanko Barać",
         "217.0"
        ],
        [
         "112332",
         "Andreas Glyniadakis",
         "216.0"
        ],
        [
         "112337",
         "Hamed Haddadi",
         "218.0"
        ],
        [
         "118663",
         "Timofey Mozgov",
         "216.0"
        ],
        [
         "118676",
         "Dmitry Musersky",
         "219.0"
        ],
        [
         "120266",
         "Zhang Zhaoxu",
         "221.0"
        ],
        [
         "121694",
         "Salah Mejri",
         "216.0"
        ],
        [
         "123850",
         "Tyson Chandler",
         "216.0"
        ],
        [
         "130460",
         "Li Muhao",
         "218.0"
        ],
        [
         "130461",
         "Zhou Qi",
         "217.0"
        ],
        [
         "138671",
         "Ondřej Balvín",
         "216.0"
        ],
        [
         "139365",
         "Moustapha Fall",
         "218.0"
        ]
       ],
       "shape": {
        "columns": 2,
        "rows": 35
       }
      },
      "text/html": [
       "<div>\n",
       "<style scoped>\n",
       "    .dataframe tbody tr th:only-of-type {\n",
       "        vertical-align: middle;\n",
       "    }\n",
       "\n",
       "    .dataframe tbody tr th {\n",
       "        vertical-align: top;\n",
       "    }\n",
       "\n",
       "    .dataframe thead th {\n",
       "        text-align: right;\n",
       "    }\n",
       "</style>\n",
       "<table border=\"1\" class=\"dataframe\">\n",
       "  <thead>\n",
       "    <tr style=\"text-align: right;\">\n",
       "      <th></th>\n",
       "      <th>name</th>\n",
       "      <th>height_cm</th>\n",
       "    </tr>\n",
       "  </thead>\n",
       "  <tbody>\n",
       "    <tr>\n",
       "      <th>5089</th>\n",
       "      <td>Viktor Pankrashkin</td>\n",
       "      <td>220.0</td>\n",
       "    </tr>\n",
       "    <tr>\n",
       "      <th>5583</th>\n",
       "      <td>Paulinho Villas Boas</td>\n",
       "      <td>217.0</td>\n",
       "    </tr>\n",
       "    <tr>\n",
       "      <th>5673</th>\n",
       "      <td>Gunther Behnke</td>\n",
       "      <td>221.0</td>\n",
       "    </tr>\n",
       "    <tr>\n",
       "      <th>5716</th>\n",
       "      <td>Uwe Blab</td>\n",
       "      <td>218.0</td>\n",
       "    </tr>\n",
       "    <tr>\n",
       "      <th>5781</th>\n",
       "      <td>Tommy Burleson</td>\n",
       "      <td>223.0</td>\n",
       "    </tr>\n",
       "    <tr>\n",
       "      <th>5796</th>\n",
       "      <td>Andy Campbell</td>\n",
       "      <td>218.0</td>\n",
       "    </tr>\n",
       "    <tr>\n",
       "      <th>6223</th>\n",
       "      <td>Lars Hansen</td>\n",
       "      <td>216.0</td>\n",
       "    </tr>\n",
       "    <tr>\n",
       "      <th>6270</th>\n",
       "      <td>Hu Zhangbao</td>\n",
       "      <td>216.0</td>\n",
       "    </tr>\n",
       "    <tr>\n",
       "      <th>6409</th>\n",
       "      <td>Sergey Kovalenko</td>\n",
       "      <td>216.0</td>\n",
       "    </tr>\n",
       "    <tr>\n",
       "      <th>6420</th>\n",
       "      <td>Jānis Krūmiņš</td>\n",
       "      <td>218.0</td>\n",
       "    </tr>\n",
       "    <tr>\n",
       "      <th>6504</th>\n",
       "      <td>Luc Longley</td>\n",
       "      <td>220.0</td>\n",
       "    </tr>\n",
       "    <tr>\n",
       "      <th>6722</th>\n",
       "      <td>Shaquille O'Neal</td>\n",
       "      <td>216.0</td>\n",
       "    </tr>\n",
       "    <tr>\n",
       "      <th>6937</th>\n",
       "      <td>David Robinson</td>\n",
       "      <td>216.0</td>\n",
       "    </tr>\n",
       "    <tr>\n",
       "      <th>6978</th>\n",
       "      <td>Arvydas Sabonis</td>\n",
       "      <td>223.0</td>\n",
       "    </tr>\n",
       "    <tr>\n",
       "      <th>7074</th>\n",
       "      <td>Paulo da Silva</td>\n",
       "      <td>217.0</td>\n",
       "    </tr>\n",
       "    <tr>\n",
       "      <th>7188</th>\n",
       "      <td>Vladimir Tkachenko</td>\n",
       "      <td>220.0</td>\n",
       "    </tr>\n",
       "    <tr>\n",
       "      <th>7281</th>\n",
       "      <td>Stojko Vranković</td>\n",
       "      <td>217.0</td>\n",
       "    </tr>\n",
       "    <tr>\n",
       "      <th>7376</th>\n",
       "      <td>Eurelijus Žukauskas</td>\n",
       "      <td>218.0</td>\n",
       "    </tr>\n",
       "    <tr>\n",
       "      <th>52608</th>\n",
       "      <td>Aleksey Kazakov</td>\n",
       "      <td>217.0</td>\n",
       "    </tr>\n",
       "    <tr>\n",
       "      <th>82100</th>\n",
       "      <td>Frédéric Weis</td>\n",
       "      <td>218.0</td>\n",
       "    </tr>\n",
       "    <tr>\n",
       "      <th>89070</th>\n",
       "      <td>Yao Ming</td>\n",
       "      <td>226.0</td>\n",
       "    </tr>\n",
       "    <tr>\n",
       "      <th>89075</th>\n",
       "      <td>Roberto Dueñas</td>\n",
       "      <td>221.0</td>\n",
       "    </tr>\n",
       "    <tr>\n",
       "      <th>107408</th>\n",
       "      <td>Peter John Ramos</td>\n",
       "      <td>219.0</td>\n",
       "    </tr>\n",
       "    <tr>\n",
       "      <th>112312</th>\n",
       "      <td>Stanko Barać</td>\n",
       "      <td>217.0</td>\n",
       "    </tr>\n",
       "    <tr>\n",
       "      <th>112332</th>\n",
       "      <td>Andreas Glyniadakis</td>\n",
       "      <td>216.0</td>\n",
       "    </tr>\n",
       "    <tr>\n",
       "      <th>112337</th>\n",
       "      <td>Hamed Haddadi</td>\n",
       "      <td>218.0</td>\n",
       "    </tr>\n",
       "    <tr>\n",
       "      <th>118663</th>\n",
       "      <td>Timofey Mozgov</td>\n",
       "      <td>216.0</td>\n",
       "    </tr>\n",
       "    <tr>\n",
       "      <th>118676</th>\n",
       "      <td>Dmitry Musersky</td>\n",
       "      <td>219.0</td>\n",
       "    </tr>\n",
       "    <tr>\n",
       "      <th>120266</th>\n",
       "      <td>Zhang Zhaoxu</td>\n",
       "      <td>221.0</td>\n",
       "    </tr>\n",
       "    <tr>\n",
       "      <th>121694</th>\n",
       "      <td>Salah Mejri</td>\n",
       "      <td>216.0</td>\n",
       "    </tr>\n",
       "    <tr>\n",
       "      <th>123850</th>\n",
       "      <td>Tyson Chandler</td>\n",
       "      <td>216.0</td>\n",
       "    </tr>\n",
       "    <tr>\n",
       "      <th>130460</th>\n",
       "      <td>Li Muhao</td>\n",
       "      <td>218.0</td>\n",
       "    </tr>\n",
       "    <tr>\n",
       "      <th>130461</th>\n",
       "      <td>Zhou Qi</td>\n",
       "      <td>217.0</td>\n",
       "    </tr>\n",
       "    <tr>\n",
       "      <th>138671</th>\n",
       "      <td>Ondřej Balvín</td>\n",
       "      <td>216.0</td>\n",
       "    </tr>\n",
       "    <tr>\n",
       "      <th>139365</th>\n",
       "      <td>Moustapha Fall</td>\n",
       "      <td>218.0</td>\n",
       "    </tr>\n",
       "  </tbody>\n",
       "</table>\n",
       "</div>"
      ],
      "text/plain": [
       "                         name  height_cm\n",
       "5089       Viktor Pankrashkin      220.0\n",
       "5583     Paulinho Villas Boas      217.0\n",
       "5673           Gunther Behnke      221.0\n",
       "5716                 Uwe Blab      218.0\n",
       "5781           Tommy Burleson      223.0\n",
       "5796            Andy Campbell      218.0\n",
       "6223              Lars Hansen      216.0\n",
       "6270              Hu Zhangbao      216.0\n",
       "6409         Sergey Kovalenko      216.0\n",
       "6420            Jānis Krūmiņš      218.0\n",
       "6504              Luc Longley      220.0\n",
       "6722         Shaquille O'Neal      216.0\n",
       "6937           David Robinson      216.0\n",
       "6978          Arvydas Sabonis      223.0\n",
       "7074           Paulo da Silva      217.0\n",
       "7188       Vladimir Tkachenko      220.0\n",
       "7281         Stojko Vranković      217.0\n",
       "7376      Eurelijus Žukauskas      218.0\n",
       "52608         Aleksey Kazakov      217.0\n",
       "82100           Frédéric Weis      218.0\n",
       "89070                Yao Ming      226.0\n",
       "89075          Roberto Dueñas      221.0\n",
       "107408       Peter John Ramos      219.0\n",
       "112312           Stanko Barać      217.0\n",
       "112332    Andreas Glyniadakis      216.0\n",
       "112337          Hamed Haddadi      218.0\n",
       "118663         Timofey Mozgov      216.0\n",
       "118676        Dmitry Musersky      219.0\n",
       "120266           Zhang Zhaoxu      221.0\n",
       "121694            Salah Mejri      216.0\n",
       "123850         Tyson Chandler      216.0\n",
       "130460               Li Muhao      218.0\n",
       "130461                Zhou Qi      217.0\n",
       "138671          Ondřej Balvín      216.0\n",
       "139365         Moustapha Fall      218.0"
      ]
     },
     "execution_count": 83,
     "metadata": {},
     "output_type": "execute_result"
    }
   ],
   "source": [
    "bios.loc[bios['height_cm'] > 215, ['name', 'height_cm']]"
   ]
  },
  {
   "cell_type": "code",
   "execution_count": 97,
   "metadata": {},
   "outputs": [
    {
     "data": {
      "application/vnd.microsoft.datawrangler.viewer.v0+json": {
       "columns": [
        {
         "name": "index",
         "rawType": "int64",
         "type": "integer"
        },
        {
         "name": "athlete_id",
         "rawType": "int64",
         "type": "integer"
        },
        {
         "name": "name",
         "rawType": "object",
         "type": "string"
        },
        {
         "name": "born_date",
         "rawType": "object",
         "type": "unknown"
        },
        {
         "name": "born_city",
         "rawType": "object",
         "type": "unknown"
        },
        {
         "name": "born_region",
         "rawType": "object",
         "type": "unknown"
        },
        {
         "name": "born_country",
         "rawType": "object",
         "type": "unknown"
        },
        {
         "name": "NOC",
         "rawType": "object",
         "type": "string"
        },
        {
         "name": "height_cm",
         "rawType": "float64",
         "type": "float"
        },
        {
         "name": "weight_kg",
         "rawType": "float64",
         "type": "float"
        },
        {
         "name": "died_date",
         "rawType": "object",
         "type": "unknown"
        }
       ],
       "conversionMethod": "pd.DataFrame",
       "ref": "85a308c3-124a-4359-a662-2b6255bfca3f",
       "rows": [
        [
         "4692",
         "4709",
         "Ko Janssens",
         "1889-12-20",
         "Rotterdam",
         "Zuid-Holland",
         "NED",
         "Netherlands",
         null,
         null,
         "1970-08-21"
        ],
        [
         "9072",
         "9123",
         "Theo Claessens",
         "1948-12-18",
         "Niel",
         "Antwerpen",
         "BEL",
         "Belgium",
         "188.0",
         "83.0",
         null
        ],
        [
         "9086",
         "9137",
         "Patrick Hanssens",
         "1956-06-06",
         "Antwerpen (Antwerp)",
         "Antwerpen",
         "BEL",
         "Belgium",
         "184.0",
         "80.0",
         null
        ],
        [
         "13785",
         "13872",
         "Rudi Ceyssens",
         "1962-07-19",
         "Koersel",
         "Limburg",
         "BEL",
         "Belgium",
         "189.0",
         "85.0",
         "2015-12-20"
        ],
        [
         "13862",
         "13949",
         "Frédéric Claessens",
         "1896-02-09",
         "Niel",
         "Antwerpen",
         "BEL",
         "Belgium",
         null,
         null,
         null
        ],
        [
         "14790",
         "14890",
         "Bernard Janssens",
         "1895-08-18",
         "Hoboken",
         "Antwerpen",
         "BEL",
         "Belgium",
         null,
         null,
         null
        ],
        [
         "17546",
         "17666",
         "Louis Diercxsens",
         "1898-09-28",
         "Antwerpen (Antwerp)",
         "Antwerpen",
         "BEL",
         "Belgium",
         null,
         null,
         "1992-04-21"
        ],
        [
         "17560",
         "17680",
         "Roger Goossens",
         "1926-12-07",
         "Bruxelles (Brussels)",
         "Région de Bruxelles-Capitale",
         "BEL",
         "Belgium",
         "182.0",
         "80.0",
         "2019-12-21"
        ],
        [
         "29192",
         "29406",
         "François Claessens",
         "1897-10-02",
         "Berchem",
         "Antwerpen",
         "BEL",
         "Belgium",
         null,
         null,
         "1971-09-29"
        ],
        [
         "29193",
         "29407",
         "Jean-Baptiste Claessens",
         null,
         null,
         null,
         null,
         "Belgium",
         null,
         null,
         null
        ],
        [
         "32933",
         "33181",
         "Heidi Goossens",
         "1969-04-13",
         "Herentals",
         "Antwerpen",
         "BEL",
         "Belgium",
         "161.0",
         "52.0",
         null
        ],
        [
         "35453",
         "35730",
         "Ben Piessens",
         "1912-02-23",
         "Hemiksem",
         "Antwerpen",
         "BEL",
         "Belgium",
         null,
         null,
         "1975-12-24"
        ],
        [
         "40958",
         "41269",
         "Conrad Adriaenssens",
         "1871-09-25",
         "Antwerpen (Antwerp)",
         "Antwerpen",
         "BEL",
         "Belgium",
         null,
         null,
         null
        ],
        [
         "40992",
         "41306",
         "Joseph Janssens",
         null,
         null,
         null,
         null,
         "Belgium",
         null,
         null,
         null
        ],
        [
         "45107",
         "45450",
         "Colette Goossens",
         "1942-06-02",
         "Roubaix",
         "Nord",
         "FRA",
         "Belgium",
         null,
         null,
         null
        ],
        [
         "45113",
         "45456",
         "Christelle Janssens",
         "1972-02-26",
         "Arlon",
         "Luxembourg",
         "BEL",
         "Belgium",
         "163.0",
         "61.0",
         null
        ],
        [
         "54841",
         "55235",
         "J. Adriaenssens",
         null,
         null,
         null,
         null,
         "Belgium",
         null,
         null,
         null
        ],
        [
         "56894",
         "57299",
         "Frits Janssens",
         "1892-03-14",
         "Berchem",
         "Antwerpen",
         "BEL",
         "Belgium",
         null,
         null,
         "1965-03-30"
        ],
        [
         "61189",
         "61634",
         "Kurts Klāsens",
         "1893-09-03",
         "Rīga",
         "Rīga",
         "LAT",
         "Latvia",
         null,
         null,
         null
        ],
        [
         "64726",
         "65214",
         "Walter Herssens",
         "1930-02-15",
         "Brugge (Bruges)",
         "West-Vlaanderen",
         "BEL",
         "Belgium",
         null,
         null,
         "1992-01-14"
        ],
        [
         "64731",
         "65219",
         "Daniel Janssens",
         "1925-12-02",
         "Petegem-aan-de-Leie",
         "Oost-Vlaanderen",
         "BEL",
         "Belgium",
         "171.0",
         "62.0",
         "2004-10-06"
        ],
        [
         "85457",
         "86138",
         "Jean-Maurice Goossens",
         "1892-01-16",
         "Seraing",
         "Liège",
         "BEL",
         "Belgium",
         null,
         null,
         "1965-07-06"
        ],
        [
         "91858",
         "92589",
         "Robert Sens",
         "1977-10-29",
         "Schwerin",
         "Mecklenburg-Vorpommern",
         "GER",
         "Germany",
         "200.0",
         "95.0",
         null
        ],
        [
         "100916",
         "101780",
         "Ward Janssens",
         "1982-07-13",
         "Brugge (Bruges)",
         "West-Vlaanderen",
         "BEL",
         "Belgium",
         "178.0",
         "72.0",
         null
        ],
        [
         "103281",
         "104257",
         "Catriona Oliver-Sens",
         "1980-04-02",
         "Sale",
         "Victoria",
         "AUS",
         "Australia",
         "183.0",
         "70.0",
         null
        ],
        [
         "123517",
         "125718",
         "Dion Dreesens",
         "1993-04-30",
         "Venray",
         "Limburg",
         "NED",
         "Netherlands",
         "195.0",
         "88.0",
         null
        ],
        [
         "130025",
         "132676",
         "Dennis Goossens",
         "1993-12-16",
         "Lokeren",
         "Oost-Vlaanderen",
         "BEL",
         "Belgium",
         "160.0",
         "65.0",
         null
        ],
        [
         "136428",
         "139654",
         "Sanne Claessens",
         "2004-01-05",
         null,
         null,
         null,
         "Netherlands",
         null,
         null,
         null
        ],
        [
         "138030",
         "141417",
         "Hillary Janssens",
         "1994-07-21",
         "Surrey",
         "British Columbia",
         "CAN",
         "Canada",
         null,
         null,
         null
        ],
        [
         "139101",
         "142551",
         "Marc Recasens",
         "1999-09-13",
         "Barcelona",
         "Barcelona",
         "ESP",
         "Spain",
         "177.0",
         "76.0",
         null
        ]
       ],
       "shape": {
        "columns": 10,
        "rows": 30
       }
      },
      "text/html": [
       "<div>\n",
       "<style scoped>\n",
       "    .dataframe tbody tr th:only-of-type {\n",
       "        vertical-align: middle;\n",
       "    }\n",
       "\n",
       "    .dataframe tbody tr th {\n",
       "        vertical-align: top;\n",
       "    }\n",
       "\n",
       "    .dataframe thead th {\n",
       "        text-align: right;\n",
       "    }\n",
       "</style>\n",
       "<table border=\"1\" class=\"dataframe\">\n",
       "  <thead>\n",
       "    <tr style=\"text-align: right;\">\n",
       "      <th></th>\n",
       "      <th>athlete_id</th>\n",
       "      <th>name</th>\n",
       "      <th>born_date</th>\n",
       "      <th>born_city</th>\n",
       "      <th>born_region</th>\n",
       "      <th>born_country</th>\n",
       "      <th>NOC</th>\n",
       "      <th>height_cm</th>\n",
       "      <th>weight_kg</th>\n",
       "      <th>died_date</th>\n",
       "    </tr>\n",
       "  </thead>\n",
       "  <tbody>\n",
       "    <tr>\n",
       "      <th>4692</th>\n",
       "      <td>4709</td>\n",
       "      <td>Ko Janssens</td>\n",
       "      <td>1889-12-20</td>\n",
       "      <td>Rotterdam</td>\n",
       "      <td>Zuid-Holland</td>\n",
       "      <td>NED</td>\n",
       "      <td>Netherlands</td>\n",
       "      <td>NaN</td>\n",
       "      <td>NaN</td>\n",
       "      <td>1970-08-21</td>\n",
       "    </tr>\n",
       "    <tr>\n",
       "      <th>9072</th>\n",
       "      <td>9123</td>\n",
       "      <td>Theo Claessens</td>\n",
       "      <td>1948-12-18</td>\n",
       "      <td>Niel</td>\n",
       "      <td>Antwerpen</td>\n",
       "      <td>BEL</td>\n",
       "      <td>Belgium</td>\n",
       "      <td>188.0</td>\n",
       "      <td>83.0</td>\n",
       "      <td>NaN</td>\n",
       "    </tr>\n",
       "    <tr>\n",
       "      <th>9086</th>\n",
       "      <td>9137</td>\n",
       "      <td>Patrick Hanssens</td>\n",
       "      <td>1956-06-06</td>\n",
       "      <td>Antwerpen (Antwerp)</td>\n",
       "      <td>Antwerpen</td>\n",
       "      <td>BEL</td>\n",
       "      <td>Belgium</td>\n",
       "      <td>184.0</td>\n",
       "      <td>80.0</td>\n",
       "      <td>NaN</td>\n",
       "    </tr>\n",
       "    <tr>\n",
       "      <th>13785</th>\n",
       "      <td>13872</td>\n",
       "      <td>Rudi Ceyssens</td>\n",
       "      <td>1962-07-19</td>\n",
       "      <td>Koersel</td>\n",
       "      <td>Limburg</td>\n",
       "      <td>BEL</td>\n",
       "      <td>Belgium</td>\n",
       "      <td>189.0</td>\n",
       "      <td>85.0</td>\n",
       "      <td>2015-12-20</td>\n",
       "    </tr>\n",
       "    <tr>\n",
       "      <th>13862</th>\n",
       "      <td>13949</td>\n",
       "      <td>Frédéric Claessens</td>\n",
       "      <td>1896-02-09</td>\n",
       "      <td>Niel</td>\n",
       "      <td>Antwerpen</td>\n",
       "      <td>BEL</td>\n",
       "      <td>Belgium</td>\n",
       "      <td>NaN</td>\n",
       "      <td>NaN</td>\n",
       "      <td>NaN</td>\n",
       "    </tr>\n",
       "    <tr>\n",
       "      <th>14790</th>\n",
       "      <td>14890</td>\n",
       "      <td>Bernard Janssens</td>\n",
       "      <td>1895-08-18</td>\n",
       "      <td>Hoboken</td>\n",
       "      <td>Antwerpen</td>\n",
       "      <td>BEL</td>\n",
       "      <td>Belgium</td>\n",
       "      <td>NaN</td>\n",
       "      <td>NaN</td>\n",
       "      <td>NaN</td>\n",
       "    </tr>\n",
       "    <tr>\n",
       "      <th>17546</th>\n",
       "      <td>17666</td>\n",
       "      <td>Louis Diercxsens</td>\n",
       "      <td>1898-09-28</td>\n",
       "      <td>Antwerpen (Antwerp)</td>\n",
       "      <td>Antwerpen</td>\n",
       "      <td>BEL</td>\n",
       "      <td>Belgium</td>\n",
       "      <td>NaN</td>\n",
       "      <td>NaN</td>\n",
       "      <td>1992-04-21</td>\n",
       "    </tr>\n",
       "    <tr>\n",
       "      <th>17560</th>\n",
       "      <td>17680</td>\n",
       "      <td>Roger Goossens</td>\n",
       "      <td>1926-12-07</td>\n",
       "      <td>Bruxelles (Brussels)</td>\n",
       "      <td>Région de Bruxelles-Capitale</td>\n",
       "      <td>BEL</td>\n",
       "      <td>Belgium</td>\n",
       "      <td>182.0</td>\n",
       "      <td>80.0</td>\n",
       "      <td>2019-12-21</td>\n",
       "    </tr>\n",
       "    <tr>\n",
       "      <th>29192</th>\n",
       "      <td>29406</td>\n",
       "      <td>François Claessens</td>\n",
       "      <td>1897-10-02</td>\n",
       "      <td>Berchem</td>\n",
       "      <td>Antwerpen</td>\n",
       "      <td>BEL</td>\n",
       "      <td>Belgium</td>\n",
       "      <td>NaN</td>\n",
       "      <td>NaN</td>\n",
       "      <td>1971-09-29</td>\n",
       "    </tr>\n",
       "    <tr>\n",
       "      <th>29193</th>\n",
       "      <td>29407</td>\n",
       "      <td>Jean-Baptiste Claessens</td>\n",
       "      <td>NaN</td>\n",
       "      <td>NaN</td>\n",
       "      <td>NaN</td>\n",
       "      <td>NaN</td>\n",
       "      <td>Belgium</td>\n",
       "      <td>NaN</td>\n",
       "      <td>NaN</td>\n",
       "      <td>NaN</td>\n",
       "    </tr>\n",
       "    <tr>\n",
       "      <th>32933</th>\n",
       "      <td>33181</td>\n",
       "      <td>Heidi Goossens</td>\n",
       "      <td>1969-04-13</td>\n",
       "      <td>Herentals</td>\n",
       "      <td>Antwerpen</td>\n",
       "      <td>BEL</td>\n",
       "      <td>Belgium</td>\n",
       "      <td>161.0</td>\n",
       "      <td>52.0</td>\n",
       "      <td>NaN</td>\n",
       "    </tr>\n",
       "    <tr>\n",
       "      <th>35453</th>\n",
       "      <td>35730</td>\n",
       "      <td>Ben Piessens</td>\n",
       "      <td>1912-02-23</td>\n",
       "      <td>Hemiksem</td>\n",
       "      <td>Antwerpen</td>\n",
       "      <td>BEL</td>\n",
       "      <td>Belgium</td>\n",
       "      <td>NaN</td>\n",
       "      <td>NaN</td>\n",
       "      <td>1975-12-24</td>\n",
       "    </tr>\n",
       "    <tr>\n",
       "      <th>40958</th>\n",
       "      <td>41269</td>\n",
       "      <td>Conrad Adriaenssens</td>\n",
       "      <td>1871-09-25</td>\n",
       "      <td>Antwerpen (Antwerp)</td>\n",
       "      <td>Antwerpen</td>\n",
       "      <td>BEL</td>\n",
       "      <td>Belgium</td>\n",
       "      <td>NaN</td>\n",
       "      <td>NaN</td>\n",
       "      <td>NaN</td>\n",
       "    </tr>\n",
       "    <tr>\n",
       "      <th>40992</th>\n",
       "      <td>41306</td>\n",
       "      <td>Joseph Janssens</td>\n",
       "      <td>NaN</td>\n",
       "      <td>NaN</td>\n",
       "      <td>NaN</td>\n",
       "      <td>NaN</td>\n",
       "      <td>Belgium</td>\n",
       "      <td>NaN</td>\n",
       "      <td>NaN</td>\n",
       "      <td>NaN</td>\n",
       "    </tr>\n",
       "    <tr>\n",
       "      <th>45107</th>\n",
       "      <td>45450</td>\n",
       "      <td>Colette Goossens</td>\n",
       "      <td>1942-06-02</td>\n",
       "      <td>Roubaix</td>\n",
       "      <td>Nord</td>\n",
       "      <td>FRA</td>\n",
       "      <td>Belgium</td>\n",
       "      <td>NaN</td>\n",
       "      <td>NaN</td>\n",
       "      <td>NaN</td>\n",
       "    </tr>\n",
       "    <tr>\n",
       "      <th>45113</th>\n",
       "      <td>45456</td>\n",
       "      <td>Christelle Janssens</td>\n",
       "      <td>1972-02-26</td>\n",
       "      <td>Arlon</td>\n",
       "      <td>Luxembourg</td>\n",
       "      <td>BEL</td>\n",
       "      <td>Belgium</td>\n",
       "      <td>163.0</td>\n",
       "      <td>61.0</td>\n",
       "      <td>NaN</td>\n",
       "    </tr>\n",
       "    <tr>\n",
       "      <th>54841</th>\n",
       "      <td>55235</td>\n",
       "      <td>J. Adriaenssens</td>\n",
       "      <td>NaN</td>\n",
       "      <td>NaN</td>\n",
       "      <td>NaN</td>\n",
       "      <td>NaN</td>\n",
       "      <td>Belgium</td>\n",
       "      <td>NaN</td>\n",
       "      <td>NaN</td>\n",
       "      <td>NaN</td>\n",
       "    </tr>\n",
       "    <tr>\n",
       "      <th>56894</th>\n",
       "      <td>57299</td>\n",
       "      <td>Frits Janssens</td>\n",
       "      <td>1892-03-14</td>\n",
       "      <td>Berchem</td>\n",
       "      <td>Antwerpen</td>\n",
       "      <td>BEL</td>\n",
       "      <td>Belgium</td>\n",
       "      <td>NaN</td>\n",
       "      <td>NaN</td>\n",
       "      <td>1965-03-30</td>\n",
       "    </tr>\n",
       "    <tr>\n",
       "      <th>61189</th>\n",
       "      <td>61634</td>\n",
       "      <td>Kurts Klāsens</td>\n",
       "      <td>1893-09-03</td>\n",
       "      <td>Rīga</td>\n",
       "      <td>Rīga</td>\n",
       "      <td>LAT</td>\n",
       "      <td>Latvia</td>\n",
       "      <td>NaN</td>\n",
       "      <td>NaN</td>\n",
       "      <td>NaN</td>\n",
       "    </tr>\n",
       "    <tr>\n",
       "      <th>64726</th>\n",
       "      <td>65214</td>\n",
       "      <td>Walter Herssens</td>\n",
       "      <td>1930-02-15</td>\n",
       "      <td>Brugge (Bruges)</td>\n",
       "      <td>West-Vlaanderen</td>\n",
       "      <td>BEL</td>\n",
       "      <td>Belgium</td>\n",
       "      <td>NaN</td>\n",
       "      <td>NaN</td>\n",
       "      <td>1992-01-14</td>\n",
       "    </tr>\n",
       "    <tr>\n",
       "      <th>64731</th>\n",
       "      <td>65219</td>\n",
       "      <td>Daniel Janssens</td>\n",
       "      <td>1925-12-02</td>\n",
       "      <td>Petegem-aan-de-Leie</td>\n",
       "      <td>Oost-Vlaanderen</td>\n",
       "      <td>BEL</td>\n",
       "      <td>Belgium</td>\n",
       "      <td>171.0</td>\n",
       "      <td>62.0</td>\n",
       "      <td>2004-10-06</td>\n",
       "    </tr>\n",
       "    <tr>\n",
       "      <th>85457</th>\n",
       "      <td>86138</td>\n",
       "      <td>Jean-Maurice Goossens</td>\n",
       "      <td>1892-01-16</td>\n",
       "      <td>Seraing</td>\n",
       "      <td>Liège</td>\n",
       "      <td>BEL</td>\n",
       "      <td>Belgium</td>\n",
       "      <td>NaN</td>\n",
       "      <td>NaN</td>\n",
       "      <td>1965-07-06</td>\n",
       "    </tr>\n",
       "    <tr>\n",
       "      <th>91858</th>\n",
       "      <td>92589</td>\n",
       "      <td>Robert Sens</td>\n",
       "      <td>1977-10-29</td>\n",
       "      <td>Schwerin</td>\n",
       "      <td>Mecklenburg-Vorpommern</td>\n",
       "      <td>GER</td>\n",
       "      <td>Germany</td>\n",
       "      <td>200.0</td>\n",
       "      <td>95.0</td>\n",
       "      <td>NaN</td>\n",
       "    </tr>\n",
       "    <tr>\n",
       "      <th>100916</th>\n",
       "      <td>101780</td>\n",
       "      <td>Ward Janssens</td>\n",
       "      <td>1982-07-13</td>\n",
       "      <td>Brugge (Bruges)</td>\n",
       "      <td>West-Vlaanderen</td>\n",
       "      <td>BEL</td>\n",
       "      <td>Belgium</td>\n",
       "      <td>178.0</td>\n",
       "      <td>72.0</td>\n",
       "      <td>NaN</td>\n",
       "    </tr>\n",
       "    <tr>\n",
       "      <th>103281</th>\n",
       "      <td>104257</td>\n",
       "      <td>Catriona Oliver-Sens</td>\n",
       "      <td>1980-04-02</td>\n",
       "      <td>Sale</td>\n",
       "      <td>Victoria</td>\n",
       "      <td>AUS</td>\n",
       "      <td>Australia</td>\n",
       "      <td>183.0</td>\n",
       "      <td>70.0</td>\n",
       "      <td>NaN</td>\n",
       "    </tr>\n",
       "    <tr>\n",
       "      <th>123517</th>\n",
       "      <td>125718</td>\n",
       "      <td>Dion Dreesens</td>\n",
       "      <td>1993-04-30</td>\n",
       "      <td>Venray</td>\n",
       "      <td>Limburg</td>\n",
       "      <td>NED</td>\n",
       "      <td>Netherlands</td>\n",
       "      <td>195.0</td>\n",
       "      <td>88.0</td>\n",
       "      <td>NaN</td>\n",
       "    </tr>\n",
       "    <tr>\n",
       "      <th>130025</th>\n",
       "      <td>132676</td>\n",
       "      <td>Dennis Goossens</td>\n",
       "      <td>1993-12-16</td>\n",
       "      <td>Lokeren</td>\n",
       "      <td>Oost-Vlaanderen</td>\n",
       "      <td>BEL</td>\n",
       "      <td>Belgium</td>\n",
       "      <td>160.0</td>\n",
       "      <td>65.0</td>\n",
       "      <td>NaN</td>\n",
       "    </tr>\n",
       "    <tr>\n",
       "      <th>136428</th>\n",
       "      <td>139654</td>\n",
       "      <td>Sanne Claessens</td>\n",
       "      <td>2004-01-05</td>\n",
       "      <td>NaN</td>\n",
       "      <td>NaN</td>\n",
       "      <td>NaN</td>\n",
       "      <td>Netherlands</td>\n",
       "      <td>NaN</td>\n",
       "      <td>NaN</td>\n",
       "      <td>NaN</td>\n",
       "    </tr>\n",
       "    <tr>\n",
       "      <th>138030</th>\n",
       "      <td>141417</td>\n",
       "      <td>Hillary Janssens</td>\n",
       "      <td>1994-07-21</td>\n",
       "      <td>Surrey</td>\n",
       "      <td>British Columbia</td>\n",
       "      <td>CAN</td>\n",
       "      <td>Canada</td>\n",
       "      <td>NaN</td>\n",
       "      <td>NaN</td>\n",
       "      <td>NaN</td>\n",
       "    </tr>\n",
       "    <tr>\n",
       "      <th>139101</th>\n",
       "      <td>142551</td>\n",
       "      <td>Marc Recasens</td>\n",
       "      <td>1999-09-13</td>\n",
       "      <td>Barcelona</td>\n",
       "      <td>Barcelona</td>\n",
       "      <td>ESP</td>\n",
       "      <td>Spain</td>\n",
       "      <td>177.0</td>\n",
       "      <td>76.0</td>\n",
       "      <td>NaN</td>\n",
       "    </tr>\n",
       "  </tbody>\n",
       "</table>\n",
       "</div>"
      ],
      "text/plain": [
       "        athlete_id                     name   born_date             born_city  \\\n",
       "4692          4709              Ko Janssens  1889-12-20             Rotterdam   \n",
       "9072          9123           Theo Claessens  1948-12-18                  Niel   \n",
       "9086          9137         Patrick Hanssens  1956-06-06   Antwerpen (Antwerp)   \n",
       "13785        13872            Rudi Ceyssens  1962-07-19               Koersel   \n",
       "13862        13949       Frédéric Claessens  1896-02-09                  Niel   \n",
       "14790        14890         Bernard Janssens  1895-08-18               Hoboken   \n",
       "17546        17666         Louis Diercxsens  1898-09-28   Antwerpen (Antwerp)   \n",
       "17560        17680           Roger Goossens  1926-12-07  Bruxelles (Brussels)   \n",
       "29192        29406       François Claessens  1897-10-02               Berchem   \n",
       "29193        29407  Jean-Baptiste Claessens         NaN                   NaN   \n",
       "32933        33181           Heidi Goossens  1969-04-13             Herentals   \n",
       "35453        35730             Ben Piessens  1912-02-23              Hemiksem   \n",
       "40958        41269      Conrad Adriaenssens  1871-09-25   Antwerpen (Antwerp)   \n",
       "40992        41306          Joseph Janssens         NaN                   NaN   \n",
       "45107        45450         Colette Goossens  1942-06-02               Roubaix   \n",
       "45113        45456      Christelle Janssens  1972-02-26                 Arlon   \n",
       "54841        55235          J. Adriaenssens         NaN                   NaN   \n",
       "56894        57299           Frits Janssens  1892-03-14               Berchem   \n",
       "61189        61634            Kurts Klāsens  1893-09-03                  Rīga   \n",
       "64726        65214          Walter Herssens  1930-02-15       Brugge (Bruges)   \n",
       "64731        65219          Daniel Janssens  1925-12-02   Petegem-aan-de-Leie   \n",
       "85457        86138    Jean-Maurice Goossens  1892-01-16               Seraing   \n",
       "91858        92589              Robert Sens  1977-10-29              Schwerin   \n",
       "100916      101780            Ward Janssens  1982-07-13       Brugge (Bruges)   \n",
       "103281      104257     Catriona Oliver-Sens  1980-04-02                  Sale   \n",
       "123517      125718            Dion Dreesens  1993-04-30                Venray   \n",
       "130025      132676          Dennis Goossens  1993-12-16               Lokeren   \n",
       "136428      139654          Sanne Claessens  2004-01-05                   NaN   \n",
       "138030      141417         Hillary Janssens  1994-07-21                Surrey   \n",
       "139101      142551            Marc Recasens  1999-09-13             Barcelona   \n",
       "\n",
       "                         born_region born_country          NOC  height_cm  \\\n",
       "4692                    Zuid-Holland          NED  Netherlands        NaN   \n",
       "9072                       Antwerpen          BEL      Belgium      188.0   \n",
       "9086                       Antwerpen          BEL      Belgium      184.0   \n",
       "13785                        Limburg          BEL      Belgium      189.0   \n",
       "13862                      Antwerpen          BEL      Belgium        NaN   \n",
       "14790                      Antwerpen          BEL      Belgium        NaN   \n",
       "17546                      Antwerpen          BEL      Belgium        NaN   \n",
       "17560   Région de Bruxelles-Capitale          BEL      Belgium      182.0   \n",
       "29192                      Antwerpen          BEL      Belgium        NaN   \n",
       "29193                            NaN          NaN      Belgium        NaN   \n",
       "32933                      Antwerpen          BEL      Belgium      161.0   \n",
       "35453                      Antwerpen          BEL      Belgium        NaN   \n",
       "40958                      Antwerpen          BEL      Belgium        NaN   \n",
       "40992                            NaN          NaN      Belgium        NaN   \n",
       "45107                           Nord          FRA      Belgium        NaN   \n",
       "45113                     Luxembourg          BEL      Belgium      163.0   \n",
       "54841                            NaN          NaN      Belgium        NaN   \n",
       "56894                      Antwerpen          BEL      Belgium        NaN   \n",
       "61189                           Rīga          LAT       Latvia        NaN   \n",
       "64726                West-Vlaanderen          BEL      Belgium        NaN   \n",
       "64731                Oost-Vlaanderen          BEL      Belgium      171.0   \n",
       "85457                          Liège          BEL      Belgium        NaN   \n",
       "91858         Mecklenburg-Vorpommern          GER      Germany      200.0   \n",
       "100916               West-Vlaanderen          BEL      Belgium      178.0   \n",
       "103281                      Victoria          AUS    Australia      183.0   \n",
       "123517                       Limburg          NED  Netherlands      195.0   \n",
       "130025               Oost-Vlaanderen          BEL      Belgium      160.0   \n",
       "136428                           NaN          NaN  Netherlands        NaN   \n",
       "138030              British Columbia          CAN       Canada        NaN   \n",
       "139101                     Barcelona          ESP        Spain      177.0   \n",
       "\n",
       "        weight_kg   died_date  \n",
       "4692          NaN  1970-08-21  \n",
       "9072         83.0         NaN  \n",
       "9086         80.0         NaN  \n",
       "13785        85.0  2015-12-20  \n",
       "13862         NaN         NaN  \n",
       "14790         NaN         NaN  \n",
       "17546         NaN  1992-04-21  \n",
       "17560        80.0  2019-12-21  \n",
       "29192         NaN  1971-09-29  \n",
       "29193         NaN         NaN  \n",
       "32933        52.0         NaN  \n",
       "35453         NaN  1975-12-24  \n",
       "40958         NaN         NaN  \n",
       "40992         NaN         NaN  \n",
       "45107         NaN         NaN  \n",
       "45113        61.0         NaN  \n",
       "54841         NaN         NaN  \n",
       "56894         NaN  1965-03-30  \n",
       "61189         NaN         NaN  \n",
       "64726         NaN  1992-01-14  \n",
       "64731        62.0  2004-10-06  \n",
       "85457         NaN  1965-07-06  \n",
       "91858        95.0         NaN  \n",
       "100916       72.0         NaN  \n",
       "103281       70.0         NaN  \n",
       "123517       88.0         NaN  \n",
       "130025       65.0         NaN  \n",
       "136428        NaN         NaN  \n",
       "138030        NaN         NaN  \n",
       "139101       76.0         NaN  "
      ]
     },
     "execution_count": 97,
     "metadata": {},
     "output_type": "execute_result"
    }
   ],
   "source": [
    "bios[bios['name'].str.contains(r'sens$|$sons', case=False, na=False)]"
   ]
  },
  {
   "cell_type": "code",
   "execution_count": 104,
   "metadata": {},
   "outputs": [],
   "source": [
    "born19x = bios[bios['born_date'].str.contains(r\"^19\", na=False)]\n"
   ]
  },
  {
   "cell_type": "code",
   "execution_count": 105,
   "metadata": {},
   "outputs": [
    {
     "data": {
      "application/vnd.microsoft.datawrangler.viewer.v0+json": {
       "columns": [
        {
         "name": "index",
         "rawType": "int64",
         "type": "integer"
        },
        {
         "name": "athlete_id",
         "rawType": "int64",
         "type": "integer"
        },
        {
         "name": "name",
         "rawType": "object",
         "type": "string"
        },
        {
         "name": "born_date",
         "rawType": "object",
         "type": "string"
        },
        {
         "name": "born_city",
         "rawType": "object",
         "type": "unknown"
        },
        {
         "name": "born_region",
         "rawType": "object",
         "type": "unknown"
        },
        {
         "name": "born_country",
         "rawType": "object",
         "type": "unknown"
        },
        {
         "name": "NOC",
         "rawType": "object",
         "type": "unknown"
        },
        {
         "name": "height_cm",
         "rawType": "float64",
         "type": "float"
        },
        {
         "name": "weight_kg",
         "rawType": "float64",
         "type": "float"
        },
        {
         "name": "died_date",
         "rawType": "object",
         "type": "unknown"
        }
       ],
       "conversionMethod": "pd.DataFrame",
       "ref": "77701ba9-c0b5-4068-af7c-f8ec783bbd93",
       "rows": [
        [
         "1",
         "2",
         "Arnaud Boetsch",
         "1969-04-01",
         "Meulan",
         "Yvelines",
         "FRA",
         "France",
         "183.0",
         "76.0",
         null
        ],
        [
         "5",
         "6",
         "Nicolas Chatelain",
         "1970-01-13",
         "Amiens",
         "Somme",
         "FRA",
         "France",
         "181.0",
         "70.0",
         null
        ],
        [
         "6",
         "7",
         "Patrick Chila",
         "1969-11-27",
         "Ris-Orangis",
         "Essonne",
         "FRA",
         "France",
         "180.0",
         "73.0",
         null
        ],
        [
         "7",
         "8",
         "Henri Cochet",
         "1901-12-14",
         "Villeurbanne",
         "Rhône",
         "FRA",
         "France",
         null,
         null,
         "1987-04-02"
        ],
        [
         "14",
         "15",
         "Damien Éloi",
         "1969-07-04",
         "Vire",
         "Calvados",
         "FRA",
         "France",
         "165.0",
         "58.0",
         null
        ],
        [
         "16",
         "17",
         "Guy Forget",
         "1965-01-04",
         "Casablanca",
         "Casablanca-Settat",
         "MAR",
         "France",
         "189.0",
         "79.0",
         null
        ],
        [
         "17",
         "18",
         "Jean-Philippe Gatien",
         "1968-10-16",
         "Alès",
         "Gard",
         "FRA",
         "France",
         "178.0",
         "73.0",
         null
        ],
        [
         "20",
         "21",
         "Pierre Hirsch",
         "1900-11-08",
         "Paris Ie",
         "Paris",
         "FRA",
         "France",
         null,
         null,
         "1942-04-19"
        ],
        [
         "21",
         "22",
         "René Lacoste",
         "1904-07-02",
         "Paris Xe",
         "Paris",
         "FRA",
         "France",
         null,
         null,
         "1996-10-12"
        ],
        [
         "25",
         "26",
         "Henri Leconte",
         "1963-07-04",
         "Lillers",
         "Pas-de-Calais",
         "FRA",
         "France",
         "184.0",
         "78.0",
         null
        ],
        [
         "26",
         "27",
         "Christophe Legoût",
         "1973-08-06",
         "Montbéliard",
         "Doubs",
         "FRA",
         "France",
         "177.0",
         "75.0",
         null
        ],
        [
         "31",
         "32",
         "Guillaume Raoux",
         "1970-02-14",
         "Bagnols-sur-Cèze",
         "Gard",
         "FRA",
         "France",
         "180.0",
         "77.0",
         null
        ],
        [
         "32",
         "33",
         "Stéphane Renault",
         "1968-03-01",
         "Barfleur",
         "Manche",
         "FRA",
         "France",
         "180.0",
         "72.0",
         null
        ],
        [
         "34",
         "35",
         "Fabrice Santoro",
         "1972-12-09",
         "Tahiti",
         "Îles du Vent",
         "FPN",
         "France",
         "177.0",
         "68.0",
         null
        ],
        [
         "35",
         "36",
         "Étienne Thobois",
         "1967-09-20",
         "Amiens",
         "Somme",
         "FRA",
         "France",
         "186.0",
         "78.0",
         null
        ],
        [
         "40",
         "41",
         "Julie Bradbury",
         "1967-02-12",
         "Oxford",
         "England",
         "GBR",
         "Great Britain",
         "175.0",
         "64.0",
         null
        ],
        [
         "41",
         "42",
         "Gillian Clark",
         "1961-09-02",
         "Baghdad",
         "Baghdad",
         "IRQ",
         "Great Britain",
         "176.0",
         "68.0",
         null
        ],
        [
         "43",
         "44",
         "Evelyn Colyer",
         "1902-08-16",
         "Wandsworth",
         "England",
         "GBR",
         "Great Britain",
         null,
         null,
         "1930-11-04"
        ],
        [
         "47",
         "48",
         "Sara Gomer",
         "1964-05-13",
         "Torquay",
         "England",
         "GBR",
         "Great Britain",
         "190.0",
         "85.0",
         null
        ],
        [
         "48",
         "49",
         "Alison Gordon",
         "1962-12-31",
         "Reading",
         "England",
         "GBR",
         "Great Britain",
         "175.0",
         "68.0",
         null
        ],
        [
         "49",
         "50",
         "Gillian Gowers",
         "1964-04-09",
         null,
         null,
         null,
         "Great Britain",
         "157.0",
         "55.0",
         null
        ],
        [
         "53",
         "54",
         "Andrea Holt",
         "1970-11-11",
         "Radcliffe",
         "England",
         "GBR",
         "Great Britain",
         "168.0",
         "64.0",
         null
        ],
        [
         "54",
         "55",
         "Monique Javer",
         "1967-07-22",
         "Burlingame",
         "California",
         "USA",
         "Great Britain",
         "177.0",
         "64.0",
         null
        ],
        [
         "55",
         "56",
         "Valda Lake",
         "1968-10-11",
         "Torquay",
         "England",
         "GBR",
         "Great Britain",
         "173.0",
         "61.0",
         null
        ],
        [
         "57",
         "58",
         "Lisa Lomas",
         "1967-03-09",
         "Dunstable",
         "England",
         "GBR",
         "Great Britain",
         "168.0",
         "63.0",
         null
        ],
        [
         "60",
         "61",
         "Kelly Morgan",
         "1975-05-22",
         "Pontypridd",
         "Wales",
         "GBR",
         "Great Britain",
         "178.0",
         "65.0",
         null
        ],
        [
         "62",
         "63",
         "Jo Muggeridge",
         "1969-04-03",
         "London",
         "England",
         "GBR",
         "Great Britain",
         "157.0",
         "59.0",
         null
        ],
        [
         "65",
         "66",
         "Sara Sankey",
         "1967-09-29",
         "Southport",
         "England",
         "GBR",
         "Great Britain",
         "170.0",
         "68.0",
         null
        ],
        [
         "68",
         "69",
         "Sam Smith",
         "1971-11-27",
         "Epping",
         "England",
         "GBR",
         "Great Britain",
         "175.0",
         "62.0",
         null
        ],
        [
         "69",
         "70",
         "Helen Troke",
         "1964-11-07",
         "Southampton",
         "England",
         "GBR",
         "Great Britain",
         "172.0",
         "63.0",
         null
        ],
        [
         "71",
         "72",
         "Clare Wood",
         "1968-03-08",
         "Zululand",
         "KwaZulu-Natal",
         "RSA",
         "Great Britain",
         "175.0",
         "65.0",
         null
        ],
        [
         "72",
         "73",
         "Joanne Wright-Goode",
         "1972-11-17",
         "Harlow",
         "England",
         "GBR",
         "Great Britain",
         "171.0",
         "68.0",
         null
        ],
        [
         "73",
         "74",
         "Sky Andrew",
         "1962-03-31",
         "Newham",
         "England",
         "GBR",
         "Great Britain",
         "185.0",
         "78.0",
         null
        ],
        [
         "74",
         "75",
         "Simon Archer",
         "1973-06-27",
         "Leamington Spa",
         "England",
         "GBR",
         "Great Britain",
         "189.0",
         "86.0",
         null
        ],
        [
         "76",
         "77",
         "Jeremy Bates",
         "1962-06-19",
         "Solihull",
         "England",
         "GBR",
         "Great Britain",
         "180.0",
         "72.0",
         null
        ],
        [
         "79",
         "80",
         "Neil Broad",
         "1966-11-20",
         "Cape Town",
         "Western Cape",
         "RSA",
         "Great Britain",
         "191.0",
         "87.0",
         null
        ],
        [
         "81",
         "82",
         "Andrew Castle",
         "1963-11-15",
         "Epsom",
         "England",
         "GBR",
         "Great Britain",
         "190.0",
         "74.0",
         null
        ],
        [
         "83",
         "84",
         "Xinhua Chen",
         "1960-01-30",
         "Fuan",
         "Fujian",
         "CHN",
         "Great Britain",
         "175.0",
         "71.0",
         null
        ],
        [
         "84",
         "85",
         "Alan Cooke",
         "1966-03-23",
         "Clay Cross",
         "England",
         "GBR",
         "Great Britain",
         "170.0",
         "64.0",
         null
        ],
        [
         "89",
         "90",
         "Desmond Douglas",
         "1955-07-20",
         "Kingston",
         "Kingston",
         "JAM",
         "Great Britain",
         "175.0",
         "66.0",
         null
        ],
        [
         "92",
         "93",
         "Anne Gibson",
         "1968-10-26",
         "Dumfries",
         "Scotland",
         "GBR",
         "Great Britain",
         "173.0",
         "70.0",
         null
        ],
        [
         "95",
         "96",
         "Andy Goode",
         "1960-01-30",
         "Welwyn Garden City",
         "England",
         "GBR",
         "Great Britain",
         "183.0",
         "83.0",
         null
        ],
        [
         "97",
         "98",
         "Darren Hall",
         "1965-10-25",
         "Walthamstow",
         "England",
         "GBR",
         "Great Britain",
         "183.0",
         "73.0",
         null
        ],
        [
         "98",
         "99",
         "Tim Henman",
         "1974-09-06",
         "Oxford",
         "England",
         "GBR",
         "Great Britain",
         "185.0",
         "77.0",
         null
        ],
        [
         "100",
         "101",
         "Chris Hunt",
         "1968-12-01",
         "Bolton",
         "England",
         "GBR",
         "Great Britain",
         "182.0",
         "88.0",
         null
        ],
        [
         "102",
         "103",
         "Peter Knowles",
         "1969-12-28",
         "Stockport",
         "England",
         "GBR",
         "Great Britain",
         "177.0",
         "77.0",
         null
        ],
        [
         "107",
         "108",
         "Anders Nielsen",
         "1967-02-24",
         "Cape Town",
         "Western Cape",
         "RSA",
         "Great Britain",
         "173.0",
         "70.0",
         "2010-07-29"
        ],
        [
         "110",
         "111",
         "Nick Ponting",
         "1966-09-13",
         "London",
         "England",
         "GBR",
         "Great Britain",
         "173.0",
         "76.0",
         null
        ],
        [
         "111",
         "112",
         "Carl Prean",
         "1967-08-20",
         "Newport",
         "England",
         "GBR",
         "Great Britain",
         "185.0",
         "79.0",
         null
        ],
        [
         "113",
         "114",
         "Julian Robertson",
         "1969-10-09",
         "Peterborough",
         "England",
         "GBR",
         "Great Britain",
         "182.0",
         "73.0",
         null
        ]
       ],
       "shape": {
        "columns": 10,
        "rows": 130539
       }
      },
      "text/html": [
       "<div>\n",
       "<style scoped>\n",
       "    .dataframe tbody tr th:only-of-type {\n",
       "        vertical-align: middle;\n",
       "    }\n",
       "\n",
       "    .dataframe tbody tr th {\n",
       "        vertical-align: top;\n",
       "    }\n",
       "\n",
       "    .dataframe thead th {\n",
       "        text-align: right;\n",
       "    }\n",
       "</style>\n",
       "<table border=\"1\" class=\"dataframe\">\n",
       "  <thead>\n",
       "    <tr style=\"text-align: right;\">\n",
       "      <th></th>\n",
       "      <th>athlete_id</th>\n",
       "      <th>name</th>\n",
       "      <th>born_date</th>\n",
       "      <th>born_city</th>\n",
       "      <th>born_region</th>\n",
       "      <th>born_country</th>\n",
       "      <th>NOC</th>\n",
       "      <th>height_cm</th>\n",
       "      <th>weight_kg</th>\n",
       "      <th>died_date</th>\n",
       "    </tr>\n",
       "  </thead>\n",
       "  <tbody>\n",
       "    <tr>\n",
       "      <th>1</th>\n",
       "      <td>2</td>\n",
       "      <td>Arnaud Boetsch</td>\n",
       "      <td>1969-04-01</td>\n",
       "      <td>Meulan</td>\n",
       "      <td>Yvelines</td>\n",
       "      <td>FRA</td>\n",
       "      <td>France</td>\n",
       "      <td>183.0</td>\n",
       "      <td>76.0</td>\n",
       "      <td>NaN</td>\n",
       "    </tr>\n",
       "    <tr>\n",
       "      <th>5</th>\n",
       "      <td>6</td>\n",
       "      <td>Nicolas Chatelain</td>\n",
       "      <td>1970-01-13</td>\n",
       "      <td>Amiens</td>\n",
       "      <td>Somme</td>\n",
       "      <td>FRA</td>\n",
       "      <td>France</td>\n",
       "      <td>181.0</td>\n",
       "      <td>70.0</td>\n",
       "      <td>NaN</td>\n",
       "    </tr>\n",
       "    <tr>\n",
       "      <th>6</th>\n",
       "      <td>7</td>\n",
       "      <td>Patrick Chila</td>\n",
       "      <td>1969-11-27</td>\n",
       "      <td>Ris-Orangis</td>\n",
       "      <td>Essonne</td>\n",
       "      <td>FRA</td>\n",
       "      <td>France</td>\n",
       "      <td>180.0</td>\n",
       "      <td>73.0</td>\n",
       "      <td>NaN</td>\n",
       "    </tr>\n",
       "    <tr>\n",
       "      <th>7</th>\n",
       "      <td>8</td>\n",
       "      <td>Henri Cochet</td>\n",
       "      <td>1901-12-14</td>\n",
       "      <td>Villeurbanne</td>\n",
       "      <td>Rhône</td>\n",
       "      <td>FRA</td>\n",
       "      <td>France</td>\n",
       "      <td>NaN</td>\n",
       "      <td>NaN</td>\n",
       "      <td>1987-04-02</td>\n",
       "    </tr>\n",
       "    <tr>\n",
       "      <th>14</th>\n",
       "      <td>15</td>\n",
       "      <td>Damien Éloi</td>\n",
       "      <td>1969-07-04</td>\n",
       "      <td>Vire</td>\n",
       "      <td>Calvados</td>\n",
       "      <td>FRA</td>\n",
       "      <td>France</td>\n",
       "      <td>165.0</td>\n",
       "      <td>58.0</td>\n",
       "      <td>NaN</td>\n",
       "    </tr>\n",
       "    <tr>\n",
       "      <th>...</th>\n",
       "      <td>...</td>\n",
       "      <td>...</td>\n",
       "      <td>...</td>\n",
       "      <td>...</td>\n",
       "      <td>...</td>\n",
       "      <td>...</td>\n",
       "      <td>...</td>\n",
       "      <td>...</td>\n",
       "      <td>...</td>\n",
       "      <td>...</td>\n",
       "    </tr>\n",
       "    <tr>\n",
       "      <th>145492</th>\n",
       "      <td>149219</td>\n",
       "      <td>Carlos García-Ordóñez</td>\n",
       "      <td>1927-04-24</td>\n",
       "      <td>La Habana (Havana)</td>\n",
       "      <td>Ciudad de La Habana</td>\n",
       "      <td>CUB</td>\n",
       "      <td>Cuba</td>\n",
       "      <td>NaN</td>\n",
       "      <td>NaN</td>\n",
       "      <td>2019-11-24</td>\n",
       "    </tr>\n",
       "    <tr>\n",
       "      <th>145493</th>\n",
       "      <td>149220</td>\n",
       "      <td>Landysh Falyakhova</td>\n",
       "      <td>1998-08-31</td>\n",
       "      <td>Dva Polya Artash</td>\n",
       "      <td>Respublika Tatarstan</td>\n",
       "      <td>RUS</td>\n",
       "      <td>ROC</td>\n",
       "      <td>NaN</td>\n",
       "      <td>NaN</td>\n",
       "      <td>NaN</td>\n",
       "    </tr>\n",
       "    <tr>\n",
       "      <th>145496</th>\n",
       "      <td>149223</td>\n",
       "      <td>Valeriya Merkusheva</td>\n",
       "      <td>1999-09-20</td>\n",
       "      <td>Moskva (Moscow)</td>\n",
       "      <td>Moskva</td>\n",
       "      <td>RUS</td>\n",
       "      <td>ROC</td>\n",
       "      <td>168.0</td>\n",
       "      <td>65.0</td>\n",
       "      <td>NaN</td>\n",
       "    </tr>\n",
       "    <tr>\n",
       "      <th>145497</th>\n",
       "      <td>149224</td>\n",
       "      <td>Yuliya Smirnova</td>\n",
       "      <td>1998-05-08</td>\n",
       "      <td>Kotlas</td>\n",
       "      <td>Arkhangelsk</td>\n",
       "      <td>RUS</td>\n",
       "      <td>ROC</td>\n",
       "      <td>163.0</td>\n",
       "      <td>55.0</td>\n",
       "      <td>NaN</td>\n",
       "    </tr>\n",
       "    <tr>\n",
       "      <th>145499</th>\n",
       "      <td>149814</td>\n",
       "      <td>Bill Phillips</td>\n",
       "      <td>1913-07-15</td>\n",
       "      <td>Dulwich Hill</td>\n",
       "      <td>New South Wales</td>\n",
       "      <td>AUS</td>\n",
       "      <td>Australia</td>\n",
       "      <td>NaN</td>\n",
       "      <td>NaN</td>\n",
       "      <td>2003-10-20</td>\n",
       "    </tr>\n",
       "  </tbody>\n",
       "</table>\n",
       "<p>130539 rows × 10 columns</p>\n",
       "</div>"
      ],
      "text/plain": [
       "        athlete_id                   name   born_date           born_city  \\\n",
       "1                2         Arnaud Boetsch  1969-04-01              Meulan   \n",
       "5                6      Nicolas Chatelain  1970-01-13              Amiens   \n",
       "6                7          Patrick Chila  1969-11-27         Ris-Orangis   \n",
       "7                8           Henri Cochet  1901-12-14        Villeurbanne   \n",
       "14              15            Damien Éloi  1969-07-04                Vire   \n",
       "...            ...                    ...         ...                 ...   \n",
       "145492      149219  Carlos García-Ordóñez  1927-04-24  La Habana (Havana)   \n",
       "145493      149220     Landysh Falyakhova  1998-08-31    Dva Polya Artash   \n",
       "145496      149223    Valeriya Merkusheva  1999-09-20     Moskva (Moscow)   \n",
       "145497      149224        Yuliya Smirnova  1998-05-08              Kotlas   \n",
       "145499      149814          Bill Phillips  1913-07-15        Dulwich Hill   \n",
       "\n",
       "                 born_region born_country        NOC  height_cm  weight_kg  \\\n",
       "1                   Yvelines          FRA     France      183.0       76.0   \n",
       "5                      Somme          FRA     France      181.0       70.0   \n",
       "6                    Essonne          FRA     France      180.0       73.0   \n",
       "7                      Rhône          FRA     France        NaN        NaN   \n",
       "14                  Calvados          FRA     France      165.0       58.0   \n",
       "...                      ...          ...        ...        ...        ...   \n",
       "145492   Ciudad de La Habana          CUB       Cuba        NaN        NaN   \n",
       "145493  Respublika Tatarstan          RUS        ROC        NaN        NaN   \n",
       "145496                Moskva          RUS        ROC      168.0       65.0   \n",
       "145497           Arkhangelsk          RUS        ROC      163.0       55.0   \n",
       "145499       New South Wales          AUS  Australia        NaN        NaN   \n",
       "\n",
       "         died_date  \n",
       "1              NaN  \n",
       "5              NaN  \n",
       "6              NaN  \n",
       "7       1987-04-02  \n",
       "14             NaN  \n",
       "...            ...  \n",
       "145492  2019-11-24  \n",
       "145493         NaN  \n",
       "145496         NaN  \n",
       "145497         NaN  \n",
       "145499  2003-10-20  \n",
       "\n",
       "[130539 rows x 10 columns]"
      ]
     },
     "execution_count": 105,
     "metadata": {},
     "output_type": "execute_result"
    }
   ],
   "source": [
    "born19x"
   ]
  },
  {
   "cell_type": "code",
   "execution_count": 106,
   "metadata": {},
   "outputs": [],
   "source": [
    "characters7 = bios[bios['name'].str.contains(r\"^.{7}$\", na=False)]"
   ]
  },
  {
   "cell_type": "code",
   "execution_count": 107,
   "metadata": {},
   "outputs": [
    {
     "data": {
      "application/vnd.microsoft.datawrangler.viewer.v0+json": {
       "columns": [
        {
         "name": "index",
         "rawType": "int64",
         "type": "integer"
        },
        {
         "name": "athlete_id",
         "rawType": "int64",
         "type": "integer"
        },
        {
         "name": "name",
         "rawType": "object",
         "type": "string"
        },
        {
         "name": "born_date",
         "rawType": "object",
         "type": "unknown"
        },
        {
         "name": "born_city",
         "rawType": "object",
         "type": "unknown"
        },
        {
         "name": "born_region",
         "rawType": "object",
         "type": "unknown"
        },
        {
         "name": "born_country",
         "rawType": "object",
         "type": "unknown"
        },
        {
         "name": "NOC",
         "rawType": "object",
         "type": "string"
        },
        {
         "name": "height_cm",
         "rawType": "float64",
         "type": "float"
        },
        {
         "name": "weight_kg",
         "rawType": "float64",
         "type": "float"
        },
        {
         "name": "died_date",
         "rawType": "object",
         "type": "unknown"
        }
       ],
       "conversionMethod": "pd.DataFrame",
       "ref": "eccd1c8d-50d6-415f-addb-66d7e33eed63",
       "rows": [
        [
         "366",
         "367",
         "Vi Muir",
         "1934-11-04",
         "Duncan",
         "British Columbia",
         "CAN",
         "Canada",
         "170.0",
         null,
         null
        ],
        [
         "381",
         "382",
         "He Ying",
         "1977-04-17",
         "Siping",
         "Jilin",
         "CHN",
         "People's Republic of China",
         "170.0",
         "68.0",
         null
        ],
        [
         "394",
         "395",
         "Hao Wei",
         "1968-10-30",
         null,
         null,
         null,
         "People's Republic of China",
         "184.0",
         "70.0",
         null
        ],
        [
         "646",
         "649",
         "Ding Yi",
         "1959-01-14",
         "Shanghai",
         "Shanghai",
         "CHN",
         "Austria",
         "166.0",
         "68.0",
         null
        ],
        [
         "776",
         "780",
         "Chen Li",
         "1971-03-13",
         "Xiangtan",
         "Hunan",
         "CHN",
         "People's Republic of China",
         "165.0",
         "60.0",
         null
        ],
        [
         "779",
         "783",
         "Jun Gao",
         "1969-01-25",
         "Baoding",
         "Hebei",
         "CHN",
         "People's Republic of China United States",
         "168.0",
         "73.0",
         null
        ],
        [
         "917",
         "921",
         "Kim Wan",
         "1961-03-27",
         null,
         null,
         null,
         "Republic of Korea",
         "174.0",
         "67.0",
         null
        ],
        [
         "1281",
         "1288",
         "Chao Lu",
         "1970-03-06",
         null,
         null,
         null,
         "People's Republic of China",
         "180.0",
         "75.0",
         null
        ],
        [
         "1394",
         "1401",
         "Ma Ying",
         "1972-04-10",
         "Qiqihar",
         "Heilongjiang",
         "CHN",
         "People's Republic of China",
         "176.0",
         "75.0",
         null
        ],
        [
         "1435",
         "1442",
         "Tao Hua",
         "1972-12-12",
         "Shanghai",
         "Shanghai",
         "CHN",
         "People's Republic of China",
         "170.0",
         "66.0",
         null
        ],
        [
         "1453",
         "1460",
         "Xu Jian",
         "1970-07-27",
         null,
         null,
         null,
         "People's Republic of China",
         "178.0",
         "74.0",
         null
        ],
        [
         "2276",
         "2286",
         "Li Fang",
         "1973-01-01",
         "Hengyang",
         "Hunan",
         "CHN",
         "People's Republic of China",
         "166.0",
         "62.0",
         null
        ],
        [
         "2278",
         "2288",
         "Liu Wei",
         "1969-10-27",
         "Liaocheng",
         "Shandong",
         "CHN",
         "People's Republic of China",
         "162.0",
         "60.0",
         null
        ],
        [
         "2284",
         "2294",
         "Sun Man",
         "1968-07-23",
         null,
         null,
         null,
         "People's Republic of China",
         "176.0",
         "64.0",
         null
        ],
        [
         "2289",
         "2299",
         "Yao Fen",
         "1967-01-02",
         "Sanya",
         "Hainan",
         "CHN",
         "People's Republic of China",
         "166.0",
         "55.0",
         null
        ],
        [
         "2290",
         "2300",
         "Yao Yan",
         "1974-12-09",
         null,
         null,
         null,
         "People's Republic of China",
         "170.0",
         "65.0",
         null
        ],
        [
         "2306",
         "2316",
         "Liu Jun",
         "1968-11-09",
         null,
         null,
         null,
         "People's Republic of China",
         "185.0",
         "72.0",
         null
        ],
        [
         "2314",
         "2324",
         "Sun Jun",
         "1975-06-16",
         null,
         null,
         null,
         "People's Republic of China",
         "175.0",
         "65.0",
         null
        ],
        [
         "2676",
         "2688",
         "Xu Jing",
         "1968-01-08",
         null,
         null,
         null,
         "Chinese Taipei",
         "166.0",
         "62.0",
         null
        ],
        [
         "3390",
         "3402",
         "Pat Fee",
         "1883-12-13",
         "Edinburgh",
         "Scotland",
         "GBR",
         "Great Britain",
         null,
         null,
         "1970-02-07"
        ],
        [
         "4651",
         "4667",
         "Tin Tun",
         "1944-11-20",
         "Yangon (Rangoon)",
         "Yangon",
         "MYA",
         "Myanmar",
         "175.0",
         "60.0",
         null
        ],
        [
         "4655",
         "4671",
         "Ye Swe ",
         "1939-07-06",
         null,
         null,
         null,
         "Myanmar",
         null,
         null,
         null
        ],
        [
         "4715",
         "4732",
         "Jan Dam",
         "1905-11-24",
         "Rotterdam",
         "Zuid-Holland",
         "NED",
         "Netherlands",
         null,
         null,
         "1985-12-19"
        ],
        [
         "5097",
         "5116",
         " Baiano",
         "1912-09-27",
         "Rio de Janeiro",
         "Rio de Janeiro",
         "BRA",
         "Brazil",
         null,
         null,
         "1956-07-17"
        ],
        [
         "5164",
         "5183",
         "Chu Hui",
         "1969-02-21",
         null,
         null,
         null,
         "People's Republic of China",
         "187.0",
         "78.0",
         null
        ],
        [
         "5199",
         "5218",
         " Janeth",
         "1969-04-11",
         "Carapicuíba",
         "São Paulo",
         "BRA",
         "Brazil",
         "182.0",
         "67.0",
         null
        ],
        [
         "5219",
         "5238",
         "Sue Geh",
         "1959-09-10",
         "Canberra",
         "Australian Capital Territory",
         "AUS",
         "Australia",
         "205.0",
         null,
         "1998-09-14"
        ],
        [
         "5236",
         "5255",
         " Roseli",
         "1971-07-25",
         "Araraquara",
         "São Paulo",
         "BRA",
         "Brazil",
         "180.0",
         "69.0",
         null
        ],
        [
         "5326",
         "5345",
         "Liu Jun",
         "1969-10-15",
         null,
         null,
         null,
         "People's Republic of China",
         "177.0",
         "65.0",
         null
        ],
        [
         "5354",
         "5373",
         "Miao Bo",
         "1975-06-17",
         "Weihai",
         "Shandong",
         "CHN",
         "People's Republic of China",
         "178.0",
         "70.0",
         null
        ],
        [
         "5454",
         "5473",
         "Shen Li",
         "1969-05-14",
         "Shanghai",
         "Shanghai",
         "CHN",
         "People's Republic of China",
         "170.0",
         "70.0",
         null
        ],
        [
         "5457",
         "5476",
         " Branca",
         "1966-01-10",
         "Osvaldo Cruz",
         "São Paulo",
         "BRA",
         "Brazil",
         "170.0",
         "68.0",
         null
        ],
        [
         "5598",
         "5621",
         " Israel",
         "1960-01-17",
         "Salvador",
         "Bahia",
         "BRA",
         "Brazil",
         "206.0",
         "110.0",
         null
        ],
        [
         "5956",
         "5982",
         "Don Dee",
         "1943-08-09",
         "Booneville",
         "Missouri",
         "USA",
         "United States",
         "201.0",
         "93.0",
         "2014-11-26"
        ],
        [
         "5992",
         "6018",
         " Olívia",
         "1974-02-03",
         "Rio de Janeiro",
         "Rio de Janeiro",
         "BRA",
         "Brazil",
         "211.0",
         "100.0",
         null
        ],
        [
         "6274",
         "6302",
         "Heo Jae",
         "1965-09-28",
         "Seoul",
         "Seoul",
         "KOR",
         "Republic of Korea",
         "188.0",
         "79.0",
         null
        ],
        [
         "6304",
         "6333",
         " Janjão",
         "1972-08-24",
         "Campo Grande",
         "Mato Grosso do Sul",
         "BRA",
         "Brazil",
         "205.0",
         "115.0",
         null
        ],
        [
         "6533",
         "6566",
         "Ma Jian",
         "1969-08-20",
         "Shijiazhuang",
         "Hebei",
         "CHN",
         "People's Republic of China",
         "200.0",
         "90.0",
         null
        ],
        [
         "6554",
         "6587",
         " Sílvio",
         "1960-03-17",
         "São Paulo",
         "São Paulo",
         "BRA",
         "Brazil",
         "207.0",
         "83.0",
         null
        ],
        [
         "6655",
         "6688",
         " Thales",
         "1925-02-20",
         "Araraquara",
         "São Paulo",
         "BRA",
         "Brazil",
         null,
         null,
         "1993-04-02"
        ],
        [
         "6788",
         "6821",
         " Amaury",
         "1935-12-11",
         "São Paulo",
         "São Paulo",
         "BRA",
         "Brazil",
         "190.0",
         "90.0",
         null
        ],
        [
         "6851",
         "6884",
         " Marcel",
         "1956-12-04",
         "Campinas",
         "São Paulo",
         "BRA",
         "Brazil",
         "199.0",
         "95.0",
         null
        ],
        [
         "7001",
         "7037",
         " Succar",
         "1939-06-14",
         "San Isidro de Lules",
         "Tucumán",
         "ARG",
         "Brazil",
         "200.0",
         "100.0",
         "2018-12-31"
        ],
        [
         "7011",
         "7047",
         " Tonico",
         "1972-07-26",
         "Brasília",
         "Distrito Federal",
         "BRA",
         "Brazil",
         "203.0",
         "103.0",
         null
        ],
        [
         "7016",
         "7052",
         " Josuel",
         "1970-06-14",
         "Barueri",
         "São Paulo",
         "BRA",
         "Brazil",
         "207.0",
         "115.0",
         null
        ],
        [
         "7070",
         "7107",
         " Chicho",
         "1958-10-03",
         "San Cristóbal",
         "San Cristóbal",
         "DOM",
         "Spain",
         "203.0",
         "92.0",
         "2019-08-10"
        ],
        [
         "7150",
         "7187",
         " Fausto",
         "1929-04-12",
         "São Paulo",
         "São Paulo",
         "BRA",
         "Brazil",
         null,
         null,
         "2007-07-30"
        ],
        [
         "7155",
         "7192",
         "Sun Jun",
         "1969-06-22",
         "Changchun",
         "Jilin",
         "CHN",
         "People's Republic of China",
         "197.0",
         "100.0",
         null
        ],
        [
         "7213",
         "7251",
         " Gilson",
         "1956-02-08",
         "Salvador",
         "Bahia",
         "BRA",
         "Brazil",
         "198.0",
         "96.0",
         null
        ],
        [
         "7257",
         "7295",
         " Pipoka",
         "1963-11-15",
         "Brasília",
         "Distrito Federal",
         "BRA",
         "Brazil",
         "204.0",
         "100.0",
         null
        ]
       ],
       "shape": {
        "columns": 10,
        "rows": 638
       }
      },
      "text/html": [
       "<div>\n",
       "<style scoped>\n",
       "    .dataframe tbody tr th:only-of-type {\n",
       "        vertical-align: middle;\n",
       "    }\n",
       "\n",
       "    .dataframe tbody tr th {\n",
       "        vertical-align: top;\n",
       "    }\n",
       "\n",
       "    .dataframe thead th {\n",
       "        text-align: right;\n",
       "    }\n",
       "</style>\n",
       "<table border=\"1\" class=\"dataframe\">\n",
       "  <thead>\n",
       "    <tr style=\"text-align: right;\">\n",
       "      <th></th>\n",
       "      <th>athlete_id</th>\n",
       "      <th>name</th>\n",
       "      <th>born_date</th>\n",
       "      <th>born_city</th>\n",
       "      <th>born_region</th>\n",
       "      <th>born_country</th>\n",
       "      <th>NOC</th>\n",
       "      <th>height_cm</th>\n",
       "      <th>weight_kg</th>\n",
       "      <th>died_date</th>\n",
       "    </tr>\n",
       "  </thead>\n",
       "  <tbody>\n",
       "    <tr>\n",
       "      <th>366</th>\n",
       "      <td>367</td>\n",
       "      <td>Vi Muir</td>\n",
       "      <td>1934-11-04</td>\n",
       "      <td>Duncan</td>\n",
       "      <td>British Columbia</td>\n",
       "      <td>CAN</td>\n",
       "      <td>Canada</td>\n",
       "      <td>170.0</td>\n",
       "      <td>NaN</td>\n",
       "      <td>NaN</td>\n",
       "    </tr>\n",
       "    <tr>\n",
       "      <th>381</th>\n",
       "      <td>382</td>\n",
       "      <td>He Ying</td>\n",
       "      <td>1977-04-17</td>\n",
       "      <td>Siping</td>\n",
       "      <td>Jilin</td>\n",
       "      <td>CHN</td>\n",
       "      <td>People's Republic of China</td>\n",
       "      <td>170.0</td>\n",
       "      <td>68.0</td>\n",
       "      <td>NaN</td>\n",
       "    </tr>\n",
       "    <tr>\n",
       "      <th>394</th>\n",
       "      <td>395</td>\n",
       "      <td>Hao Wei</td>\n",
       "      <td>1968-10-30</td>\n",
       "      <td>NaN</td>\n",
       "      <td>NaN</td>\n",
       "      <td>NaN</td>\n",
       "      <td>People's Republic of China</td>\n",
       "      <td>184.0</td>\n",
       "      <td>70.0</td>\n",
       "      <td>NaN</td>\n",
       "    </tr>\n",
       "    <tr>\n",
       "      <th>646</th>\n",
       "      <td>649</td>\n",
       "      <td>Ding Yi</td>\n",
       "      <td>1959-01-14</td>\n",
       "      <td>Shanghai</td>\n",
       "      <td>Shanghai</td>\n",
       "      <td>CHN</td>\n",
       "      <td>Austria</td>\n",
       "      <td>166.0</td>\n",
       "      <td>68.0</td>\n",
       "      <td>NaN</td>\n",
       "    </tr>\n",
       "    <tr>\n",
       "      <th>776</th>\n",
       "      <td>780</td>\n",
       "      <td>Chen Li</td>\n",
       "      <td>1971-03-13</td>\n",
       "      <td>Xiangtan</td>\n",
       "      <td>Hunan</td>\n",
       "      <td>CHN</td>\n",
       "      <td>People's Republic of China</td>\n",
       "      <td>165.0</td>\n",
       "      <td>60.0</td>\n",
       "      <td>NaN</td>\n",
       "    </tr>\n",
       "    <tr>\n",
       "      <th>...</th>\n",
       "      <td>...</td>\n",
       "      <td>...</td>\n",
       "      <td>...</td>\n",
       "      <td>...</td>\n",
       "      <td>...</td>\n",
       "      <td>...</td>\n",
       "      <td>...</td>\n",
       "      <td>...</td>\n",
       "      <td>...</td>\n",
       "      <td>...</td>\n",
       "    </tr>\n",
       "    <tr>\n",
       "      <th>144401</th>\n",
       "      <td>148091</td>\n",
       "      <td>Liu Jie</td>\n",
       "      <td>1995-04-23</td>\n",
       "      <td>Vancouver</td>\n",
       "      <td>British Columbia</td>\n",
       "      <td>CAN</td>\n",
       "      <td>People's Republic of China</td>\n",
       "      <td>180.0</td>\n",
       "      <td>88.0</td>\n",
       "      <td>NaN</td>\n",
       "    </tr>\n",
       "    <tr>\n",
       "      <th>144402</th>\n",
       "      <td>148092</td>\n",
       "      <td>Luo Jia</td>\n",
       "      <td>1992-11-01</td>\n",
       "      <td>Burnaby</td>\n",
       "      <td>British Columbia</td>\n",
       "      <td>CAN</td>\n",
       "      <td>People's Republic of China</td>\n",
       "      <td>179.0</td>\n",
       "      <td>82.0</td>\n",
       "      <td>NaN</td>\n",
       "    </tr>\n",
       "    <tr>\n",
       "      <th>144422</th>\n",
       "      <td>148113</td>\n",
       "      <td>Rong Ge</td>\n",
       "      <td>2002-08-03</td>\n",
       "      <td>NaN</td>\n",
       "      <td>NaN</td>\n",
       "      <td>NaN</td>\n",
       "      <td>People's Republic of China</td>\n",
       "      <td>NaN</td>\n",
       "      <td>NaN</td>\n",
       "      <td>NaN</td>\n",
       "    </tr>\n",
       "    <tr>\n",
       "      <th>144430</th>\n",
       "      <td>148121</td>\n",
       "      <td>Li Yuxi</td>\n",
       "      <td>1998-09-24</td>\n",
       "      <td>Mianyang</td>\n",
       "      <td>Sichuan</td>\n",
       "      <td>CHN</td>\n",
       "      <td>People's Republic of China</td>\n",
       "      <td>NaN</td>\n",
       "      <td>NaN</td>\n",
       "      <td>NaN</td>\n",
       "    </tr>\n",
       "    <tr>\n",
       "      <th>145483</th>\n",
       "      <td>149210</td>\n",
       "      <td>Feng He</td>\n",
       "      <td>2004-03-31</td>\n",
       "      <td>NaN</td>\n",
       "      <td>NaN</td>\n",
       "      <td>NaN</td>\n",
       "      <td>People's Republic of China</td>\n",
       "      <td>NaN</td>\n",
       "      <td>NaN</td>\n",
       "      <td>NaN</td>\n",
       "    </tr>\n",
       "  </tbody>\n",
       "</table>\n",
       "<p>638 rows × 10 columns</p>\n",
       "</div>"
      ],
      "text/plain": [
       "        athlete_id     name   born_date  born_city       born_region  \\\n",
       "366            367  Vi Muir  1934-11-04     Duncan  British Columbia   \n",
       "381            382  He Ying  1977-04-17     Siping             Jilin   \n",
       "394            395  Hao Wei  1968-10-30        NaN               NaN   \n",
       "646            649  Ding Yi  1959-01-14   Shanghai          Shanghai   \n",
       "776            780  Chen Li  1971-03-13   Xiangtan             Hunan   \n",
       "...            ...      ...         ...        ...               ...   \n",
       "144401      148091  Liu Jie  1995-04-23  Vancouver  British Columbia   \n",
       "144402      148092  Luo Jia  1992-11-01    Burnaby  British Columbia   \n",
       "144422      148113  Rong Ge  2002-08-03        NaN               NaN   \n",
       "144430      148121  Li Yuxi  1998-09-24   Mianyang           Sichuan   \n",
       "145483      149210  Feng He  2004-03-31        NaN               NaN   \n",
       "\n",
       "       born_country                         NOC  height_cm  weight_kg  \\\n",
       "366             CAN                      Canada      170.0        NaN   \n",
       "381             CHN  People's Republic of China      170.0       68.0   \n",
       "394             NaN  People's Republic of China      184.0       70.0   \n",
       "646             CHN                     Austria      166.0       68.0   \n",
       "776             CHN  People's Republic of China      165.0       60.0   \n",
       "...             ...                         ...        ...        ...   \n",
       "144401          CAN  People's Republic of China      180.0       88.0   \n",
       "144402          CAN  People's Republic of China      179.0       82.0   \n",
       "144422          NaN  People's Republic of China        NaN        NaN   \n",
       "144430          CHN  People's Republic of China        NaN        NaN   \n",
       "145483          NaN  People's Republic of China        NaN        NaN   \n",
       "\n",
       "       died_date  \n",
       "366          NaN  \n",
       "381          NaN  \n",
       "394          NaN  \n",
       "646          NaN  \n",
       "776          NaN  \n",
       "...          ...  \n",
       "144401       NaN  \n",
       "144402       NaN  \n",
       "144422       NaN  \n",
       "144430       NaN  \n",
       "145483       NaN  \n",
       "\n",
       "[638 rows x 10 columns]"
      ]
     },
     "execution_count": 107,
     "metadata": {},
     "output_type": "execute_result"
    }
   ],
   "source": [
    "characters7"
   ]
  },
  {
   "cell_type": "code",
   "execution_count": null,
   "metadata": {},
   "outputs": [],
   "source": []
  }
 ],
 "metadata": {
  "kernelspec": {
   "display_name": "testenv",
   "language": "python",
   "name": "python3"
  },
  "language_info": {
   "codemirror_mode": {
    "name": "ipython",
    "version": 3
   },
   "file_extension": ".py",
   "mimetype": "text/x-python",
   "name": "python",
   "nbconvert_exporter": "python",
   "pygments_lexer": "ipython3",
   "version": "3.12.7"
  }
 },
 "nbformat": 4,
 "nbformat_minor": 2
}
