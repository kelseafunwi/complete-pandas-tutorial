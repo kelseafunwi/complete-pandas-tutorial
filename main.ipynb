{
 "cells": [
  {
   "cell_type": "code",
   "execution_count": 4,
   "metadata": {},
   "outputs": [
    {
     "name": "stdout",
     "output_type": "stream",
     "text": [
      "sdf\n"
     ]
    }
   ],
   "source": [
    "import pandas as pd\n",
    "\n",
    "print('sdf')"
   ]
  },
  {
   "cell_type": "code",
   "execution_count": 5,
   "metadata": {},
   "outputs": [
    {
     "name": "stdout",
     "output_type": "stream",
     "text": [
      "    Name  Age      City\n",
      "0   John   28  New York\n",
      "1   Anna   24     Paris\n",
      "2  Peter   35    Berlin\n"
     ]
    }
   ],
   "source": [
    "data = {\n",
    "    'Name': ['John', 'Anna', 'Peter'],\n",
    "    'Age': [28, 24, 35],\n",
    "    'City': ['New York', 'Paris', 'Berlin']\n",
    "}\n",
    "\n",
    "df = pd.DataFrame(data)\n",
    "print(df)"
   ]
  },
  {
   "cell_type": "code",
   "execution_count": 6,
   "metadata": {},
   "outputs": [
    {
     "data": {
      "text/plain": [
       "9"
      ]
     },
     "execution_count": 6,
     "metadata": {},
     "output_type": "execute_result"
    }
   ],
   "source": [
    "df.size"
   ]
  },
  {
   "cell_type": "code",
   "execution_count": 7,
   "metadata": {},
   "outputs": [
    {
     "data": {
      "text/plain": [
       "RangeIndex(start=0, stop=3, step=1)"
      ]
     },
     "execution_count": 7,
     "metadata": {},
     "output_type": "execute_result"
    }
   ],
   "source": [
    "df.index"
   ]
  },
  {
   "cell_type": "code",
   "execution_count": 8,
   "metadata": {},
   "outputs": [
    {
     "name": "stdout",
     "output_type": "stream",
     "text": [
      "    Name  Age      City\n",
      "0   John   28  New York\n",
      "1   Anna   24     Paris\n",
      "2  Peter   35    Berlin\n"
     ]
    }
   ],
   "source": [
    "print(df)"
   ]
  },
  {
   "cell_type": "code",
   "execution_count": 9,
   "metadata": {},
   "outputs": [
    {
     "name": "stdout",
     "output_type": "stream",
     "text": [
      "[[1 2 3]\n",
      " [4 5 6]\n",
      " [7 8 9]]\n",
      "(3, 3)\n",
      "9\n",
      "int64\n",
      "2\n",
      "8\n",
      "72\n",
      "[[1 4 7]\n",
      " [2 5 8]\n",
      " [3 6 9]]\n",
      "[1 2 3 4 5 6 7 8 9]\n",
      "[[1 2 3 4 5 6 7 8 9]]\n",
      "[[1 2 3]\n",
      " [4 5 6]\n",
      " [7 8 9]]\n",
      "[[1]\n",
      " [2]\n",
      " [3]\n",
      " [4]\n",
      " [5]\n",
      " [6]\n",
      " [7]\n",
      " [8]\n",
      " [9]]\n",
      "[[[1]\n",
      "  [2]\n",
      "  [3]]\n",
      "\n",
      " [[4]\n",
      "  [5]\n",
      "  [6]]\n",
      "\n",
      " [[7]\n",
      "  [8]\n",
      "  [9]]]\n",
      "(3, 3, 1)\n",
      "3\n"
     ]
    }
   ],
   "source": [
    "import numpy as np\n",
    "\n",
    "npdata = np.array([[1, 2, 3], [4, 5, 6], [7, 8, 9]])\n",
    "print(npdata)\n",
    "print(npdata.shape)\n",
    "print(npdata.size)\n",
    "print(npdata.dtype)\n",
    "print(npdata.ndim)\n",
    "print(npdata.itemsize)\n",
    "print(npdata.nbytes)\n",
    "print(npdata.T)\n",
    "print(npdata.flatten())\n",
    "print(npdata.reshape(1, 9))\n",
    "print(npdata.reshape(3, 3))\n",
    "print(npdata.reshape(9, 1))\n",
    "print(npdata.reshape(3, 3, 1))\n",
    "print(npdata.reshape(3, 3, 1).shape)\n",
    "print(npdata.reshape(3, 3, 1).ndim)"
   ]
  },
  {
   "cell_type": "code",
   "execution_count": 10,
   "metadata": {},
   "outputs": [
    {
     "name": "stdout",
     "output_type": "stream",
     "text": [
      "          Day Coffee Type  Units Sold\n",
      "0      Monday    Espresso          25\n",
      "1      Monday       Latte          15\n",
      "2     Tuesday    Espresso          30\n",
      "3     Tuesday       Latte          20\n",
      "4   Wednesday    Espresso          35\n",
      "5   Wednesday       Latte          25\n",
      "6    Thursday    Espresso          40\n",
      "7    Thursday       Latte          30\n",
      "8      Friday    Espresso          45\n",
      "9      Friday       Latte          35\n",
      "10   Saturday    Espresso          45\n",
      "11   Saturday       Latte          35\n",
      "12     Sunday    Espresso          45\n",
      "13     Sunday       Latte          35\n"
     ]
    }
   ],
   "source": [
    "df = pd.read_csv('./warmup-data/coffee.csv')\n",
    "print(df)"
   ]
  },
  {
   "cell_type": "code",
   "execution_count": 11,
   "metadata": {},
   "outputs": [
    {
     "name": "stdout",
     "output_type": "stream",
     "text": [
      "   A  B  C\n",
      "x  1  2  3\n",
      "y  4  5  6\n",
      "z  7  8  9\n"
     ]
    }
   ],
   "source": [
    "df = pd.DataFrame([[1, 2, 3], [4, 5, 6], [7, 8, 9]], columns=['A', 'B', 'C'], index=['x', 'y', 'z'])\n",
    "print(df)"
   ]
  },
  {
   "cell_type": "code",
   "execution_count": 12,
   "metadata": {},
   "outputs": [
    {
     "data": {
      "text/plain": [
       "Index(['x', 'y', 'z'], dtype='object')"
      ]
     },
     "execution_count": 12,
     "metadata": {},
     "output_type": "execute_result"
    }
   ],
   "source": [
    "df.index"
   ]
  },
  {
   "cell_type": "code",
   "execution_count": null,
   "metadata": {},
   "outputs": [],
   "source": []
  }
 ],
 "metadata": {
  "kernelspec": {
   "display_name": "testenv",
   "language": "python",
   "name": "python3"
  },
  "language_info": {
   "codemirror_mode": {
    "name": "ipython",
    "version": 3
   },
   "file_extension": ".py",
   "mimetype": "text/x-python",
   "name": "python",
   "nbconvert_exporter": "python",
   "pygments_lexer": "ipython3",
   "version": "3.12.7"
  }
 },
 "nbformat": 4,
 "nbformat_minor": 2
}
